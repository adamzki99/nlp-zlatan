{
  "nbformat": 4,
  "nbformat_minor": 0,
  "metadata": {
    "colab": {
      "provenance": [],
      "toc_visible": true,
      "include_colab_link": true
    },
    "kernelspec": {
      "name": "python3",
      "display_name": "Python 3"
    },
    "language_info": {
      "name": "python"
    },
    "accelerator": "GPU",
    "gpuClass": "standard"
  },
  "cells": [
    {
      "cell_type": "markdown",
      "metadata": {
        "id": "view-in-github",
        "colab_type": "text"
      },
      "source": [
        "<a href=\"https://colab.research.google.com/github/adamzki99/nlp-zlatan/blob/feature%2Fdoc2vec_approach/nlp_zlatan.ipynb\" target=\"_parent\"><img src=\"https://colab.research.google.com/assets/colab-badge.svg\" alt=\"Open In Colab\"/></a>"
      ]
    },
    {
      "cell_type": "markdown",
      "source": [
        "# Connect to Google Drive"
      ],
      "metadata": {
        "id": "1LcgYJ860QY8"
      }
    },
    {
      "cell_type": "code",
      "execution_count": 1,
      "metadata": {
        "id": "gJSvTgIasmNY",
        "colab": {
          "base_uri": "https://localhost:8080/"
        },
        "outputId": "6a1ddc08-4dc0-4ec7-e6c3-c8fcedb46cbe"
      },
      "outputs": [
        {
          "output_type": "stream",
          "name": "stdout",
          "text": [
            "Drive already mounted at /content/drive; to attempt to forcibly remount, call drive.mount(\"/content/drive\", force_remount=True).\n"
          ]
        }
      ],
      "source": [
        "from google.colab import drive\n",
        "drive.mount('/content/drive')"
      ]
    },
    {
      "cell_type": "code",
      "source": [
        "%cd /content/drive/MyDrive/nlp-datasets/wizard_of_wikipedia"
      ],
      "metadata": {
        "id": "asHbxFDYtSbT",
        "colab": {
          "base_uri": "https://localhost:8080/"
        },
        "outputId": "6535716d-1816-4bb5-9f39-45abd5f5224a"
      },
      "execution_count": 2,
      "outputs": [
        {
          "output_type": "stream",
          "name": "stdout",
          "text": [
            "/content/drive/MyDrive/nlp-datasets/wizard_of_wikipedia\n"
          ]
        }
      ]
    },
    {
      "cell_type": "markdown",
      "source": [
        "# Reading the dataset"
      ],
      "metadata": {
        "id": "aaw3vDKc0NyP"
      }
    },
    {
      "cell_type": "code",
      "source": [
        "import json\n",
        "\n",
        "with open('data.json', 'r') as file:\n",
        "    json_data = file.read()\n",
        "    data = json.loads(json_data)\n",
        "\n",
        "print('Datatype:', type(data))"
      ],
      "metadata": {
        "id": "zNAyB_-G0-hl",
        "colab": {
          "base_uri": "https://localhost:8080/"
        },
        "outputId": "59362b27-1d2c-4deb-bbc1-196a9c773082"
      },
      "execution_count": 3,
      "outputs": [
        {
          "output_type": "stream",
          "name": "stdout",
          "text": [
            "Datatype: <class 'list'>\n"
          ]
        }
      ]
    },
    {
      "cell_type": "markdown",
      "source": [
        "# Data exploration\n"
      ],
      "metadata": {
        "id": "-YtskZfY1xax"
      }
    },
    {
      "cell_type": "code",
      "source": [
        "len(data)"
      ],
      "metadata": {
        "id": "s9iCsQnG12Oa"
      },
      "execution_count": null,
      "outputs": []
    },
    {
      "cell_type": "code",
      "source": [
        "data[:5]"
      ],
      "metadata": {
        "id": "LqSiuJuT3yhD"
      },
      "execution_count": null,
      "outputs": []
    },
    {
      "cell_type": "code",
      "source": [
        "data[0].keys()"
      ],
      "metadata": {
        "id": "FItaavoM14Ka"
      },
      "execution_count": null,
      "outputs": []
    },
    {
      "cell_type": "code",
      "source": [
        "data[0]['chosen_topic_passage']"
      ],
      "metadata": {
        "id": "Rx8-W6g716_a"
      },
      "execution_count": null,
      "outputs": []
    },
    {
      "cell_type": "code",
      "source": [
        "data[0].keys()"
      ],
      "metadata": {
        "id": "DUB4GiOa18Fr"
      },
      "execution_count": null,
      "outputs": []
    },
    {
      "cell_type": "code",
      "source": [
        "print(data[0]['persona'])\n",
        "print(data[0]['chosen_topic'])"
      ],
      "metadata": {
        "id": "W8FkeplX19Ti"
      },
      "execution_count": null,
      "outputs": []
    },
    {
      "cell_type": "markdown",
      "source": [
        "Dictionary keys of Wizard"
      ],
      "metadata": {
        "id": "_PhHMPhgxACA"
      }
    },
    {
      "cell_type": "code",
      "source": [
        "data[0]['dialog'][0].keys()"
      ],
      "metadata": {
        "id": "0sdaj_Z21-dB"
      },
      "execution_count": null,
      "outputs": []
    },
    {
      "cell_type": "markdown",
      "source": [
        "Dictionary keys of Apprentice"
      ],
      "metadata": {
        "id": "GOv5VWLBxBC_"
      }
    },
    {
      "cell_type": "code",
      "source": [
        "data[0]['dialog'][1].keys()"
      ],
      "metadata": {
        "id": "xFLYL0kZxC0v"
      },
      "execution_count": null,
      "outputs": []
    },
    {
      "cell_type": "code",
      "source": [
        "for i in range(10):\n",
        "    print(i, \":\", data[0]['dialog'][i]['text'])"
      ],
      "metadata": {
        "id": "vyKUxYnW1_sQ"
      },
      "execution_count": null,
      "outputs": []
    },
    {
      "cell_type": "code",
      "source": [
        "for i in range(10):\n",
        "    print(i, \":\", data[0]['dialog'][i]['retrieved_topics'])"
      ],
      "metadata": {
        "id": "qGAE9W2v2Bgq"
      },
      "execution_count": null,
      "outputs": []
    },
    {
      "cell_type": "code",
      "source": [
        "for i in range(10):\n",
        "    print(i, \":\", data[0]['dialog'][i]['retrieved_passages'])"
      ],
      "metadata": {
        "id": "J9Kqu9tX2Ck3"
      },
      "execution_count": null,
      "outputs": []
    },
    {
      "cell_type": "markdown",
      "source": [
        "## Exploring uniqe types\n",
        "\n",
        "Exploring how many uniqe \"chosen_topic\"s, \"persona\"s and \"wizard_eval\"s there are in the dataset"
      ],
      "metadata": {
        "id": "eehAX-lw3-N0"
      }
    },
    {
      "cell_type": "code",
      "source": [
        "topics = []\n",
        "personas = []\n",
        "wizardEvals = []\n",
        "\n",
        "for entry in data:\n",
        "\n",
        "  topics.append(entry['chosen_topic'])\n",
        "  personas.append(entry['persona'])\n",
        "  wizardEvals.append(entry['wizard_eval'])\n",
        "\n",
        "# Making the list containing only uniqe items\n",
        "topics = list(set(topics))\n",
        "personas = list(set(personas))\n",
        "wizardEvals = list(set(wizardEvals))\n",
        "\n",
        "print(\"topic:\", len(topics), \"persona:\", len(personas), \"wizard_eval:\", len(wizardEvals))"
      ],
      "metadata": {
        "id": "fwRuecUM4w2L"
      },
      "execution_count": null,
      "outputs": []
    },
    {
      "cell_type": "markdown",
      "source": [
        "Why are there more than 5 different \"wizard_eval\"s? The paper only mentions a rating from 1-5. What are the other 2?"
      ],
      "metadata": {
        "id": "yXTQPnbQxQl6"
      }
    },
    {
      "cell_type": "code",
      "source": [
        "for entry in wizardEvals:\n",
        "  print(wizardEvals[entry] )\n",
        "#what's up with -1 and 0? In paper only ratings from 1 to 5 are mentioned"
      ],
      "metadata": {
        "id": "A2XOiKF2xUYT"
      },
      "execution_count": null,
      "outputs": []
    },
    {
      "cell_type": "markdown",
      "source": [
        "How often does each rating occur in \"wizard_eval\"s? Visualize all the different instances in a histogram"
      ],
      "metadata": {
        "id": "kouaxYL5xXDZ"
      }
    },
    {
      "cell_type": "code",
      "source": [
        "import matplotlib.pyplot as plt\n",
        "import numpy as np\n",
        "\n",
        "wEval = []\n",
        "\n",
        "for entry in data:\n",
        "    wEval.append(entry['wizard_eval'])\n",
        "\n",
        "plt.hist(wEval, bins=2*len(set(wEval))) #the number of bins can probably be improved to look nicer\n",
        "plt.yscale('log')\n",
        "plt.show()"
      ],
      "metadata": {
        "id": "UMp8N4p1xcNI"
      },
      "execution_count": null,
      "outputs": []
    },
    {
      "cell_type": "code",
      "source": [
        "# What is a topic?\n",
        "\n",
        "topics[:10]"
      ],
      "metadata": {
        "id": "W7wKG6W26xXh"
      },
      "execution_count": null,
      "outputs": []
    },
    {
      "cell_type": "code",
      "source": [
        "# What is a persona?\n",
        "\n",
        "personas[:10]"
      ],
      "metadata": {
        "id": "lOF94u5a6mVw"
      },
      "execution_count": null,
      "outputs": []
    },
    {
      "cell_type": "markdown",
      "source": [
        "## Open question 1\n",
        "\n",
        "Maybe there is some relation between topics and personas that we might be able to cluster in order to get som further insight?"
      ],
      "metadata": {
        "id": "D0N77y0H7CFi"
      }
    },
    {
      "cell_type": "code",
      "source": [],
      "metadata": {
        "id": "XiVhAovT7MmS"
      },
      "execution_count": null,
      "outputs": []
    },
    {
      "cell_type": "markdown",
      "source": [
        "##Trying to cluster (Farid)"
      ],
      "metadata": {
        "id": "MucRY9lP7QON"
      }
    },
    {
      "cell_type": "markdown",
      "source": [
        "###Data preprocessing"
      ],
      "metadata": {
        "id": "b5Utms4z7Viq"
      }
    },
    {
      "cell_type": "markdown",
      "source": [
        "Preprocess data before clustering "
      ],
      "metadata": {
        "id": "xal8rNbH7Zvr"
      }
    },
    {
      "cell_type": "markdown",
      "source": [
        "Combining chosen_topic and chosen_topic_passage (basically the Wiki article) to try to cluster them afterwards "
      ],
      "metadata": {
        "id": "NqdT4-Xm7z4_"
      }
    },
    {
      "cell_type": "code",
      "source": [
        "topics = [f\"{sample['chosen_topic']}\\n\\n\" + \"\\n\".join([f\"{passage}\" for passage in sample['chosen_topic_passage']]) for sample in data]"
      ],
      "metadata": {
        "id": "qWyfOAoD7ifC"
      },
      "execution_count": null,
      "outputs": []
    },
    {
      "cell_type": "code",
      "source": [
        "print(topics[10]) #The 'chosen_topic' is repepated at the beginning of the article anyway, so no need in repeating it tbh"
      ],
      "metadata": {
        "id": "nInRdTdf_cZt"
      },
      "execution_count": null,
      "outputs": []
    },
    {
      "cell_type": "markdown",
      "source": [
        "###Vectorization of topics using TFIDF"
      ],
      "metadata": {
        "id": "k-uQTfALP9sq"
      }
    },
    {
      "cell_type": "code",
      "source": [
        "from sklearn.feature_extraction.text import TfidfVectorizer\n",
        "\n",
        "vectorizer = TfidfVectorizer(max_df=0.8, min_df=5, stop_words='english')"
      ],
      "metadata": {
        "id": "H5ep44tbP9H5"
      },
      "execution_count": null,
      "outputs": []
    },
    {
      "cell_type": "markdown",
      "source": [
        "Fitting the vectorizer to the data"
      ],
      "metadata": {
        "id": "7sdowEmuQawU"
      }
    },
    {
      "cell_type": "code",
      "source": [
        "vectorizer.fit(topics)"
      ],
      "metadata": {
        "id": "HhqHynK7QSLR"
      },
      "execution_count": null,
      "outputs": []
    },
    {
      "cell_type": "markdown",
      "source": [
        "Size of Vocabulary"
      ],
      "metadata": {
        "id": "zLEcBP5zQjkC"
      }
    },
    {
      "cell_type": "code",
      "source": [
        "vocab = vectorizer.get_feature_names_out()\n",
        "\n",
        "print(f\"Length of vocabulary: {len(vocab)}\")"
      ],
      "metadata": {
        "id": "bz-csGyyQlCr"
      },
      "execution_count": null,
      "outputs": []
    },
    {
      "cell_type": "markdown",
      "source": [
        "Random sampling from Vocabulary"
      ],
      "metadata": {
        "id": "OkVHi3H7Qyr_"
      }
    },
    {
      "cell_type": "code",
      "source": [
        "import random\n",
        "\n",
        "sorted(random.sample(vocab.tolist(),20))"
      ],
      "metadata": {
        "id": "bIlclgl5Q1rD"
      },
      "execution_count": null,
      "outputs": []
    },
    {
      "cell_type": "markdown",
      "source": [
        "Vectorization of topics"
      ],
      "metadata": {
        "id": "6FwBphFcRV8m"
      }
    },
    {
      "cell_type": "code",
      "source": [
        "vector_topics = vectorizer.transform(topics)"
      ],
      "metadata": {
        "id": "YOAMyKaZRtZp"
      },
      "execution_count": null,
      "outputs": []
    },
    {
      "cell_type": "markdown",
      "source": [
        "TF-IDF values of first topic"
      ],
      "metadata": {
        "id": "InVOm9VNSEep"
      }
    },
    {
      "cell_type": "code",
      "source": [
        "sorted([(vocab[j], vector_topics[0, j]) for j in vector_topics[0].nonzero()[1]], key=lambda x: -x[1])"
      ],
      "metadata": {
        "id": "2OeEoUUhR4Rg"
      },
      "execution_count": null,
      "outputs": []
    },
    {
      "cell_type": "markdown",
      "source": [
        "###Minibatch k-means"
      ],
      "metadata": {
        "id": "tXt14CENWFb4"
      }
    },
    {
      "cell_type": "code",
      "source": [
        "from sklearn.cluster import MiniBatchKMeans"
      ],
      "metadata": {
        "id": "niArSuUWWtZz"
      },
      "execution_count": null,
      "outputs": []
    },
    {
      "cell_type": "markdown",
      "source": [
        "####Elbow method to find number of clusters k"
      ],
      "metadata": {
        "id": "ve3UkM3jWRqz"
      }
    },
    {
      "cell_type": "markdown",
      "source": [
        "Generate the performance evaluation measure values across the range of k values -> Decrease k to around 50 to run faster"
      ],
      "metadata": {
        "id": "iSuqAL2IYDhZ"
      }
    },
    {
      "cell_type": "code",
      "source": [
        "performance = [MiniBatchKMeans(n_clusters=k, batch_size=500, random_state=2307).fit(vector_topics).inertia_ for k in range(1,100)]"
      ],
      "metadata": {
        "id": "hkwQ4bIkWWO0"
      },
      "execution_count": null,
      "outputs": []
    },
    {
      "cell_type": "markdown",
      "source": [
        "Use some standard code to plot the performance measure against the value k"
      ],
      "metadata": {
        "id": "Zc9Ykd18X_Lj"
      }
    },
    {
      "cell_type": "code",
      "source": [
        "plt.figure()\n",
        "plt.plot(performance)\n",
        "plt.ylabel('Within-cluster sum-of-squares')\n",
        "plt.xlabel('k')\n",
        "plt.show()"
      ],
      "metadata": {
        "id": "UaSy9Ksz3qRo"
      },
      "execution_count": null,
      "outputs": []
    },
    {
      "cell_type": "markdown",
      "source": [
        "According to tutorial 4: \"In theory it should always increase since the more cluster centroids there are, the more flexibility the model has for describing datapoints (assigning them to clusters)\"\n",
        "\n",
        "So something is probably wrong"
      ],
      "metadata": {
        "id": "RbstLeGmXZrC"
      }
    },
    {
      "cell_type": "markdown",
      "source": [],
      "metadata": {
        "id": "iz1_MQqbknrr"
      }
    },
    {
      "cell_type": "markdown",
      "source": [],
      "metadata": {
        "id": "uJJfW9ixMoA5"
      }
    },
    {
      "cell_type": "markdown",
      "source": [
        "#Doc2Vec Approach (Farid)"
      ],
      "metadata": {
        "id": "ZhVbjwWvMpMh"
      }
    },
    {
      "cell_type": "markdown",
      "source": [
        "##Import necessary tools"
      ],
      "metadata": {
        "id": "GoourtoSgry7"
      }
    },
    {
      "cell_type": "code",
      "source": [
        "%pip install --upgrade gensim\n",
        "import gensim"
      ],
      "metadata": {
        "id": "_XclCLhLgrZz",
        "colab": {
          "base_uri": "https://localhost:8080/"
        },
        "outputId": "28d80c5e-3117-4d80-ad68-853bcee0dc8b"
      },
      "execution_count": 6,
      "outputs": [
        {
          "output_type": "stream",
          "name": "stdout",
          "text": [
            "Looking in indexes: https://pypi.org/simple, https://us-python.pkg.dev/colab-wheels/public/simple/\n",
            "Requirement already satisfied: gensim in /usr/local/lib/python3.10/dist-packages (4.3.1)\n",
            "Requirement already satisfied: numpy>=1.18.5 in /usr/local/lib/python3.10/dist-packages (from gensim) (1.22.4)\n",
            "Requirement already satisfied: scipy>=1.7.0 in /usr/local/lib/python3.10/dist-packages (from gensim) (1.10.1)\n",
            "Requirement already satisfied: smart-open>=1.8.1 in /usr/local/lib/python3.10/dist-packages (from gensim) (6.3.0)\n"
          ]
        }
      ]
    },
    {
      "cell_type": "markdown",
      "source": [
        "Install blas to reduce computation time"
      ],
      "metadata": {
        "id": "jXE3cxWsg3bI"
      }
    },
    {
      "cell_type": "code",
      "source": [
        "#import scipy.linalg\n",
        "#from scipy.linalg import blas\n",
        "#from scipy.linalg.blas import cblas\n",
        "#%pip install numpy pyblas"
      ],
      "metadata": {
        "id": "I9D_bxqGg5_S"
      },
      "execution_count": null,
      "outputs": []
    },
    {
      "cell_type": "markdown",
      "source": [
        "##Import Data"
      ],
      "metadata": {
        "id": "VlrUB_yYMt1n"
      }
    },
    {
      "cell_type": "code",
      "source": [
        "import json\n",
        "\n",
        "with open('data.json', 'r') as file:\n",
        "    json_data = file.read()\n",
        "    data = json.loads(json_data)\n",
        "\n",
        "print('Datatype:', type(data))"
      ],
      "metadata": {
        "id": "DQ_tXD52aBeY"
      },
      "execution_count": null,
      "outputs": []
    },
    {
      "cell_type": "markdown",
      "source": [
        "##Quick look at the Data"
      ],
      "metadata": {
        "id": "MFbl-l79aOen"
      }
    },
    {
      "cell_type": "code",
      "source": [
        "# This dataframe is never used, but it is useful for looking at the dataset\n",
        "\n",
        "import pandas as pd\n",
        "\n",
        "df = pd.DataFrame(data)\n",
        "df"
      ],
      "metadata": {
        "id": "1DxdlaJhaNu1",
        "colab": {
          "base_uri": "https://localhost:8080/",
          "height": 1000
        },
        "outputId": "d02362c7-a9f2-4d50-ddc2-608033783e83"
      },
      "execution_count": 7,
      "outputs": [
        {
          "output_type": "execute_result",
          "data": {
            "text/plain": [
              "                                      chosen_topic  \\\n",
              "0                                  Science fiction   \n",
              "1                                  Internet access   \n",
              "2                                       Pharmacist   \n",
              "3                                      Homebrewing   \n",
              "4                                         Red hair   \n",
              "...                                            ...   \n",
              "22306                                        Green   \n",
              "22307                                   Motivation   \n",
              "22308  List of national parks of the United States   \n",
              "22309                               Kendrick Lamar   \n",
              "22310                                       Skiing   \n",
              "\n",
              "                                               persona  wizard_eval  \\\n",
              "0      i enjoy movies about aliens invading the earth.            5   \n",
              "1                          i have high speed internet.            5   \n",
              "2                                   i am a pharmacist.            5   \n",
              "3                                  i brew my own beer.            5   \n",
              "4                                     i have red hair.            5   \n",
              "...                                                ...          ...   \n",
              "22306                      my favorite color is green.            4   \n",
              "22307                i have trouble getting motivated.            2   \n",
              "22308                  i like to visit national parks.            5   \n",
              "22309                                 i listen to rap.            3   \n",
              "22310                                   i hate skiing.            5   \n",
              "\n",
              "                                                  dialog  \\\n",
              "0      [{'speaker': '0_Wizard', 'text': 'I think scie...   \n",
              "1      [{'speaker': '0_Apprentice', 'text': 'Can you ...   \n",
              "2      [{'speaker': '0_Apprentice', 'text': 'I am jus...   \n",
              "3      [{'speaker': '0_Apprentice', 'text': 'I have h...   \n",
              "4      [{'speaker': '0_Apprentice', 'text': 'red hair...   \n",
              "...                                                  ...   \n",
              "22306  [{'speaker': '0_Wizard', 'text': 'So, you know...   \n",
              "22307  [{'speaker': '0_Wizard', 'text': 'I swear, it ...   \n",
              "22308  [{'speaker': '0_Apprentice', 'text': 'I've bee...   \n",
              "22309  [{'speaker': '0_Wizard', 'text': 'Kendrick Lam...   \n",
              "22310  [{'speaker': '0_Wizard', 'text': 'I knew skiin...   \n",
              "\n",
              "                                    chosen_topic_passage  \n",
              "0      [Science fiction (often shortened to SF or sci...  \n",
              "1      [Internet access is the ability of individuals...  \n",
              "2      [Pharmacists, also known as chemists (Commonwe...  \n",
              "3      [Homebrewing is the brewing of beer on a small...  \n",
              "4      [Red hair (or ginger hair) occurs naturally in...  \n",
              "...                                                  ...  \n",
              "22306  [Green is the color between blue and yellow on...  \n",
              "22307  [Motivation is the reason for people's actions...  \n",
              "22308  [The United States has 59 protected areas know...  \n",
              "22309  [Kendrick Lamar Duckworth (born June 17, 1987)...  \n",
              "22310  [Skiing can be a means of transport, a recreat...  \n",
              "\n",
              "[22311 rows x 5 columns]"
            ],
            "text/html": [
              "\n",
              "  <div id=\"df-5ab1058f-637d-4f7f-9760-df4a8e7cc2d4\">\n",
              "    <div class=\"colab-df-container\">\n",
              "      <div>\n",
              "<style scoped>\n",
              "    .dataframe tbody tr th:only-of-type {\n",
              "        vertical-align: middle;\n",
              "    }\n",
              "\n",
              "    .dataframe tbody tr th {\n",
              "        vertical-align: top;\n",
              "    }\n",
              "\n",
              "    .dataframe thead th {\n",
              "        text-align: right;\n",
              "    }\n",
              "</style>\n",
              "<table border=\"1\" class=\"dataframe\">\n",
              "  <thead>\n",
              "    <tr style=\"text-align: right;\">\n",
              "      <th></th>\n",
              "      <th>chosen_topic</th>\n",
              "      <th>persona</th>\n",
              "      <th>wizard_eval</th>\n",
              "      <th>dialog</th>\n",
              "      <th>chosen_topic_passage</th>\n",
              "    </tr>\n",
              "  </thead>\n",
              "  <tbody>\n",
              "    <tr>\n",
              "      <th>0</th>\n",
              "      <td>Science fiction</td>\n",
              "      <td>i enjoy movies about aliens invading the earth.</td>\n",
              "      <td>5</td>\n",
              "      <td>[{'speaker': '0_Wizard', 'text': 'I think scie...</td>\n",
              "      <td>[Science fiction (often shortened to SF or sci...</td>\n",
              "    </tr>\n",
              "    <tr>\n",
              "      <th>1</th>\n",
              "      <td>Internet access</td>\n",
              "      <td>i have high speed internet.</td>\n",
              "      <td>5</td>\n",
              "      <td>[{'speaker': '0_Apprentice', 'text': 'Can you ...</td>\n",
              "      <td>[Internet access is the ability of individuals...</td>\n",
              "    </tr>\n",
              "    <tr>\n",
              "      <th>2</th>\n",
              "      <td>Pharmacist</td>\n",
              "      <td>i am a pharmacist.</td>\n",
              "      <td>5</td>\n",
              "      <td>[{'speaker': '0_Apprentice', 'text': 'I am jus...</td>\n",
              "      <td>[Pharmacists, also known as chemists (Commonwe...</td>\n",
              "    </tr>\n",
              "    <tr>\n",
              "      <th>3</th>\n",
              "      <td>Homebrewing</td>\n",
              "      <td>i brew my own beer.</td>\n",
              "      <td>5</td>\n",
              "      <td>[{'speaker': '0_Apprentice', 'text': 'I have h...</td>\n",
              "      <td>[Homebrewing is the brewing of beer on a small...</td>\n",
              "    </tr>\n",
              "    <tr>\n",
              "      <th>4</th>\n",
              "      <td>Red hair</td>\n",
              "      <td>i have red hair.</td>\n",
              "      <td>5</td>\n",
              "      <td>[{'speaker': '0_Apprentice', 'text': 'red hair...</td>\n",
              "      <td>[Red hair (or ginger hair) occurs naturally in...</td>\n",
              "    </tr>\n",
              "    <tr>\n",
              "      <th>...</th>\n",
              "      <td>...</td>\n",
              "      <td>...</td>\n",
              "      <td>...</td>\n",
              "      <td>...</td>\n",
              "      <td>...</td>\n",
              "    </tr>\n",
              "    <tr>\n",
              "      <th>22306</th>\n",
              "      <td>Green</td>\n",
              "      <td>my favorite color is green.</td>\n",
              "      <td>4</td>\n",
              "      <td>[{'speaker': '0_Wizard', 'text': 'So, you know...</td>\n",
              "      <td>[Green is the color between blue and yellow on...</td>\n",
              "    </tr>\n",
              "    <tr>\n",
              "      <th>22307</th>\n",
              "      <td>Motivation</td>\n",
              "      <td>i have trouble getting motivated.</td>\n",
              "      <td>2</td>\n",
              "      <td>[{'speaker': '0_Wizard', 'text': 'I swear, it ...</td>\n",
              "      <td>[Motivation is the reason for people's actions...</td>\n",
              "    </tr>\n",
              "    <tr>\n",
              "      <th>22308</th>\n",
              "      <td>List of national parks of the United States</td>\n",
              "      <td>i like to visit national parks.</td>\n",
              "      <td>5</td>\n",
              "      <td>[{'speaker': '0_Apprentice', 'text': 'I've bee...</td>\n",
              "      <td>[The United States has 59 protected areas know...</td>\n",
              "    </tr>\n",
              "    <tr>\n",
              "      <th>22309</th>\n",
              "      <td>Kendrick Lamar</td>\n",
              "      <td>i listen to rap.</td>\n",
              "      <td>3</td>\n",
              "      <td>[{'speaker': '0_Wizard', 'text': 'Kendrick Lam...</td>\n",
              "      <td>[Kendrick Lamar Duckworth (born June 17, 1987)...</td>\n",
              "    </tr>\n",
              "    <tr>\n",
              "      <th>22310</th>\n",
              "      <td>Skiing</td>\n",
              "      <td>i hate skiing.</td>\n",
              "      <td>5</td>\n",
              "      <td>[{'speaker': '0_Wizard', 'text': 'I knew skiin...</td>\n",
              "      <td>[Skiing can be a means of transport, a recreat...</td>\n",
              "    </tr>\n",
              "  </tbody>\n",
              "</table>\n",
              "<p>22311 rows × 5 columns</p>\n",
              "</div>\n",
              "      <button class=\"colab-df-convert\" onclick=\"convertToInteractive('df-5ab1058f-637d-4f7f-9760-df4a8e7cc2d4')\"\n",
              "              title=\"Convert this dataframe to an interactive table.\"\n",
              "              style=\"display:none;\">\n",
              "        \n",
              "  <svg xmlns=\"http://www.w3.org/2000/svg\" height=\"24px\"viewBox=\"0 0 24 24\"\n",
              "       width=\"24px\">\n",
              "    <path d=\"M0 0h24v24H0V0z\" fill=\"none\"/>\n",
              "    <path d=\"M18.56 5.44l.94 2.06.94-2.06 2.06-.94-2.06-.94-.94-2.06-.94 2.06-2.06.94zm-11 1L8.5 8.5l.94-2.06 2.06-.94-2.06-.94L8.5 2.5l-.94 2.06-2.06.94zm10 10l.94 2.06.94-2.06 2.06-.94-2.06-.94-.94-2.06-.94 2.06-2.06.94z\"/><path d=\"M17.41 7.96l-1.37-1.37c-.4-.4-.92-.59-1.43-.59-.52 0-1.04.2-1.43.59L10.3 9.45l-7.72 7.72c-.78.78-.78 2.05 0 2.83L4 21.41c.39.39.9.59 1.41.59.51 0 1.02-.2 1.41-.59l7.78-7.78 2.81-2.81c.8-.78.8-2.07 0-2.86zM5.41 20L4 18.59l7.72-7.72 1.47 1.35L5.41 20z\"/>\n",
              "  </svg>\n",
              "      </button>\n",
              "      \n",
              "  <style>\n",
              "    .colab-df-container {\n",
              "      display:flex;\n",
              "      flex-wrap:wrap;\n",
              "      gap: 12px;\n",
              "    }\n",
              "\n",
              "    .colab-df-convert {\n",
              "      background-color: #E8F0FE;\n",
              "      border: none;\n",
              "      border-radius: 50%;\n",
              "      cursor: pointer;\n",
              "      display: none;\n",
              "      fill: #1967D2;\n",
              "      height: 32px;\n",
              "      padding: 0 0 0 0;\n",
              "      width: 32px;\n",
              "    }\n",
              "\n",
              "    .colab-df-convert:hover {\n",
              "      background-color: #E2EBFA;\n",
              "      box-shadow: 0px 1px 2px rgba(60, 64, 67, 0.3), 0px 1px 3px 1px rgba(60, 64, 67, 0.15);\n",
              "      fill: #174EA6;\n",
              "    }\n",
              "\n",
              "    [theme=dark] .colab-df-convert {\n",
              "      background-color: #3B4455;\n",
              "      fill: #D2E3FC;\n",
              "    }\n",
              "\n",
              "    [theme=dark] .colab-df-convert:hover {\n",
              "      background-color: #434B5C;\n",
              "      box-shadow: 0px 1px 3px 1px rgba(0, 0, 0, 0.15);\n",
              "      filter: drop-shadow(0px 1px 2px rgba(0, 0, 0, 0.3));\n",
              "      fill: #FFFFFF;\n",
              "    }\n",
              "  </style>\n",
              "\n",
              "      <script>\n",
              "        const buttonEl =\n",
              "          document.querySelector('#df-5ab1058f-637d-4f7f-9760-df4a8e7cc2d4 button.colab-df-convert');\n",
              "        buttonEl.style.display =\n",
              "          google.colab.kernel.accessAllowed ? 'block' : 'none';\n",
              "\n",
              "        async function convertToInteractive(key) {\n",
              "          const element = document.querySelector('#df-5ab1058f-637d-4f7f-9760-df4a8e7cc2d4');\n",
              "          const dataTable =\n",
              "            await google.colab.kernel.invokeFunction('convertToInteractive',\n",
              "                                                     [key], {});\n",
              "          if (!dataTable) return;\n",
              "\n",
              "          const docLinkHtml = 'Like what you see? Visit the ' +\n",
              "            '<a target=\"_blank\" href=https://colab.research.google.com/notebooks/data_table.ipynb>data table notebook</a>'\n",
              "            + ' to learn more about interactive tables.';\n",
              "          element.innerHTML = '';\n",
              "          dataTable['output_type'] = 'display_data';\n",
              "          await google.colab.output.renderOutput(dataTable, element);\n",
              "          const docLink = document.createElement('div');\n",
              "          docLink.innerHTML = docLinkHtml;\n",
              "          element.appendChild(docLink);\n",
              "        }\n",
              "      </script>\n",
              "    </div>\n",
              "  </div>\n",
              "  "
            ]
          },
          "metadata": {},
          "execution_count": 7
        }
      ]
    },
    {
      "cell_type": "markdown",
      "source": [
        "##Preparing the Data"
      ],
      "metadata": {
        "id": "qatseS6rEs3m"
      }
    },
    {
      "cell_type": "markdown",
      "source": [
        "###Preparing the training set"
      ],
      "metadata": {
        "id": "ytJRSjzjbzHs"
      }
    },
    {
      "cell_type": "markdown",
      "source": [
        "We first have to decide which Data we want to use to train the model aka what goal are we trying to achieve.\n",
        "As we want to retrieve the correct passage for each turn we should probably train the model on the passages given and then try to retrieve the chosen passage given a sentence from the dialogue"
      ],
      "metadata": {
        "id": "ocWnrIosbiQu"
      }
    },
    {
      "cell_type": "code",
      "source": [
        "import pandas as pd\n",
        "\n",
        "pd.DataFrame(data[0][\"chosen_topic_passage\"])"
      ],
      "metadata": {
        "id": "R0XXR0fnbdK9",
        "colab": {
          "base_uri": "https://localhost:8080/",
          "height": 266
        },
        "outputId": "3a223ee6-7dc8-4eca-b71b-87ee30c47cc6"
      },
      "execution_count": 8,
      "outputs": [
        {
          "output_type": "execute_result",
          "data": {
            "text/plain": [
              "                                                   0\n",
              "0  Science fiction (often shortened to SF or sci-...\n",
              "1  Science fiction often explores the potential c...\n",
              "2  It usually avoids the supernatural, unlike the...\n",
              "3  Historically, science-fiction stories have had...\n",
              "4  Science fiction is difficult to define, as it ...\n",
              "5  Hugo Gernsback, who suggested the term \"scient...\n",
              "6  They supply knowledge... in a very palatable f..."
            ],
            "text/html": [
              "\n",
              "  <div id=\"df-8ac0fafa-e045-44ec-93b2-37b04862f17a\">\n",
              "    <div class=\"colab-df-container\">\n",
              "      <div>\n",
              "<style scoped>\n",
              "    .dataframe tbody tr th:only-of-type {\n",
              "        vertical-align: middle;\n",
              "    }\n",
              "\n",
              "    .dataframe tbody tr th {\n",
              "        vertical-align: top;\n",
              "    }\n",
              "\n",
              "    .dataframe thead th {\n",
              "        text-align: right;\n",
              "    }\n",
              "</style>\n",
              "<table border=\"1\" class=\"dataframe\">\n",
              "  <thead>\n",
              "    <tr style=\"text-align: right;\">\n",
              "      <th></th>\n",
              "      <th>0</th>\n",
              "    </tr>\n",
              "  </thead>\n",
              "  <tbody>\n",
              "    <tr>\n",
              "      <th>0</th>\n",
              "      <td>Science fiction (often shortened to SF or sci-...</td>\n",
              "    </tr>\n",
              "    <tr>\n",
              "      <th>1</th>\n",
              "      <td>Science fiction often explores the potential c...</td>\n",
              "    </tr>\n",
              "    <tr>\n",
              "      <th>2</th>\n",
              "      <td>It usually avoids the supernatural, unlike the...</td>\n",
              "    </tr>\n",
              "    <tr>\n",
              "      <th>3</th>\n",
              "      <td>Historically, science-fiction stories have had...</td>\n",
              "    </tr>\n",
              "    <tr>\n",
              "      <th>4</th>\n",
              "      <td>Science fiction is difficult to define, as it ...</td>\n",
              "    </tr>\n",
              "    <tr>\n",
              "      <th>5</th>\n",
              "      <td>Hugo Gernsback, who suggested the term \"scient...</td>\n",
              "    </tr>\n",
              "    <tr>\n",
              "      <th>6</th>\n",
              "      <td>They supply knowledge... in a very palatable f...</td>\n",
              "    </tr>\n",
              "  </tbody>\n",
              "</table>\n",
              "</div>\n",
              "      <button class=\"colab-df-convert\" onclick=\"convertToInteractive('df-8ac0fafa-e045-44ec-93b2-37b04862f17a')\"\n",
              "              title=\"Convert this dataframe to an interactive table.\"\n",
              "              style=\"display:none;\">\n",
              "        \n",
              "  <svg xmlns=\"http://www.w3.org/2000/svg\" height=\"24px\"viewBox=\"0 0 24 24\"\n",
              "       width=\"24px\">\n",
              "    <path d=\"M0 0h24v24H0V0z\" fill=\"none\"/>\n",
              "    <path d=\"M18.56 5.44l.94 2.06.94-2.06 2.06-.94-2.06-.94-.94-2.06-.94 2.06-2.06.94zm-11 1L8.5 8.5l.94-2.06 2.06-.94-2.06-.94L8.5 2.5l-.94 2.06-2.06.94zm10 10l.94 2.06.94-2.06 2.06-.94-2.06-.94-.94-2.06-.94 2.06-2.06.94z\"/><path d=\"M17.41 7.96l-1.37-1.37c-.4-.4-.92-.59-1.43-.59-.52 0-1.04.2-1.43.59L10.3 9.45l-7.72 7.72c-.78.78-.78 2.05 0 2.83L4 21.41c.39.39.9.59 1.41.59.51 0 1.02-.2 1.41-.59l7.78-7.78 2.81-2.81c.8-.78.8-2.07 0-2.86zM5.41 20L4 18.59l7.72-7.72 1.47 1.35L5.41 20z\"/>\n",
              "  </svg>\n",
              "      </button>\n",
              "      \n",
              "  <style>\n",
              "    .colab-df-container {\n",
              "      display:flex;\n",
              "      flex-wrap:wrap;\n",
              "      gap: 12px;\n",
              "    }\n",
              "\n",
              "    .colab-df-convert {\n",
              "      background-color: #E8F0FE;\n",
              "      border: none;\n",
              "      border-radius: 50%;\n",
              "      cursor: pointer;\n",
              "      display: none;\n",
              "      fill: #1967D2;\n",
              "      height: 32px;\n",
              "      padding: 0 0 0 0;\n",
              "      width: 32px;\n",
              "    }\n",
              "\n",
              "    .colab-df-convert:hover {\n",
              "      background-color: #E2EBFA;\n",
              "      box-shadow: 0px 1px 2px rgba(60, 64, 67, 0.3), 0px 1px 3px 1px rgba(60, 64, 67, 0.15);\n",
              "      fill: #174EA6;\n",
              "    }\n",
              "\n",
              "    [theme=dark] .colab-df-convert {\n",
              "      background-color: #3B4455;\n",
              "      fill: #D2E3FC;\n",
              "    }\n",
              "\n",
              "    [theme=dark] .colab-df-convert:hover {\n",
              "      background-color: #434B5C;\n",
              "      box-shadow: 0px 1px 3px 1px rgba(0, 0, 0, 0.15);\n",
              "      filter: drop-shadow(0px 1px 2px rgba(0, 0, 0, 0.3));\n",
              "      fill: #FFFFFF;\n",
              "    }\n",
              "  </style>\n",
              "\n",
              "      <script>\n",
              "        const buttonEl =\n",
              "          document.querySelector('#df-8ac0fafa-e045-44ec-93b2-37b04862f17a button.colab-df-convert');\n",
              "        buttonEl.style.display =\n",
              "          google.colab.kernel.accessAllowed ? 'block' : 'none';\n",
              "\n",
              "        async function convertToInteractive(key) {\n",
              "          const element = document.querySelector('#df-8ac0fafa-e045-44ec-93b2-37b04862f17a');\n",
              "          const dataTable =\n",
              "            await google.colab.kernel.invokeFunction('convertToInteractive',\n",
              "                                                     [key], {});\n",
              "          if (!dataTable) return;\n",
              "\n",
              "          const docLinkHtml = 'Like what you see? Visit the ' +\n",
              "            '<a target=\"_blank\" href=https://colab.research.google.com/notebooks/data_table.ipynb>data table notebook</a>'\n",
              "            + ' to learn more about interactive tables.';\n",
              "          element.innerHTML = '';\n",
              "          dataTable['output_type'] = 'display_data';\n",
              "          await google.colab.output.renderOutput(dataTable, element);\n",
              "          const docLink = document.createElement('div');\n",
              "          docLink.innerHTML = docLinkHtml;\n",
              "          element.appendChild(docLink);\n",
              "        }\n",
              "      </script>\n",
              "    </div>\n",
              "  </div>\n",
              "  "
            ]
          },
          "metadata": {},
          "execution_count": 8
        }
      ]
    },
    {
      "cell_type": "markdown",
      "source": [
        "So we want to take all the sentences from each \"chosen_topic_passage\" and separately use those as the training data"
      ],
      "metadata": {
        "id": "KdNC7DjkgVhl"
      }
    },
    {
      "cell_type": "code",
      "source": [
        "passages = [[passage for passage in sample['chosen_topic_passage']] for sample in data]\n",
        "pd.DataFrame(passages[:2])"
      ],
      "metadata": {
        "id": "MDF-fjxFjMIt",
        "outputId": "b1790ade-ca1e-4ce1-fafa-28bc7eb5c638",
        "colab": {
          "base_uri": "https://localhost:8080/",
          "height": 223
        }
      },
      "execution_count": 9,
      "outputs": [
        {
          "output_type": "execute_result",
          "data": {
            "text/plain": [
              "                                                   0  \\\n",
              "0  Science fiction (often shortened to SF or sci-...   \n",
              "1  Internet access is the ability of individuals ...   \n",
              "\n",
              "                                                   1  \\\n",
              "0  Science fiction often explores the potential c...   \n",
              "1  Various technologies, at a wide range of speed...   \n",
              "\n",
              "                                                   2  \\\n",
              "0  It usually avoids the supernatural, unlike the...   \n",
              "1  Internet access was once rare, but has grown r...   \n",
              "\n",
              "                                                   3  \\\n",
              "0  Historically, science-fiction stories have had...   \n",
              "1  In 1995, only percent of the world's populatio...   \n",
              "\n",
              "                                                   4  \\\n",
              "0  Science fiction is difficult to define, as it ...   \n",
              "1  By the first decade of the 21st century, many ...   \n",
              "\n",
              "                                                   5  \\\n",
              "0  Hugo Gernsback, who suggested the term \"scient...   \n",
              "1  The Internet developed from the ARPANET, which...   \n",
              "\n",
              "                                                   6  \n",
              "0  They supply knowledge... in a very palatable f...  \n",
              "1  Use by a wider audience only came in 1995 when...  "
            ],
            "text/html": [
              "\n",
              "  <div id=\"df-11c177a7-6be0-451b-9caf-cb82c507cd2e\">\n",
              "    <div class=\"colab-df-container\">\n",
              "      <div>\n",
              "<style scoped>\n",
              "    .dataframe tbody tr th:only-of-type {\n",
              "        vertical-align: middle;\n",
              "    }\n",
              "\n",
              "    .dataframe tbody tr th {\n",
              "        vertical-align: top;\n",
              "    }\n",
              "\n",
              "    .dataframe thead th {\n",
              "        text-align: right;\n",
              "    }\n",
              "</style>\n",
              "<table border=\"1\" class=\"dataframe\">\n",
              "  <thead>\n",
              "    <tr style=\"text-align: right;\">\n",
              "      <th></th>\n",
              "      <th>0</th>\n",
              "      <th>1</th>\n",
              "      <th>2</th>\n",
              "      <th>3</th>\n",
              "      <th>4</th>\n",
              "      <th>5</th>\n",
              "      <th>6</th>\n",
              "    </tr>\n",
              "  </thead>\n",
              "  <tbody>\n",
              "    <tr>\n",
              "      <th>0</th>\n",
              "      <td>Science fiction (often shortened to SF or sci-...</td>\n",
              "      <td>Science fiction often explores the potential c...</td>\n",
              "      <td>It usually avoids the supernatural, unlike the...</td>\n",
              "      <td>Historically, science-fiction stories have had...</td>\n",
              "      <td>Science fiction is difficult to define, as it ...</td>\n",
              "      <td>Hugo Gernsback, who suggested the term \"scient...</td>\n",
              "      <td>They supply knowledge... in a very palatable f...</td>\n",
              "    </tr>\n",
              "    <tr>\n",
              "      <th>1</th>\n",
              "      <td>Internet access is the ability of individuals ...</td>\n",
              "      <td>Various technologies, at a wide range of speed...</td>\n",
              "      <td>Internet access was once rare, but has grown r...</td>\n",
              "      <td>In 1995, only percent of the world's populatio...</td>\n",
              "      <td>By the first decade of the 21st century, many ...</td>\n",
              "      <td>The Internet developed from the ARPANET, which...</td>\n",
              "      <td>Use by a wider audience only came in 1995 when...</td>\n",
              "    </tr>\n",
              "  </tbody>\n",
              "</table>\n",
              "</div>\n",
              "      <button class=\"colab-df-convert\" onclick=\"convertToInteractive('df-11c177a7-6be0-451b-9caf-cb82c507cd2e')\"\n",
              "              title=\"Convert this dataframe to an interactive table.\"\n",
              "              style=\"display:none;\">\n",
              "        \n",
              "  <svg xmlns=\"http://www.w3.org/2000/svg\" height=\"24px\"viewBox=\"0 0 24 24\"\n",
              "       width=\"24px\">\n",
              "    <path d=\"M0 0h24v24H0V0z\" fill=\"none\"/>\n",
              "    <path d=\"M18.56 5.44l.94 2.06.94-2.06 2.06-.94-2.06-.94-.94-2.06-.94 2.06-2.06.94zm-11 1L8.5 8.5l.94-2.06 2.06-.94-2.06-.94L8.5 2.5l-.94 2.06-2.06.94zm10 10l.94 2.06.94-2.06 2.06-.94-2.06-.94-.94-2.06-.94 2.06-2.06.94z\"/><path d=\"M17.41 7.96l-1.37-1.37c-.4-.4-.92-.59-1.43-.59-.52 0-1.04.2-1.43.59L10.3 9.45l-7.72 7.72c-.78.78-.78 2.05 0 2.83L4 21.41c.39.39.9.59 1.41.59.51 0 1.02-.2 1.41-.59l7.78-7.78 2.81-2.81c.8-.78.8-2.07 0-2.86zM5.41 20L4 18.59l7.72-7.72 1.47 1.35L5.41 20z\"/>\n",
              "  </svg>\n",
              "      </button>\n",
              "      \n",
              "  <style>\n",
              "    .colab-df-container {\n",
              "      display:flex;\n",
              "      flex-wrap:wrap;\n",
              "      gap: 12px;\n",
              "    }\n",
              "\n",
              "    .colab-df-convert {\n",
              "      background-color: #E8F0FE;\n",
              "      border: none;\n",
              "      border-radius: 50%;\n",
              "      cursor: pointer;\n",
              "      display: none;\n",
              "      fill: #1967D2;\n",
              "      height: 32px;\n",
              "      padding: 0 0 0 0;\n",
              "      width: 32px;\n",
              "    }\n",
              "\n",
              "    .colab-df-convert:hover {\n",
              "      background-color: #E2EBFA;\n",
              "      box-shadow: 0px 1px 2px rgba(60, 64, 67, 0.3), 0px 1px 3px 1px rgba(60, 64, 67, 0.15);\n",
              "      fill: #174EA6;\n",
              "    }\n",
              "\n",
              "    [theme=dark] .colab-df-convert {\n",
              "      background-color: #3B4455;\n",
              "      fill: #D2E3FC;\n",
              "    }\n",
              "\n",
              "    [theme=dark] .colab-df-convert:hover {\n",
              "      background-color: #434B5C;\n",
              "      box-shadow: 0px 1px 3px 1px rgba(0, 0, 0, 0.15);\n",
              "      filter: drop-shadow(0px 1px 2px rgba(0, 0, 0, 0.3));\n",
              "      fill: #FFFFFF;\n",
              "    }\n",
              "  </style>\n",
              "\n",
              "      <script>\n",
              "        const buttonEl =\n",
              "          document.querySelector('#df-11c177a7-6be0-451b-9caf-cb82c507cd2e button.colab-df-convert');\n",
              "        buttonEl.style.display =\n",
              "          google.colab.kernel.accessAllowed ? 'block' : 'none';\n",
              "\n",
              "        async function convertToInteractive(key) {\n",
              "          const element = document.querySelector('#df-11c177a7-6be0-451b-9caf-cb82c507cd2e');\n",
              "          const dataTable =\n",
              "            await google.colab.kernel.invokeFunction('convertToInteractive',\n",
              "                                                     [key], {});\n",
              "          if (!dataTable) return;\n",
              "\n",
              "          const docLinkHtml = 'Like what you see? Visit the ' +\n",
              "            '<a target=\"_blank\" href=https://colab.research.google.com/notebooks/data_table.ipynb>data table notebook</a>'\n",
              "            + ' to learn more about interactive tables.';\n",
              "          element.innerHTML = '';\n",
              "          dataTable['output_type'] = 'display_data';\n",
              "          await google.colab.output.renderOutput(dataTable, element);\n",
              "          const docLink = document.createElement('div');\n",
              "          docLink.innerHTML = docLinkHtml;\n",
              "          element.appendChild(docLink);\n",
              "        }\n",
              "      </script>\n",
              "    </div>\n",
              "  </div>\n",
              "  "
            ]
          },
          "metadata": {},
          "execution_count": 9
        }
      ]
    },
    {
      "cell_type": "markdown",
      "source": [
        "Now we have a nested list of lists -> let's unfold that list in a way that the nested entries of those lists are their own entries"
      ],
      "metadata": {
        "id": "05A7PUP-lIID"
      }
    },
    {
      "cell_type": "code",
      "source": [
        "sentences = []\n",
        "for i in passages:\n",
        "  for entry in i:\n",
        "    sentences.append(entry)\n",
        "    \n",
        "pd.DataFrame(sentences[:10])"
      ],
      "metadata": {
        "id": "gd0zQIcblSq1",
        "colab": {
          "base_uri": "https://localhost:8080/",
          "height": 359
        },
        "outputId": "fd35b89f-9c3d-47b1-ac15-eaa6dfd51a8d"
      },
      "execution_count": 10,
      "outputs": [
        {
          "output_type": "execute_result",
          "data": {
            "text/plain": [
              "                                                   0\n",
              "0  Science fiction (often shortened to SF or sci-...\n",
              "1  Science fiction often explores the potential c...\n",
              "2  It usually avoids the supernatural, unlike the...\n",
              "3  Historically, science-fiction stories have had...\n",
              "4  Science fiction is difficult to define, as it ...\n",
              "5  Hugo Gernsback, who suggested the term \"scient...\n",
              "6  They supply knowledge... in a very palatable f...\n",
              "7  Internet access is the ability of individuals ...\n",
              "8  Various technologies, at a wide range of speed...\n",
              "9  Internet access was once rare, but has grown r..."
            ],
            "text/html": [
              "\n",
              "  <div id=\"df-66590f16-8bcc-4b85-a719-760cfcbe737e\">\n",
              "    <div class=\"colab-df-container\">\n",
              "      <div>\n",
              "<style scoped>\n",
              "    .dataframe tbody tr th:only-of-type {\n",
              "        vertical-align: middle;\n",
              "    }\n",
              "\n",
              "    .dataframe tbody tr th {\n",
              "        vertical-align: top;\n",
              "    }\n",
              "\n",
              "    .dataframe thead th {\n",
              "        text-align: right;\n",
              "    }\n",
              "</style>\n",
              "<table border=\"1\" class=\"dataframe\">\n",
              "  <thead>\n",
              "    <tr style=\"text-align: right;\">\n",
              "      <th></th>\n",
              "      <th>0</th>\n",
              "    </tr>\n",
              "  </thead>\n",
              "  <tbody>\n",
              "    <tr>\n",
              "      <th>0</th>\n",
              "      <td>Science fiction (often shortened to SF or sci-...</td>\n",
              "    </tr>\n",
              "    <tr>\n",
              "      <th>1</th>\n",
              "      <td>Science fiction often explores the potential c...</td>\n",
              "    </tr>\n",
              "    <tr>\n",
              "      <th>2</th>\n",
              "      <td>It usually avoids the supernatural, unlike the...</td>\n",
              "    </tr>\n",
              "    <tr>\n",
              "      <th>3</th>\n",
              "      <td>Historically, science-fiction stories have had...</td>\n",
              "    </tr>\n",
              "    <tr>\n",
              "      <th>4</th>\n",
              "      <td>Science fiction is difficult to define, as it ...</td>\n",
              "    </tr>\n",
              "    <tr>\n",
              "      <th>5</th>\n",
              "      <td>Hugo Gernsback, who suggested the term \"scient...</td>\n",
              "    </tr>\n",
              "    <tr>\n",
              "      <th>6</th>\n",
              "      <td>They supply knowledge... in a very palatable f...</td>\n",
              "    </tr>\n",
              "    <tr>\n",
              "      <th>7</th>\n",
              "      <td>Internet access is the ability of individuals ...</td>\n",
              "    </tr>\n",
              "    <tr>\n",
              "      <th>8</th>\n",
              "      <td>Various technologies, at a wide range of speed...</td>\n",
              "    </tr>\n",
              "    <tr>\n",
              "      <th>9</th>\n",
              "      <td>Internet access was once rare, but has grown r...</td>\n",
              "    </tr>\n",
              "  </tbody>\n",
              "</table>\n",
              "</div>\n",
              "      <button class=\"colab-df-convert\" onclick=\"convertToInteractive('df-66590f16-8bcc-4b85-a719-760cfcbe737e')\"\n",
              "              title=\"Convert this dataframe to an interactive table.\"\n",
              "              style=\"display:none;\">\n",
              "        \n",
              "  <svg xmlns=\"http://www.w3.org/2000/svg\" height=\"24px\"viewBox=\"0 0 24 24\"\n",
              "       width=\"24px\">\n",
              "    <path d=\"M0 0h24v24H0V0z\" fill=\"none\"/>\n",
              "    <path d=\"M18.56 5.44l.94 2.06.94-2.06 2.06-.94-2.06-.94-.94-2.06-.94 2.06-2.06.94zm-11 1L8.5 8.5l.94-2.06 2.06-.94-2.06-.94L8.5 2.5l-.94 2.06-2.06.94zm10 10l.94 2.06.94-2.06 2.06-.94-2.06-.94-.94-2.06-.94 2.06-2.06.94z\"/><path d=\"M17.41 7.96l-1.37-1.37c-.4-.4-.92-.59-1.43-.59-.52 0-1.04.2-1.43.59L10.3 9.45l-7.72 7.72c-.78.78-.78 2.05 0 2.83L4 21.41c.39.39.9.59 1.41.59.51 0 1.02-.2 1.41-.59l7.78-7.78 2.81-2.81c.8-.78.8-2.07 0-2.86zM5.41 20L4 18.59l7.72-7.72 1.47 1.35L5.41 20z\"/>\n",
              "  </svg>\n",
              "      </button>\n",
              "      \n",
              "  <style>\n",
              "    .colab-df-container {\n",
              "      display:flex;\n",
              "      flex-wrap:wrap;\n",
              "      gap: 12px;\n",
              "    }\n",
              "\n",
              "    .colab-df-convert {\n",
              "      background-color: #E8F0FE;\n",
              "      border: none;\n",
              "      border-radius: 50%;\n",
              "      cursor: pointer;\n",
              "      display: none;\n",
              "      fill: #1967D2;\n",
              "      height: 32px;\n",
              "      padding: 0 0 0 0;\n",
              "      width: 32px;\n",
              "    }\n",
              "\n",
              "    .colab-df-convert:hover {\n",
              "      background-color: #E2EBFA;\n",
              "      box-shadow: 0px 1px 2px rgba(60, 64, 67, 0.3), 0px 1px 3px 1px rgba(60, 64, 67, 0.15);\n",
              "      fill: #174EA6;\n",
              "    }\n",
              "\n",
              "    [theme=dark] .colab-df-convert {\n",
              "      background-color: #3B4455;\n",
              "      fill: #D2E3FC;\n",
              "    }\n",
              "\n",
              "    [theme=dark] .colab-df-convert:hover {\n",
              "      background-color: #434B5C;\n",
              "      box-shadow: 0px 1px 3px 1px rgba(0, 0, 0, 0.15);\n",
              "      filter: drop-shadow(0px 1px 2px rgba(0, 0, 0, 0.3));\n",
              "      fill: #FFFFFF;\n",
              "    }\n",
              "  </style>\n",
              "\n",
              "      <script>\n",
              "        const buttonEl =\n",
              "          document.querySelector('#df-66590f16-8bcc-4b85-a719-760cfcbe737e button.colab-df-convert');\n",
              "        buttonEl.style.display =\n",
              "          google.colab.kernel.accessAllowed ? 'block' : 'none';\n",
              "\n",
              "        async function convertToInteractive(key) {\n",
              "          const element = document.querySelector('#df-66590f16-8bcc-4b85-a719-760cfcbe737e');\n",
              "          const dataTable =\n",
              "            await google.colab.kernel.invokeFunction('convertToInteractive',\n",
              "                                                     [key], {});\n",
              "          if (!dataTable) return;\n",
              "\n",
              "          const docLinkHtml = 'Like what you see? Visit the ' +\n",
              "            '<a target=\"_blank\" href=https://colab.research.google.com/notebooks/data_table.ipynb>data table notebook</a>'\n",
              "            + ' to learn more about interactive tables.';\n",
              "          element.innerHTML = '';\n",
              "          dataTable['output_type'] = 'display_data';\n",
              "          await google.colab.output.renderOutput(dataTable, element);\n",
              "          const docLink = document.createElement('div');\n",
              "          docLink.innerHTML = docLinkHtml;\n",
              "          element.appendChild(docLink);\n",
              "        }\n",
              "      </script>\n",
              "    </div>\n",
              "  </div>\n",
              "  "
            ]
          },
          "metadata": {},
          "execution_count": 10
        }
      ]
    },
    {
      "cell_type": "markdown",
      "source": [
        "Let's check our dataset for duplicates"
      ],
      "metadata": {
        "id": "k5yY0JKz1vZG"
      }
    },
    {
      "cell_type": "code",
      "source": [
        "print(f\"Dataset with duplicates: {len(sentences)}\")\n",
        "\n",
        "#Let's turn the list into a dictionary and then back into a list to eliminate duplicates\n",
        "unique_sentences = list(dict.fromkeys(sentences))\n",
        "print(f\"Cleaned up Dataset: {len(unique_sentences)}\")"
      ],
      "metadata": {
        "colab": {
          "base_uri": "https://localhost:8080/"
        },
        "id": "Ua1NAZjj1yl9",
        "outputId": "87bb285c-a845-45ec-a7ad-9230bba710dc"
      },
      "execution_count": 11,
      "outputs": [
        {
          "output_type": "stream",
          "name": "stdout",
          "text": [
            "Dataset with duplicates: 210354\n",
            "Cleaned up Dataset: 12702\n"
          ]
        }
      ]
    },
    {
      "cell_type": "markdown",
      "source": [
        "*We reduced our dataset to 6% of the original one!*"
      ],
      "metadata": {
        "id": "v_Ee0WzJ2jYs"
      }
    },
    {
      "cell_type": "markdown",
      "source": [
        "###Preparing the test set"
      ],
      "metadata": {
        "id": "Ld8WlB_uJCxD"
      }
    },
    {
      "cell_type": "markdown",
      "source": [
        "For the test set we need all the sentences created by the wizard which are based on sentences from Wikipedia articles aka the training set so we can then test the similarity between those sentences and the training set.\n",
        "This way we want to be able to recover the sentence that was used to craft a response given by the wizard.\n",
        "We should also save the actual used sentence in some dictionary linking the response and the used sentence to be able to evaluate the model\n",
        "\n",
        "Let's take a look at the structure of the dialogue using pandas"
      ],
      "metadata": {
        "id": "GlxpDpdeJZhf"
      }
    },
    {
      "cell_type": "code",
      "source": [
        "import pandas as pd\n",
        "df_dialog = pd.DataFrame(data[0]['dialog'][:2])\n",
        "df_dialog"
      ],
      "metadata": {
        "id": "omjN69epJOeu",
        "outputId": "ab1ef44c-24de-45a8-e60b-5c320867e790",
        "colab": {
          "base_uri": "https://localhost:8080/",
          "height": 189
        }
      },
      "execution_count": 12,
      "outputs": [
        {
          "output_type": "execute_result",
          "data": {
            "text/plain": [
              "        speaker                                               text  \\\n",
              "0      0_Wizard  I think science fiction is an amazing genre fo...   \n",
              "1  1_Apprentice         I'm a huge fan of science fiction myself!    \n",
              "\n",
              "                                    checked_sentence  \\\n",
              "0  {'chosen_Science_fiction_0': 'Science fiction ...   \n",
              "1                                                NaN   \n",
              "\n",
              "                                     checked_passage  \\\n",
              "0  {'chosen_topic_0_Science_fiction': 'Science fi...   \n",
              "1                                                NaN   \n",
              "\n",
              "                                  retrieved_passages  \\\n",
              "0  [{'Hyperspace (science fiction)': ['Hyperspace...   \n",
              "1  [{'Science fiction': ['Science fiction (often ...   \n",
              "\n",
              "                                    retrieved_topics  \n",
              "0  [Hyperspace (science fiction), Science fiction...  \n",
              "1  [Science fiction, History of science fiction, ...  "
            ],
            "text/html": [
              "\n",
              "  <div id=\"df-f919b615-5440-4648-b444-5946b83f5e33\">\n",
              "    <div class=\"colab-df-container\">\n",
              "      <div>\n",
              "<style scoped>\n",
              "    .dataframe tbody tr th:only-of-type {\n",
              "        vertical-align: middle;\n",
              "    }\n",
              "\n",
              "    .dataframe tbody tr th {\n",
              "        vertical-align: top;\n",
              "    }\n",
              "\n",
              "    .dataframe thead th {\n",
              "        text-align: right;\n",
              "    }\n",
              "</style>\n",
              "<table border=\"1\" class=\"dataframe\">\n",
              "  <thead>\n",
              "    <tr style=\"text-align: right;\">\n",
              "      <th></th>\n",
              "      <th>speaker</th>\n",
              "      <th>text</th>\n",
              "      <th>checked_sentence</th>\n",
              "      <th>checked_passage</th>\n",
              "      <th>retrieved_passages</th>\n",
              "      <th>retrieved_topics</th>\n",
              "    </tr>\n",
              "  </thead>\n",
              "  <tbody>\n",
              "    <tr>\n",
              "      <th>0</th>\n",
              "      <td>0_Wizard</td>\n",
              "      <td>I think science fiction is an amazing genre fo...</td>\n",
              "      <td>{'chosen_Science_fiction_0': 'Science fiction ...</td>\n",
              "      <td>{'chosen_topic_0_Science_fiction': 'Science fi...</td>\n",
              "      <td>[{'Hyperspace (science fiction)': ['Hyperspace...</td>\n",
              "      <td>[Hyperspace (science fiction), Science fiction...</td>\n",
              "    </tr>\n",
              "    <tr>\n",
              "      <th>1</th>\n",
              "      <td>1_Apprentice</td>\n",
              "      <td>I'm a huge fan of science fiction myself!</td>\n",
              "      <td>NaN</td>\n",
              "      <td>NaN</td>\n",
              "      <td>[{'Science fiction': ['Science fiction (often ...</td>\n",
              "      <td>[Science fiction, History of science fiction, ...</td>\n",
              "    </tr>\n",
              "  </tbody>\n",
              "</table>\n",
              "</div>\n",
              "      <button class=\"colab-df-convert\" onclick=\"convertToInteractive('df-f919b615-5440-4648-b444-5946b83f5e33')\"\n",
              "              title=\"Convert this dataframe to an interactive table.\"\n",
              "              style=\"display:none;\">\n",
              "        \n",
              "  <svg xmlns=\"http://www.w3.org/2000/svg\" height=\"24px\"viewBox=\"0 0 24 24\"\n",
              "       width=\"24px\">\n",
              "    <path d=\"M0 0h24v24H0V0z\" fill=\"none\"/>\n",
              "    <path d=\"M18.56 5.44l.94 2.06.94-2.06 2.06-.94-2.06-.94-.94-2.06-.94 2.06-2.06.94zm-11 1L8.5 8.5l.94-2.06 2.06-.94-2.06-.94L8.5 2.5l-.94 2.06-2.06.94zm10 10l.94 2.06.94-2.06 2.06-.94-2.06-.94-.94-2.06-.94 2.06-2.06.94z\"/><path d=\"M17.41 7.96l-1.37-1.37c-.4-.4-.92-.59-1.43-.59-.52 0-1.04.2-1.43.59L10.3 9.45l-7.72 7.72c-.78.78-.78 2.05 0 2.83L4 21.41c.39.39.9.59 1.41.59.51 0 1.02-.2 1.41-.59l7.78-7.78 2.81-2.81c.8-.78.8-2.07 0-2.86zM5.41 20L4 18.59l7.72-7.72 1.47 1.35L5.41 20z\"/>\n",
              "  </svg>\n",
              "      </button>\n",
              "      \n",
              "  <style>\n",
              "    .colab-df-container {\n",
              "      display:flex;\n",
              "      flex-wrap:wrap;\n",
              "      gap: 12px;\n",
              "    }\n",
              "\n",
              "    .colab-df-convert {\n",
              "      background-color: #E8F0FE;\n",
              "      border: none;\n",
              "      border-radius: 50%;\n",
              "      cursor: pointer;\n",
              "      display: none;\n",
              "      fill: #1967D2;\n",
              "      height: 32px;\n",
              "      padding: 0 0 0 0;\n",
              "      width: 32px;\n",
              "    }\n",
              "\n",
              "    .colab-df-convert:hover {\n",
              "      background-color: #E2EBFA;\n",
              "      box-shadow: 0px 1px 2px rgba(60, 64, 67, 0.3), 0px 1px 3px 1px rgba(60, 64, 67, 0.15);\n",
              "      fill: #174EA6;\n",
              "    }\n",
              "\n",
              "    [theme=dark] .colab-df-convert {\n",
              "      background-color: #3B4455;\n",
              "      fill: #D2E3FC;\n",
              "    }\n",
              "\n",
              "    [theme=dark] .colab-df-convert:hover {\n",
              "      background-color: #434B5C;\n",
              "      box-shadow: 0px 1px 3px 1px rgba(0, 0, 0, 0.15);\n",
              "      filter: drop-shadow(0px 1px 2px rgba(0, 0, 0, 0.3));\n",
              "      fill: #FFFFFF;\n",
              "    }\n",
              "  </style>\n",
              "\n",
              "      <script>\n",
              "        const buttonEl =\n",
              "          document.querySelector('#df-f919b615-5440-4648-b444-5946b83f5e33 button.colab-df-convert');\n",
              "        buttonEl.style.display =\n",
              "          google.colab.kernel.accessAllowed ? 'block' : 'none';\n",
              "\n",
              "        async function convertToInteractive(key) {\n",
              "          const element = document.querySelector('#df-f919b615-5440-4648-b444-5946b83f5e33');\n",
              "          const dataTable =\n",
              "            await google.colab.kernel.invokeFunction('convertToInteractive',\n",
              "                                                     [key], {});\n",
              "          if (!dataTable) return;\n",
              "\n",
              "          const docLinkHtml = 'Like what you see? Visit the ' +\n",
              "            '<a target=\"_blank\" href=https://colab.research.google.com/notebooks/data_table.ipynb>data table notebook</a>'\n",
              "            + ' to learn more about interactive tables.';\n",
              "          element.innerHTML = '';\n",
              "          dataTable['output_type'] = 'display_data';\n",
              "          await google.colab.output.renderOutput(dataTable, element);\n",
              "          const docLink = document.createElement('div');\n",
              "          docLink.innerHTML = docLinkHtml;\n",
              "          element.appendChild(docLink);\n",
              "        }\n",
              "      </script>\n",
              "    </div>\n",
              "  </div>\n",
              "  "
            ]
          },
          "metadata": {},
          "execution_count": 12
        }
      ]
    },
    {
      "cell_type": "code",
      "source": [
        "def get_value_from_dict(dictionary):\n",
        "    for _, value in dictionary.items():\n",
        "            return value"
      ],
      "metadata": {
        "id": "cswNO0TmiLCC"
      },
      "execution_count": 13,
      "outputs": []
    },
    {
      "cell_type": "code",
      "source": [
        "print(get_value_from_dict(data[0]['dialog'][0]['checked_sentence']))"
      ],
      "metadata": {
        "id": "0jg8B3zLiUp7",
        "outputId": "e4a5e276-822d-4d9e-ae23-e5c71ffbe1ba",
        "colab": {
          "base_uri": "https://localhost:8080/"
        }
      },
      "execution_count": 14,
      "outputs": [
        {
          "output_type": "stream",
          "name": "stdout",
          "text": [
            "Science fiction (often shortened to SF or sci-fi) is a genre of speculative fiction, typically dealing with imaginative concepts such as futuristic science and technology, space travel, time travel, faster than light travel, parallel universes, and extraterrestrial life.\n"
          ]
        }
      ]
    },
    {
      "cell_type": "code",
      "source": [
        "#Create dictionary with responses and chosen sentences and list with just responses\n",
        "response_sentence_pairs = {}\n",
        "wizard_resps = []\n",
        "\n",
        "for dialogue in data:\n",
        "  for entry in dialogue['dialog']:\n",
        "    if not 'Wizard' in entry['speaker']: #the apprentice doesn't have any responses based on sentences from training set\n",
        "      continue\n",
        "\n",
        "    if 'no_passages_used' in entry['checked_sentence']:\n",
        "      continue\n",
        "\n",
        "    extracted_text = get_value_from_dict(entry['checked_sentence'])\n",
        "\n",
        "    response_sentence_pairs.update({entry['text']:extracted_text})\n",
        "    wizard_resps.append(entry['text'])"
      ],
      "metadata": {
        "id": "F0MszpxuLonr"
      },
      "execution_count": 15,
      "outputs": []
    },
    {
      "cell_type": "markdown",
      "source": [
        "Let's check our new dictionary"
      ],
      "metadata": {
        "id": "cRwWqoNuLsQ5"
      }
    },
    {
      "cell_type": "code",
      "source": [
        "dict_items = response_sentence_pairs.items()\n",
        "print(list(dict_items)[:2])"
      ],
      "metadata": {
        "id": "IPnM9BpWLxKr",
        "outputId": "735a9cd8-e9aa-4c2c-e5cb-ef7ca14b0e82",
        "colab": {
          "base_uri": "https://localhost:8080/"
        }
      },
      "execution_count": 16,
      "outputs": [
        {
          "output_type": "stream",
          "name": "stdout",
          "text": [
            "[(\"I think science fiction is an amazing genre for anything. Future science, technology, time travel, FTL travel, they're all such interesting concepts.\", 'Science fiction (often shortened to SF or sci-fi) is a genre of speculative fiction, typically dealing with imaginative concepts such as futuristic science and technology, space travel, time travel, faster than light travel, parallel universes, and extraterrestrial life.'), ('Awesome! I really love how sci-fi storytellers focus on political/social/philosophical issues that would still be around even in the future. Makes them relatable.', 'Science fiction films have often been used to focus on political or social issues, and to explore philosophical issues like the human condition.')]\n"
          ]
        }
      ]
    },
    {
      "cell_type": "markdown",
      "source": [
        "Check out the list"
      ],
      "metadata": {
        "id": "Zup62KV_L9-L"
      }
    },
    {
      "cell_type": "code",
      "source": [
        "wizard_resps[:2]"
      ],
      "metadata": {
        "colab": {
          "base_uri": "https://localhost:8080/"
        },
        "id": "L3MRuGFjKai2",
        "outputId": "7f644c50-0189-451a-d702-9c8c9b696c14"
      },
      "execution_count": 17,
      "outputs": [
        {
          "output_type": "execute_result",
          "data": {
            "text/plain": [
              "[\"I think science fiction is an amazing genre for anything. Future science, technology, time travel, FTL travel, they're all such interesting concepts.\",\n",
              " 'Awesome! I really love how sci-fi storytellers focus on political/social/philosophical issues that would still be around even in the future. Makes them relatable.']"
            ]
          },
          "metadata": {},
          "execution_count": 17
        }
      ]
    },
    {
      "cell_type": "markdown",
      "source": [
        "*Great, now we have a list with all the responses given by the wizard and a dictionary linking all the responses to the original source sentences.*\n",
        "\n",
        "Do we have any duplicates?"
      ],
      "metadata": {
        "id": "-txcpsL4KreT"
      }
    },
    {
      "cell_type": "code",
      "source": [
        "print(f\"Dataset with duplicates: {len(wizard_resps)}\")\n",
        "\n",
        "#Eliminating a few duplicates\n",
        "unique_resps = list(dict.fromkeys(wizard_resps))\n",
        "print(f\"Cleaned up Dataset: {len(unique_resps)}\")"
      ],
      "metadata": {
        "id": "fqWZc0iOMVMU",
        "outputId": "91729887-0407-422b-fc17-fa812e30b0df",
        "colab": {
          "base_uri": "https://localhost:8080/"
        }
      },
      "execution_count": 18,
      "outputs": [
        {
          "output_type": "stream",
          "name": "stdout",
          "text": [
            "Dataset with duplicates: 94664\n",
            "Cleaned up Dataset: 94585\n"
          ]
        }
      ]
    },
    {
      "cell_type": "markdown",
      "source": [
        "It seems so, but just a few. How come we have around ten times more responses, than source sentences?"
      ],
      "metadata": {
        "id": "fI_qTky2Mfeg"
      }
    },
    {
      "cell_type": "markdown",
      "source": [
        "###Preprocess the Data"
      ],
      "metadata": {
        "id": "RtdD5vcSm4Ul"
      }
    },
    {
      "cell_type": "markdown",
      "source": [
        "Let's define a function for preprocessing our data \n",
        "\n",
        "-> *Sadly simple_preprocess removes numbers which would be very useful for retrieval of very specific data*\n",
        "\n",
        "\n",
        "-> *Also consider taking out stopwords*"
      ],
      "metadata": {
        "id": "n2_Oo8r-mqPS"
      }
    },
    {
      "cell_type": "code",
      "source": [
        "#import nltk\n",
        "#from nltk.corpus import stopwords\n",
        "\n",
        "def preprocess(data,tokens_only=False):\n",
        "  for i, line in enumerate(data):\n",
        "    tokens = gensim.utils.simple_preprocess(line, min_len=2, max_len=20)\n",
        "    if tokens_only:\n",
        "      yield tokens\n",
        "    else:\n",
        "      # For training data, add tags\n",
        "      yield gensim.models.doc2vec.TaggedDocument(tokens, [i])"
      ],
      "metadata": {
        "id": "-iA2cPQqmybo"
      },
      "execution_count": 19,
      "outputs": []
    },
    {
      "cell_type": "code",
      "source": [
        "train_corpus = list(preprocess(unique_sentences))\n",
        "test_corpus = list(preprocess(wizard_resps,tokens_only=True))"
      ],
      "metadata": {
        "id": "YjEVPsKXm6A7",
        "outputId": "e325bddb-daa3-4b11-8949-5775ac2ba3fa",
        "colab": {
          "base_uri": "https://localhost:8080/",
          "height": 359
        }
      },
      "execution_count": 20,
      "outputs": [
        {
          "output_type": "execute_result",
          "data": {
            "text/plain": [
              "                                               words tags\n",
              "0  [science, fiction, often, shortened, to, sf, o...  [0]\n",
              "1  [science, fiction, often, explores, the, poten...  [1]\n",
              "2  [it, usually, avoids, the, supernatural, unlik...  [2]\n",
              "3  [historically, science, fiction, stories, have...  [3]\n",
              "4  [science, fiction, is, difficult, to, define, ...  [4]\n",
              "5  [hugo, gernsback, who, suggested, the, term, s...  [5]\n",
              "6  [they, supply, knowledge, in, very, palatable,...  [6]\n",
              "7  [internet, access, is, the, ability, of, indiv...  [7]\n",
              "8  [various, technologies, at, wide, range, of, s...  [8]\n",
              "9  [internet, access, was, once, rare, but, has, ...  [9]"
            ],
            "text/html": [
              "\n",
              "  <div id=\"df-4890e2d5-dda5-4f82-9fd2-e56cfff9a06f\">\n",
              "    <div class=\"colab-df-container\">\n",
              "      <div>\n",
              "<style scoped>\n",
              "    .dataframe tbody tr th:only-of-type {\n",
              "        vertical-align: middle;\n",
              "    }\n",
              "\n",
              "    .dataframe tbody tr th {\n",
              "        vertical-align: top;\n",
              "    }\n",
              "\n",
              "    .dataframe thead th {\n",
              "        text-align: right;\n",
              "    }\n",
              "</style>\n",
              "<table border=\"1\" class=\"dataframe\">\n",
              "  <thead>\n",
              "    <tr style=\"text-align: right;\">\n",
              "      <th></th>\n",
              "      <th>words</th>\n",
              "      <th>tags</th>\n",
              "    </tr>\n",
              "  </thead>\n",
              "  <tbody>\n",
              "    <tr>\n",
              "      <th>0</th>\n",
              "      <td>[science, fiction, often, shortened, to, sf, o...</td>\n",
              "      <td>[0]</td>\n",
              "    </tr>\n",
              "    <tr>\n",
              "      <th>1</th>\n",
              "      <td>[science, fiction, often, explores, the, poten...</td>\n",
              "      <td>[1]</td>\n",
              "    </tr>\n",
              "    <tr>\n",
              "      <th>2</th>\n",
              "      <td>[it, usually, avoids, the, supernatural, unlik...</td>\n",
              "      <td>[2]</td>\n",
              "    </tr>\n",
              "    <tr>\n",
              "      <th>3</th>\n",
              "      <td>[historically, science, fiction, stories, have...</td>\n",
              "      <td>[3]</td>\n",
              "    </tr>\n",
              "    <tr>\n",
              "      <th>4</th>\n",
              "      <td>[science, fiction, is, difficult, to, define, ...</td>\n",
              "      <td>[4]</td>\n",
              "    </tr>\n",
              "    <tr>\n",
              "      <th>5</th>\n",
              "      <td>[hugo, gernsback, who, suggested, the, term, s...</td>\n",
              "      <td>[5]</td>\n",
              "    </tr>\n",
              "    <tr>\n",
              "      <th>6</th>\n",
              "      <td>[they, supply, knowledge, in, very, palatable,...</td>\n",
              "      <td>[6]</td>\n",
              "    </tr>\n",
              "    <tr>\n",
              "      <th>7</th>\n",
              "      <td>[internet, access, is, the, ability, of, indiv...</td>\n",
              "      <td>[7]</td>\n",
              "    </tr>\n",
              "    <tr>\n",
              "      <th>8</th>\n",
              "      <td>[various, technologies, at, wide, range, of, s...</td>\n",
              "      <td>[8]</td>\n",
              "    </tr>\n",
              "    <tr>\n",
              "      <th>9</th>\n",
              "      <td>[internet, access, was, once, rare, but, has, ...</td>\n",
              "      <td>[9]</td>\n",
              "    </tr>\n",
              "  </tbody>\n",
              "</table>\n",
              "</div>\n",
              "      <button class=\"colab-df-convert\" onclick=\"convertToInteractive('df-4890e2d5-dda5-4f82-9fd2-e56cfff9a06f')\"\n",
              "              title=\"Convert this dataframe to an interactive table.\"\n",
              "              style=\"display:none;\">\n",
              "        \n",
              "  <svg xmlns=\"http://www.w3.org/2000/svg\" height=\"24px\"viewBox=\"0 0 24 24\"\n",
              "       width=\"24px\">\n",
              "    <path d=\"M0 0h24v24H0V0z\" fill=\"none\"/>\n",
              "    <path d=\"M18.56 5.44l.94 2.06.94-2.06 2.06-.94-2.06-.94-.94-2.06-.94 2.06-2.06.94zm-11 1L8.5 8.5l.94-2.06 2.06-.94-2.06-.94L8.5 2.5l-.94 2.06-2.06.94zm10 10l.94 2.06.94-2.06 2.06-.94-2.06-.94-.94-2.06-.94 2.06-2.06.94z\"/><path d=\"M17.41 7.96l-1.37-1.37c-.4-.4-.92-.59-1.43-.59-.52 0-1.04.2-1.43.59L10.3 9.45l-7.72 7.72c-.78.78-.78 2.05 0 2.83L4 21.41c.39.39.9.59 1.41.59.51 0 1.02-.2 1.41-.59l7.78-7.78 2.81-2.81c.8-.78.8-2.07 0-2.86zM5.41 20L4 18.59l7.72-7.72 1.47 1.35L5.41 20z\"/>\n",
              "  </svg>\n",
              "      </button>\n",
              "      \n",
              "  <style>\n",
              "    .colab-df-container {\n",
              "      display:flex;\n",
              "      flex-wrap:wrap;\n",
              "      gap: 12px;\n",
              "    }\n",
              "\n",
              "    .colab-df-convert {\n",
              "      background-color: #E8F0FE;\n",
              "      border: none;\n",
              "      border-radius: 50%;\n",
              "      cursor: pointer;\n",
              "      display: none;\n",
              "      fill: #1967D2;\n",
              "      height: 32px;\n",
              "      padding: 0 0 0 0;\n",
              "      width: 32px;\n",
              "    }\n",
              "\n",
              "    .colab-df-convert:hover {\n",
              "      background-color: #E2EBFA;\n",
              "      box-shadow: 0px 1px 2px rgba(60, 64, 67, 0.3), 0px 1px 3px 1px rgba(60, 64, 67, 0.15);\n",
              "      fill: #174EA6;\n",
              "    }\n",
              "\n",
              "    [theme=dark] .colab-df-convert {\n",
              "      background-color: #3B4455;\n",
              "      fill: #D2E3FC;\n",
              "    }\n",
              "\n",
              "    [theme=dark] .colab-df-convert:hover {\n",
              "      background-color: #434B5C;\n",
              "      box-shadow: 0px 1px 3px 1px rgba(0, 0, 0, 0.15);\n",
              "      filter: drop-shadow(0px 1px 2px rgba(0, 0, 0, 0.3));\n",
              "      fill: #FFFFFF;\n",
              "    }\n",
              "  </style>\n",
              "\n",
              "      <script>\n",
              "        const buttonEl =\n",
              "          document.querySelector('#df-4890e2d5-dda5-4f82-9fd2-e56cfff9a06f button.colab-df-convert');\n",
              "        buttonEl.style.display =\n",
              "          google.colab.kernel.accessAllowed ? 'block' : 'none';\n",
              "\n",
              "        async function convertToInteractive(key) {\n",
              "          const element = document.querySelector('#df-4890e2d5-dda5-4f82-9fd2-e56cfff9a06f');\n",
              "          const dataTable =\n",
              "            await google.colab.kernel.invokeFunction('convertToInteractive',\n",
              "                                                     [key], {});\n",
              "          if (!dataTable) return;\n",
              "\n",
              "          const docLinkHtml = 'Like what you see? Visit the ' +\n",
              "            '<a target=\"_blank\" href=https://colab.research.google.com/notebooks/data_table.ipynb>data table notebook</a>'\n",
              "            + ' to learn more about interactive tables.';\n",
              "          element.innerHTML = '';\n",
              "          dataTable['output_type'] = 'display_data';\n",
              "          await google.colab.output.renderOutput(dataTable, element);\n",
              "          const docLink = document.createElement('div');\n",
              "          docLink.innerHTML = docLinkHtml;\n",
              "          element.appendChild(docLink);\n",
              "        }\n",
              "      </script>\n",
              "    </div>\n",
              "  </div>\n",
              "  "
            ]
          },
          "metadata": {},
          "execution_count": 20
        }
      ]
    },
    {
      "cell_type": "markdown",
      "source": [
        "####Visualization of structure of train_corpus and test_corpus"
      ],
      "metadata": {
        "id": "Wz_hi3kdPg0-"
      }
    },
    {
      "cell_type": "code",
      "source": [
        "pd.DataFrame(train_corpus[:10])"
      ],
      "metadata": {
        "id": "Yu2dhnDKPnpS",
        "outputId": "04fb6501-6bbe-42fa-c1f6-91771a276f1a",
        "colab": {
          "base_uri": "https://localhost:8080/",
          "height": 359
        }
      },
      "execution_count": 24,
      "outputs": [
        {
          "output_type": "execute_result",
          "data": {
            "text/plain": [
              "                                               words tags\n",
              "0  [science, fiction, often, shortened, to, sf, o...  [0]\n",
              "1  [science, fiction, often, explores, the, poten...  [1]\n",
              "2  [it, usually, avoids, the, supernatural, unlik...  [2]\n",
              "3  [historically, science, fiction, stories, have...  [3]\n",
              "4  [science, fiction, is, difficult, to, define, ...  [4]\n",
              "5  [hugo, gernsback, who, suggested, the, term, s...  [5]\n",
              "6  [they, supply, knowledge, in, very, palatable,...  [6]\n",
              "7  [internet, access, is, the, ability, of, indiv...  [7]\n",
              "8  [various, technologies, at, wide, range, of, s...  [8]\n",
              "9  [internet, access, was, once, rare, but, has, ...  [9]"
            ],
            "text/html": [
              "\n",
              "  <div id=\"df-9c9ce1e1-115e-4bec-a393-043fdeb59cb2\">\n",
              "    <div class=\"colab-df-container\">\n",
              "      <div>\n",
              "<style scoped>\n",
              "    .dataframe tbody tr th:only-of-type {\n",
              "        vertical-align: middle;\n",
              "    }\n",
              "\n",
              "    .dataframe tbody tr th {\n",
              "        vertical-align: top;\n",
              "    }\n",
              "\n",
              "    .dataframe thead th {\n",
              "        text-align: right;\n",
              "    }\n",
              "</style>\n",
              "<table border=\"1\" class=\"dataframe\">\n",
              "  <thead>\n",
              "    <tr style=\"text-align: right;\">\n",
              "      <th></th>\n",
              "      <th>words</th>\n",
              "      <th>tags</th>\n",
              "    </tr>\n",
              "  </thead>\n",
              "  <tbody>\n",
              "    <tr>\n",
              "      <th>0</th>\n",
              "      <td>[science, fiction, often, shortened, to, sf, o...</td>\n",
              "      <td>[0]</td>\n",
              "    </tr>\n",
              "    <tr>\n",
              "      <th>1</th>\n",
              "      <td>[science, fiction, often, explores, the, poten...</td>\n",
              "      <td>[1]</td>\n",
              "    </tr>\n",
              "    <tr>\n",
              "      <th>2</th>\n",
              "      <td>[it, usually, avoids, the, supernatural, unlik...</td>\n",
              "      <td>[2]</td>\n",
              "    </tr>\n",
              "    <tr>\n",
              "      <th>3</th>\n",
              "      <td>[historically, science, fiction, stories, have...</td>\n",
              "      <td>[3]</td>\n",
              "    </tr>\n",
              "    <tr>\n",
              "      <th>4</th>\n",
              "      <td>[science, fiction, is, difficult, to, define, ...</td>\n",
              "      <td>[4]</td>\n",
              "    </tr>\n",
              "    <tr>\n",
              "      <th>5</th>\n",
              "      <td>[hugo, gernsback, who, suggested, the, term, s...</td>\n",
              "      <td>[5]</td>\n",
              "    </tr>\n",
              "    <tr>\n",
              "      <th>6</th>\n",
              "      <td>[they, supply, knowledge, in, very, palatable,...</td>\n",
              "      <td>[6]</td>\n",
              "    </tr>\n",
              "    <tr>\n",
              "      <th>7</th>\n",
              "      <td>[internet, access, is, the, ability, of, indiv...</td>\n",
              "      <td>[7]</td>\n",
              "    </tr>\n",
              "    <tr>\n",
              "      <th>8</th>\n",
              "      <td>[various, technologies, at, wide, range, of, s...</td>\n",
              "      <td>[8]</td>\n",
              "    </tr>\n",
              "    <tr>\n",
              "      <th>9</th>\n",
              "      <td>[internet, access, was, once, rare, but, has, ...</td>\n",
              "      <td>[9]</td>\n",
              "    </tr>\n",
              "  </tbody>\n",
              "</table>\n",
              "</div>\n",
              "      <button class=\"colab-df-convert\" onclick=\"convertToInteractive('df-9c9ce1e1-115e-4bec-a393-043fdeb59cb2')\"\n",
              "              title=\"Convert this dataframe to an interactive table.\"\n",
              "              style=\"display:none;\">\n",
              "        \n",
              "  <svg xmlns=\"http://www.w3.org/2000/svg\" height=\"24px\"viewBox=\"0 0 24 24\"\n",
              "       width=\"24px\">\n",
              "    <path d=\"M0 0h24v24H0V0z\" fill=\"none\"/>\n",
              "    <path d=\"M18.56 5.44l.94 2.06.94-2.06 2.06-.94-2.06-.94-.94-2.06-.94 2.06-2.06.94zm-11 1L8.5 8.5l.94-2.06 2.06-.94-2.06-.94L8.5 2.5l-.94 2.06-2.06.94zm10 10l.94 2.06.94-2.06 2.06-.94-2.06-.94-.94-2.06-.94 2.06-2.06.94z\"/><path d=\"M17.41 7.96l-1.37-1.37c-.4-.4-.92-.59-1.43-.59-.52 0-1.04.2-1.43.59L10.3 9.45l-7.72 7.72c-.78.78-.78 2.05 0 2.83L4 21.41c.39.39.9.59 1.41.59.51 0 1.02-.2 1.41-.59l7.78-7.78 2.81-2.81c.8-.78.8-2.07 0-2.86zM5.41 20L4 18.59l7.72-7.72 1.47 1.35L5.41 20z\"/>\n",
              "  </svg>\n",
              "      </button>\n",
              "      \n",
              "  <style>\n",
              "    .colab-df-container {\n",
              "      display:flex;\n",
              "      flex-wrap:wrap;\n",
              "      gap: 12px;\n",
              "    }\n",
              "\n",
              "    .colab-df-convert {\n",
              "      background-color: #E8F0FE;\n",
              "      border: none;\n",
              "      border-radius: 50%;\n",
              "      cursor: pointer;\n",
              "      display: none;\n",
              "      fill: #1967D2;\n",
              "      height: 32px;\n",
              "      padding: 0 0 0 0;\n",
              "      width: 32px;\n",
              "    }\n",
              "\n",
              "    .colab-df-convert:hover {\n",
              "      background-color: #E2EBFA;\n",
              "      box-shadow: 0px 1px 2px rgba(60, 64, 67, 0.3), 0px 1px 3px 1px rgba(60, 64, 67, 0.15);\n",
              "      fill: #174EA6;\n",
              "    }\n",
              "\n",
              "    [theme=dark] .colab-df-convert {\n",
              "      background-color: #3B4455;\n",
              "      fill: #D2E3FC;\n",
              "    }\n",
              "\n",
              "    [theme=dark] .colab-df-convert:hover {\n",
              "      background-color: #434B5C;\n",
              "      box-shadow: 0px 1px 3px 1px rgba(0, 0, 0, 0.15);\n",
              "      filter: drop-shadow(0px 1px 2px rgba(0, 0, 0, 0.3));\n",
              "      fill: #FFFFFF;\n",
              "    }\n",
              "  </style>\n",
              "\n",
              "      <script>\n",
              "        const buttonEl =\n",
              "          document.querySelector('#df-9c9ce1e1-115e-4bec-a393-043fdeb59cb2 button.colab-df-convert');\n",
              "        buttonEl.style.display =\n",
              "          google.colab.kernel.accessAllowed ? 'block' : 'none';\n",
              "\n",
              "        async function convertToInteractive(key) {\n",
              "          const element = document.querySelector('#df-9c9ce1e1-115e-4bec-a393-043fdeb59cb2');\n",
              "          const dataTable =\n",
              "            await google.colab.kernel.invokeFunction('convertToInteractive',\n",
              "                                                     [key], {});\n",
              "          if (!dataTable) return;\n",
              "\n",
              "          const docLinkHtml = 'Like what you see? Visit the ' +\n",
              "            '<a target=\"_blank\" href=https://colab.research.google.com/notebooks/data_table.ipynb>data table notebook</a>'\n",
              "            + ' to learn more about interactive tables.';\n",
              "          element.innerHTML = '';\n",
              "          dataTable['output_type'] = 'display_data';\n",
              "          await google.colab.output.renderOutput(dataTable, element);\n",
              "          const docLink = document.createElement('div');\n",
              "          docLink.innerHTML = docLinkHtml;\n",
              "          element.appendChild(docLink);\n",
              "        }\n",
              "      </script>\n",
              "    </div>\n",
              "  </div>\n",
              "  "
            ]
          },
          "metadata": {},
          "execution_count": 24
        }
      ]
    },
    {
      "cell_type": "code",
      "source": [
        "pd.DataFrame(test_corpus[:10])"
      ],
      "metadata": {
        "id": "JB5qkIbBNXFh",
        "outputId": "cc9f75e7-a900-48f4-9538-c2afaaf10cbc",
        "colab": {
          "base_uri": "https://localhost:8080/",
          "height": 452
        }
      },
      "execution_count": 61,
      "outputs": [
        {
          "output_type": "execute_result",
          "data": {
            "text/plain": [
              "        0        1               2          3           4           5   \\\n",
              "0    think  science         fiction         is          an     amazing   \n",
              "1  awesome   really            love        how         sci          fi   \n",
              "2       it      not           quite        sci          fi         but   \n",
              "3       if      you          really       want        look          at   \n",
              "4       no    could             not     couldn     imagine      living   \n",
              "5       it     used              to         be  restricted         but   \n",
              "6      yes       it             was  developed        from  government   \n",
              "7     what       is            your   favorite       thing          to   \n",
              "8      yes  perform  administrative     duties          as    pharmacy   \n",
              "9      yes     work        directly       with         lot          of   \n",
              "\n",
              "             6          7           8             9   ...    19           20  \\\n",
              "0         genre        for    anything        future  ...  such  interesting   \n",
              "1  storytellers      focus          on     political  ...    in          the   \n",
              "2            my   favorite     version            of  ...    of      azkaban   \n",
              "3           the  potential    negative  consequences  ...   the           tv   \n",
              "4          when   internet      access           was  ...  None         None   \n",
              "5        around        the  restricted          were  ...  None         None   \n",
              "6        funded   projects          to          help  ...    am           so   \n",
              "7            do       with    internet        access  ...    to          use   \n",
              "8    technician       None        None          None  ...  None         None   \n",
              "9      patients       None        None          None  ...  None         None   \n",
              "\n",
              "         21      22          23         24       25     26    27    28  \n",
              "0  concepts    None        None       None     None   None  None  None  \n",
              "1    future   makes        them  relatable     None   None  None  None  \n",
              "2    breaks    zero     logical      rules     None   None  None  None  \n",
              "3      show  fringe  incredibly       well  written   None  None  None  \n",
              "4      None    None        None       None     None   None  None  None  \n",
              "5      None    None        None       None     None   None  None  None  \n",
              "6      glad    they    expanded         it     None   None  None  None  \n",
              "7        my   email         and     browse      the  world  wide   web  \n",
              "8      None    None        None       None     None   None  None  None  \n",
              "9      None    None        None       None     None   None  None  None  \n",
              "\n",
              "[10 rows x 29 columns]"
            ],
            "text/html": [
              "\n",
              "  <div id=\"df-b226457e-ec7d-46d1-afa2-1e6b3db493fd\">\n",
              "    <div class=\"colab-df-container\">\n",
              "      <div>\n",
              "<style scoped>\n",
              "    .dataframe tbody tr th:only-of-type {\n",
              "        vertical-align: middle;\n",
              "    }\n",
              "\n",
              "    .dataframe tbody tr th {\n",
              "        vertical-align: top;\n",
              "    }\n",
              "\n",
              "    .dataframe thead th {\n",
              "        text-align: right;\n",
              "    }\n",
              "</style>\n",
              "<table border=\"1\" class=\"dataframe\">\n",
              "  <thead>\n",
              "    <tr style=\"text-align: right;\">\n",
              "      <th></th>\n",
              "      <th>0</th>\n",
              "      <th>1</th>\n",
              "      <th>2</th>\n",
              "      <th>3</th>\n",
              "      <th>4</th>\n",
              "      <th>5</th>\n",
              "      <th>6</th>\n",
              "      <th>7</th>\n",
              "      <th>8</th>\n",
              "      <th>9</th>\n",
              "      <th>...</th>\n",
              "      <th>19</th>\n",
              "      <th>20</th>\n",
              "      <th>21</th>\n",
              "      <th>22</th>\n",
              "      <th>23</th>\n",
              "      <th>24</th>\n",
              "      <th>25</th>\n",
              "      <th>26</th>\n",
              "      <th>27</th>\n",
              "      <th>28</th>\n",
              "    </tr>\n",
              "  </thead>\n",
              "  <tbody>\n",
              "    <tr>\n",
              "      <th>0</th>\n",
              "      <td>think</td>\n",
              "      <td>science</td>\n",
              "      <td>fiction</td>\n",
              "      <td>is</td>\n",
              "      <td>an</td>\n",
              "      <td>amazing</td>\n",
              "      <td>genre</td>\n",
              "      <td>for</td>\n",
              "      <td>anything</td>\n",
              "      <td>future</td>\n",
              "      <td>...</td>\n",
              "      <td>such</td>\n",
              "      <td>interesting</td>\n",
              "      <td>concepts</td>\n",
              "      <td>None</td>\n",
              "      <td>None</td>\n",
              "      <td>None</td>\n",
              "      <td>None</td>\n",
              "      <td>None</td>\n",
              "      <td>None</td>\n",
              "      <td>None</td>\n",
              "    </tr>\n",
              "    <tr>\n",
              "      <th>1</th>\n",
              "      <td>awesome</td>\n",
              "      <td>really</td>\n",
              "      <td>love</td>\n",
              "      <td>how</td>\n",
              "      <td>sci</td>\n",
              "      <td>fi</td>\n",
              "      <td>storytellers</td>\n",
              "      <td>focus</td>\n",
              "      <td>on</td>\n",
              "      <td>political</td>\n",
              "      <td>...</td>\n",
              "      <td>in</td>\n",
              "      <td>the</td>\n",
              "      <td>future</td>\n",
              "      <td>makes</td>\n",
              "      <td>them</td>\n",
              "      <td>relatable</td>\n",
              "      <td>None</td>\n",
              "      <td>None</td>\n",
              "      <td>None</td>\n",
              "      <td>None</td>\n",
              "    </tr>\n",
              "    <tr>\n",
              "      <th>2</th>\n",
              "      <td>it</td>\n",
              "      <td>not</td>\n",
              "      <td>quite</td>\n",
              "      <td>sci</td>\n",
              "      <td>fi</td>\n",
              "      <td>but</td>\n",
              "      <td>my</td>\n",
              "      <td>favorite</td>\n",
              "      <td>version</td>\n",
              "      <td>of</td>\n",
              "      <td>...</td>\n",
              "      <td>of</td>\n",
              "      <td>azkaban</td>\n",
              "      <td>breaks</td>\n",
              "      <td>zero</td>\n",
              "      <td>logical</td>\n",
              "      <td>rules</td>\n",
              "      <td>None</td>\n",
              "      <td>None</td>\n",
              "      <td>None</td>\n",
              "      <td>None</td>\n",
              "    </tr>\n",
              "    <tr>\n",
              "      <th>3</th>\n",
              "      <td>if</td>\n",
              "      <td>you</td>\n",
              "      <td>really</td>\n",
              "      <td>want</td>\n",
              "      <td>look</td>\n",
              "      <td>at</td>\n",
              "      <td>the</td>\n",
              "      <td>potential</td>\n",
              "      <td>negative</td>\n",
              "      <td>consequences</td>\n",
              "      <td>...</td>\n",
              "      <td>the</td>\n",
              "      <td>tv</td>\n",
              "      <td>show</td>\n",
              "      <td>fringe</td>\n",
              "      <td>incredibly</td>\n",
              "      <td>well</td>\n",
              "      <td>written</td>\n",
              "      <td>None</td>\n",
              "      <td>None</td>\n",
              "      <td>None</td>\n",
              "    </tr>\n",
              "    <tr>\n",
              "      <th>4</th>\n",
              "      <td>no</td>\n",
              "      <td>could</td>\n",
              "      <td>not</td>\n",
              "      <td>couldn</td>\n",
              "      <td>imagine</td>\n",
              "      <td>living</td>\n",
              "      <td>when</td>\n",
              "      <td>internet</td>\n",
              "      <td>access</td>\n",
              "      <td>was</td>\n",
              "      <td>...</td>\n",
              "      <td>None</td>\n",
              "      <td>None</td>\n",
              "      <td>None</td>\n",
              "      <td>None</td>\n",
              "      <td>None</td>\n",
              "      <td>None</td>\n",
              "      <td>None</td>\n",
              "      <td>None</td>\n",
              "      <td>None</td>\n",
              "      <td>None</td>\n",
              "    </tr>\n",
              "    <tr>\n",
              "      <th>5</th>\n",
              "      <td>it</td>\n",
              "      <td>used</td>\n",
              "      <td>to</td>\n",
              "      <td>be</td>\n",
              "      <td>restricted</td>\n",
              "      <td>but</td>\n",
              "      <td>around</td>\n",
              "      <td>the</td>\n",
              "      <td>restricted</td>\n",
              "      <td>were</td>\n",
              "      <td>...</td>\n",
              "      <td>None</td>\n",
              "      <td>None</td>\n",
              "      <td>None</td>\n",
              "      <td>None</td>\n",
              "      <td>None</td>\n",
              "      <td>None</td>\n",
              "      <td>None</td>\n",
              "      <td>None</td>\n",
              "      <td>None</td>\n",
              "      <td>None</td>\n",
              "    </tr>\n",
              "    <tr>\n",
              "      <th>6</th>\n",
              "      <td>yes</td>\n",
              "      <td>it</td>\n",
              "      <td>was</td>\n",
              "      <td>developed</td>\n",
              "      <td>from</td>\n",
              "      <td>government</td>\n",
              "      <td>funded</td>\n",
              "      <td>projects</td>\n",
              "      <td>to</td>\n",
              "      <td>help</td>\n",
              "      <td>...</td>\n",
              "      <td>am</td>\n",
              "      <td>so</td>\n",
              "      <td>glad</td>\n",
              "      <td>they</td>\n",
              "      <td>expanded</td>\n",
              "      <td>it</td>\n",
              "      <td>None</td>\n",
              "      <td>None</td>\n",
              "      <td>None</td>\n",
              "      <td>None</td>\n",
              "    </tr>\n",
              "    <tr>\n",
              "      <th>7</th>\n",
              "      <td>what</td>\n",
              "      <td>is</td>\n",
              "      <td>your</td>\n",
              "      <td>favorite</td>\n",
              "      <td>thing</td>\n",
              "      <td>to</td>\n",
              "      <td>do</td>\n",
              "      <td>with</td>\n",
              "      <td>internet</td>\n",
              "      <td>access</td>\n",
              "      <td>...</td>\n",
              "      <td>to</td>\n",
              "      <td>use</td>\n",
              "      <td>my</td>\n",
              "      <td>email</td>\n",
              "      <td>and</td>\n",
              "      <td>browse</td>\n",
              "      <td>the</td>\n",
              "      <td>world</td>\n",
              "      <td>wide</td>\n",
              "      <td>web</td>\n",
              "    </tr>\n",
              "    <tr>\n",
              "      <th>8</th>\n",
              "      <td>yes</td>\n",
              "      <td>perform</td>\n",
              "      <td>administrative</td>\n",
              "      <td>duties</td>\n",
              "      <td>as</td>\n",
              "      <td>pharmacy</td>\n",
              "      <td>technician</td>\n",
              "      <td>None</td>\n",
              "      <td>None</td>\n",
              "      <td>None</td>\n",
              "      <td>...</td>\n",
              "      <td>None</td>\n",
              "      <td>None</td>\n",
              "      <td>None</td>\n",
              "      <td>None</td>\n",
              "      <td>None</td>\n",
              "      <td>None</td>\n",
              "      <td>None</td>\n",
              "      <td>None</td>\n",
              "      <td>None</td>\n",
              "      <td>None</td>\n",
              "    </tr>\n",
              "    <tr>\n",
              "      <th>9</th>\n",
              "      <td>yes</td>\n",
              "      <td>work</td>\n",
              "      <td>directly</td>\n",
              "      <td>with</td>\n",
              "      <td>lot</td>\n",
              "      <td>of</td>\n",
              "      <td>patients</td>\n",
              "      <td>None</td>\n",
              "      <td>None</td>\n",
              "      <td>None</td>\n",
              "      <td>...</td>\n",
              "      <td>None</td>\n",
              "      <td>None</td>\n",
              "      <td>None</td>\n",
              "      <td>None</td>\n",
              "      <td>None</td>\n",
              "      <td>None</td>\n",
              "      <td>None</td>\n",
              "      <td>None</td>\n",
              "      <td>None</td>\n",
              "      <td>None</td>\n",
              "    </tr>\n",
              "  </tbody>\n",
              "</table>\n",
              "<p>10 rows × 29 columns</p>\n",
              "</div>\n",
              "      <button class=\"colab-df-convert\" onclick=\"convertToInteractive('df-b226457e-ec7d-46d1-afa2-1e6b3db493fd')\"\n",
              "              title=\"Convert this dataframe to an interactive table.\"\n",
              "              style=\"display:none;\">\n",
              "        \n",
              "  <svg xmlns=\"http://www.w3.org/2000/svg\" height=\"24px\"viewBox=\"0 0 24 24\"\n",
              "       width=\"24px\">\n",
              "    <path d=\"M0 0h24v24H0V0z\" fill=\"none\"/>\n",
              "    <path d=\"M18.56 5.44l.94 2.06.94-2.06 2.06-.94-2.06-.94-.94-2.06-.94 2.06-2.06.94zm-11 1L8.5 8.5l.94-2.06 2.06-.94-2.06-.94L8.5 2.5l-.94 2.06-2.06.94zm10 10l.94 2.06.94-2.06 2.06-.94-2.06-.94-.94-2.06-.94 2.06-2.06.94z\"/><path d=\"M17.41 7.96l-1.37-1.37c-.4-.4-.92-.59-1.43-.59-.52 0-1.04.2-1.43.59L10.3 9.45l-7.72 7.72c-.78.78-.78 2.05 0 2.83L4 21.41c.39.39.9.59 1.41.59.51 0 1.02-.2 1.41-.59l7.78-7.78 2.81-2.81c.8-.78.8-2.07 0-2.86zM5.41 20L4 18.59l7.72-7.72 1.47 1.35L5.41 20z\"/>\n",
              "  </svg>\n",
              "      </button>\n",
              "      \n",
              "  <style>\n",
              "    .colab-df-container {\n",
              "      display:flex;\n",
              "      flex-wrap:wrap;\n",
              "      gap: 12px;\n",
              "    }\n",
              "\n",
              "    .colab-df-convert {\n",
              "      background-color: #E8F0FE;\n",
              "      border: none;\n",
              "      border-radius: 50%;\n",
              "      cursor: pointer;\n",
              "      display: none;\n",
              "      fill: #1967D2;\n",
              "      height: 32px;\n",
              "      padding: 0 0 0 0;\n",
              "      width: 32px;\n",
              "    }\n",
              "\n",
              "    .colab-df-convert:hover {\n",
              "      background-color: #E2EBFA;\n",
              "      box-shadow: 0px 1px 2px rgba(60, 64, 67, 0.3), 0px 1px 3px 1px rgba(60, 64, 67, 0.15);\n",
              "      fill: #174EA6;\n",
              "    }\n",
              "\n",
              "    [theme=dark] .colab-df-convert {\n",
              "      background-color: #3B4455;\n",
              "      fill: #D2E3FC;\n",
              "    }\n",
              "\n",
              "    [theme=dark] .colab-df-convert:hover {\n",
              "      background-color: #434B5C;\n",
              "      box-shadow: 0px 1px 3px 1px rgba(0, 0, 0, 0.15);\n",
              "      filter: drop-shadow(0px 1px 2px rgba(0, 0, 0, 0.3));\n",
              "      fill: #FFFFFF;\n",
              "    }\n",
              "  </style>\n",
              "\n",
              "      <script>\n",
              "        const buttonEl =\n",
              "          document.querySelector('#df-b226457e-ec7d-46d1-afa2-1e6b3db493fd button.colab-df-convert');\n",
              "        buttonEl.style.display =\n",
              "          google.colab.kernel.accessAllowed ? 'block' : 'none';\n",
              "\n",
              "        async function convertToInteractive(key) {\n",
              "          const element = document.querySelector('#df-b226457e-ec7d-46d1-afa2-1e6b3db493fd');\n",
              "          const dataTable =\n",
              "            await google.colab.kernel.invokeFunction('convertToInteractive',\n",
              "                                                     [key], {});\n",
              "          if (!dataTable) return;\n",
              "\n",
              "          const docLinkHtml = 'Like what you see? Visit the ' +\n",
              "            '<a target=\"_blank\" href=https://colab.research.google.com/notebooks/data_table.ipynb>data table notebook</a>'\n",
              "            + ' to learn more about interactive tables.';\n",
              "          element.innerHTML = '';\n",
              "          dataTable['output_type'] = 'display_data';\n",
              "          await google.colab.output.renderOutput(dataTable, element);\n",
              "          const docLink = document.createElement('div');\n",
              "          docLink.innerHTML = docLinkHtml;\n",
              "          element.appendChild(docLink);\n",
              "        }\n",
              "      </script>\n",
              "    </div>\n",
              "  </div>\n",
              "  "
            ]
          },
          "metadata": {},
          "execution_count": 61
        }
      ]
    },
    {
      "cell_type": "code",
      "source": [
        "print(f\"{train_corpus[0]}\\n{test_corpus[0]}\")"
      ],
      "metadata": {
        "id": "TemZV0wfPE2F",
        "outputId": "8ef42e59-a528-4922-9a48-30243eb8e127",
        "colab": {
          "base_uri": "https://localhost:8080/"
        }
      },
      "execution_count": 26,
      "outputs": [
        {
          "output_type": "stream",
          "name": "stdout",
          "text": [
            "TaggedDocument<['science', 'fiction', 'often', 'shortened', 'to', 'sf', 'or', 'sci', 'fi', 'is', 'genre', 'of', 'speculative', 'fiction', 'typically', 'dealing', 'with', 'imaginative', 'concepts', 'such', 'as', 'futuristic', 'science', 'and', 'technology', 'space', 'travel', 'time', 'travel', 'faster', 'than', 'light', 'travel', 'parallel', 'universes', 'and', 'extraterrestrial', 'life'], [0]>\n",
            "['think', 'science', 'fiction', 'is', 'an', 'amazing', 'genre', 'for', 'anything', 'future', 'science', 'technology', 'time', 'travel', 'ftl', 'travel', 'they', 're', 'all', 'such', 'interesting', 'concepts']\n"
          ]
        }
      ]
    },
    {
      "cell_type": "markdown",
      "source": [
        "##Training the model"
      ],
      "metadata": {
        "id": "0vkH0STJ_cn9"
      }
    },
    {
      "cell_type": "markdown",
      "source": [
        "We instantiate a Doc2Vec model with a vector size of 50 dimensions and iterate over the training corpus 40 times\n",
        "\n",
        "If evaluation with test set is bad, maybe try to decrease min_count to 0, so unique words are not lost"
      ],
      "metadata": {
        "id": "ryey1KlrHuQ2"
      }
    },
    {
      "cell_type": "code",
      "source": [
        "model = gensim.models.doc2vec.Doc2Vec(vector_size=50, min_count=2, epochs=80)"
      ],
      "metadata": {
        "id": "P2kD_ydcHkHJ"
      },
      "execution_count": 40,
      "outputs": []
    },
    {
      "cell_type": "markdown",
      "source": [
        "Build a vocabulary"
      ],
      "metadata": {
        "id": "A5xzbW8wH2qu"
      }
    },
    {
      "cell_type": "code",
      "source": [
        "model.build_vocab(train_corpus)"
      ],
      "metadata": {
        "id": "h40N75W6H4xG"
      },
      "execution_count": 41,
      "outputs": []
    },
    {
      "cell_type": "markdown",
      "source": [
        "Essentially, the vocabulary is a list (accessible via model.wv.index_to_key) of all of the unique words extracted from the training corpus. Additional attributes for each word are available using the model.wv.get_vecattr() method, For example, to see how many times test appeared in the training corpus:"
      ],
      "metadata": {
        "id": "p8w8tYYWIExt"
      }
    },
    {
      "cell_type": "code",
      "source": [
        "print(f\"Word 'obama' appeared {model.wv.get_vecattr('obama', 'count')} times in the training corpus.\")"
      ],
      "metadata": {
        "colab": {
          "base_uri": "https://localhost:8080/"
        },
        "id": "Q99s17iSIF_b",
        "outputId": "9b47956c-3a14-4fdc-f5cd-c22dec744459"
      },
      "execution_count": 42,
      "outputs": [
        {
          "output_type": "stream",
          "name": "stdout",
          "text": [
            "Word 'obama' appeared 2 times in the training corpus.\n"
          ]
        }
      ]
    },
    {
      "cell_type": "markdown",
      "source": [
        "Train the model on the corpus (Took 2 minutes with 80 epochs with cleaned up dataset)\n"
      ],
      "metadata": {
        "id": "bYGqzSSZIVoi"
      }
    },
    {
      "cell_type": "code",
      "source": [
        "model.train(train_corpus, total_examples=model.corpus_count, epochs=model.epochs)"
      ],
      "metadata": {
        "id": "o8SDMRHDITpS"
      },
      "execution_count": 43,
      "outputs": []
    },
    {
      "cell_type": "markdown",
      "source": [
        "##Assessing the model"
      ],
      "metadata": {
        "id": "AtDF3dc3IhCl"
      }
    },
    {
      "cell_type": "markdown",
      "source": [
        "To assess our new model, we’ll first infer new vectors for each document of the training corpus, compare the inferred vectors with the training corpus, and then returning the rank of the document based on self-similarity\n",
        "\n",
        "-> This took 8 minutes to execute with the cleaned up dataset"
      ],
      "metadata": {
        "id": "mQVl0IYkIi6m"
      }
    },
    {
      "cell_type": "code",
      "source": [
        "ranks = []\n",
        "second_ranks = []\n",
        "for doc_id in range(len(train_corpus)):\n",
        "    inferred_vector = model.infer_vector(train_corpus[doc_id].words)\n",
        "    sims = model.dv.most_similar([inferred_vector], topn=len(model.dv))\n",
        "    rank = [docid for docid, sim in sims].index(doc_id)\n",
        "    ranks.append(rank)\n",
        "\n",
        "    second_ranks.append(sims[1])"
      ],
      "metadata": {
        "id": "yS3P5uxEJiY2"
      },
      "execution_count": 33,
      "outputs": []
    },
    {
      "cell_type": "markdown",
      "source": [
        "Let’s count how each document ranks with respect to the training corpus"
      ],
      "metadata": {
        "id": "E1L4kqEIJjh5"
      }
    },
    {
      "cell_type": "code",
      "source": [
        "import collections\n",
        "\n",
        "counter = collections.Counter(ranks)\n",
        "print(counter)"
      ],
      "metadata": {
        "colab": {
          "base_uri": "https://localhost:8080/"
        },
        "id": "pzyQ7cYIJjWz",
        "outputId": "d5071f8c-8afa-45ea-ad5a-b7f681b2daeb"
      },
      "execution_count": 34,
      "outputs": [
        {
          "output_type": "stream",
          "name": "stdout",
          "text": [
            "Counter({0: 12511, 1: 64, 3: 20, 2: 14, 4: 11, 11: 6, 8: 5, 5: 4, 6: 3, 22: 2, 70: 2, 9: 2, 55: 2, 21: 2, 57: 2, 17: 2, 10: 2, 37: 2, 15: 2, 23: 2, 7: 2, 64: 2, 30: 2, 12: 2, 79: 2, 76: 2, 361: 1, 13: 1, 38: 1, 36: 1, 18: 1, 47: 1, 2625: 1, 172: 1, 33: 1, 58: 1, 27: 1, 44: 1, 7771: 1, 14: 1, 51: 1, 16: 1, 121: 1, 69: 1, 40: 1, 43: 1, 28: 1, 31: 1, 41: 1, 45: 1, 32: 1, 119: 1, 350: 1, 26: 1, 9429: 1, 46: 1})\n"
          ]
        }
      ]
    },
    {
      "cell_type": "markdown",
      "source": [
        "Looking at an example"
      ],
      "metadata": {
        "id": "JdQDRgAXJye7"
      }
    },
    {
      "cell_type": "code",
      "source": [
        "# Pick a random document from the corpus and infer a vector from the model\n",
        "import random\n",
        "#random.seed(23)\n",
        "doc_id = random.randint(0, len(train_corpus) - 1)\n",
        "print('Document ({}): «{}»\\n'.format(doc_id, ' '.join(train_corpus[doc_id].words)))\n",
        "print(u'SIMILAR/DISSIMILAR DOCS PER MODEL %s:\\n' % model)\n",
        "for label, index in [('MOST', 0), ('SECOND-MOST', 1), ('MEDIAN', len(sims)//2), ('LEAST', len(sims) - 1)]:\n",
        "    print(u'%s %s: «%s»\\n' % (label, sims[index], ' '.join(train_corpus[sims[index][0]].words)))"
      ],
      "metadata": {
        "colab": {
          "base_uri": "https://localhost:8080/"
        },
        "id": "Rn_SJ6jCJx9D",
        "outputId": "136bde60-650e-4e90-a7e4-9dd872362588"
      },
      "execution_count": 35,
      "outputs": [
        {
          "output_type": "stream",
          "name": "stdout",
          "text": [
            "Document (10724): «this engine was initially installed in chevrolet and gmc trucks and has been an option since then in pickups vans and medium duty trucks»\n",
            "\n",
            "SIMILAR/DISSIMILAR DOCS PER MODEL Doc2Vec<dm/m,d50,n5,w5,mc2,s0.001,t3>:\n",
            "\n",
            "MOST (12701, 0.8942609429359436): «in that sense organizing can also be defined as to place different objects in logical arrangement for better searching»\n",
            "\n",
            "SECOND-MOST (986, 0.7492536306381226): «the see also section of this article provides links to more specific information about various schools and techniques of horse training»\n",
            "\n",
            "MEDIAN (9678, 0.2351899892091751): «reruns shown on hln were initially retitled mystery detectives before settling with the main title of the show in»\n",
            "\n",
            "LEAST (10603, -0.572883129119873): «she chose to have the collection made in australia using australian jersey fabric»\n",
            "\n"
          ]
        }
      ]
    },
    {
      "cell_type": "markdown",
      "source": [
        "Notice above that the most similar document (usually the same text) is has a similarity score approaching 1.0. However, the similarity score for the second-ranked documents should be significantly lower (assuming the documents are in fact different) and the reasoning becomes obvious when we examine the text itself.\n",
        "\n",
        "\n",
        "We can run the next cell repeatedly to see a sampling other target-document comparisons."
      ],
      "metadata": {
        "id": "rBVZKPeQJ5xu"
      }
    },
    {
      "cell_type": "code",
      "source": [
        "# Pick a random document from the corpus and infer a vector from the model\n",
        "import random\n",
        "#random.seed(23)\n",
        "doc_id = random.randint(0, len(train_corpus) - 1)\n",
        "#doc_id = 2\n",
        "# Compare and print the second-most-similar document\n",
        "print('Train Document ({}): «{}»\\n'.format(doc_id, ' '.join(train_corpus[doc_id].words)))\n",
        "sim_id = second_ranks[doc_id]\n",
        "print('Similar Document {}: «{}»\\n'.format(sim_id, ' '.join(train_corpus[sim_id[0]].words)))"
      ],
      "metadata": {
        "colab": {
          "base_uri": "https://localhost:8080/"
        },
        "id": "Oqhy6Va0J8rt",
        "outputId": "cc865a71-bcb8-488e-8726-769231acb2c3"
      },
      "execution_count": 36,
      "outputs": [
        {
          "output_type": "stream",
          "name": "stdout",
          "text": [
            "Train Document (12328): «additionally the relationship may be confused by opposing outside influences»\n",
            "\n",
            "Similar Document (4400, 0.5700653791427612): «legends are perceived as real fairy tales may merge into legends where the narrative is perceived both by teller and hearers as being grounded in historical truth»\n",
            "\n"
          ]
        }
      ]
    },
    {
      "cell_type": "markdown",
      "source": [
        "This doesn't really look good. Probably the sentences are too short and thus it doesn't work that well."
      ],
      "metadata": {
        "id": "ISizxNY55muf"
      }
    },
    {
      "cell_type": "markdown",
      "source": [
        "##Testing"
      ],
      "metadata": {
        "id": "ECYRlCtoRCcf"
      }
    },
    {
      "cell_type": "code",
      "source": [
        "import random\n",
        "# Pick a random document from the test corpus and infer a vector from the model\n",
        "#random.seed()\n",
        "doc_id = random.randint(0, len(test_corpus) - 1)\n",
        "inferred_vector = model.infer_vector(test_corpus[doc_id])\n",
        "#sims = model.dv.most_similar([inferred_vector], topn=len(model.dv))\n",
        "sims = model.dv.most_similar([inferred_vector], topn=10)\n",
        "\n",
        "# Compare and print the 10 most similar documents from the train corpus\n",
        "print('Test Document ({}): «{}»\\n'.format(doc_id, ' '.join(test_corpus[doc_id])))\n",
        "for index in range(len(sims)):\n",
        "#for index in range(10):\n",
        "    print(f\"{index+1}. {sims[index]}: «{' '.join(train_corpus[sims[index][0]].words)}»\")\n",
        "print('\\n')\n",
        "#for label, index in [('MOST', 0), ('MEDIAN', len(sims)//2), ('LEAST', len(sims) - 1)]:\n",
        "#    print(u'%s %s: «%s»\\n' % (label, sims[index], ' '.join(train_corpus[sims[index][0]].words)))\n",
        "\n",
        "print(f\"Untokenized Wizard response: {wizard_resps[doc_id]}\\n\")\n",
        "print(f\"Original source sentence: {response_sentence_pairs[wizard_resps[doc_id]]}\")"
      ],
      "metadata": {
        "id": "NGBFwVqBL8QD",
        "outputId": "b15060fb-e17b-4f5b-f4b7-c3067e18e886",
        "colab": {
          "base_uri": "https://localhost:8080/"
        }
      },
      "execution_count": 52,
      "outputs": [
        {
          "output_type": "stream",
          "name": "stdout",
          "text": [
            "Test Document (32362): «extreme couponing for as much savings and money as possible seems like such wasted and stingy effort»\n",
            "\n",
            "1. (7458, 0.5544727444648743): «neville symington suggested that such severely critical inner object is especially noticeable in narcissism»\n",
            "2. (12047, 0.5477999448776245): «domestic workers particularly those low in the hierarchy such as maids and footmen were expected to remain unmarried while in service and even highest ranking workers such as butlers could be dismissed for marrying»\n",
            "3. (2156, 0.5222700834274292): «this is the case of such noted designers as sid meier john romero chris sawyer and will wright»\n",
            "4. (1603, 0.514151394367218): «risk factors include certain infections during pregnancy such as rubella as well as valproic acid alcohol or cocaine use during pregnancy»\n",
            "5. (2078, 0.5109472870826721): «the particles can also be biological in origin such as mollusc shells or coralline algae»\n",
            "6. (12222, 0.506793200969696): «activated seeking behavior such as locomotor activity is influenced by dopaminergic drugs and microdialysis experiments reveal that dopamine is released during the anticipation of reward»\n",
            "7. (1842, 0.4967147707939148): «the object of the game is to play the ball in such way that the opponent is not able to play valid return»\n",
            "8. (11342, 0.49155449867248535): «sudol did not drink or smoke or do anything like that»\n",
            "9. (8688, 0.4909169673919678): «poaching was as well set against the hunting privileges of nobility and territorial rulers»\n",
            "10. (5903, 0.48860087990760803): «it also plays an important part of myth and legend such as the contest between the steeds of the god odin and the giant hrungnir in norse mythology»\n",
            "\n",
            "\n",
            "Untokenized Wizard response: extreme couponing for as much savings and money as possible seems like such a wasted and stingy effort\n",
            "\n",
            "Original source sentence: Extreme couponing is an activity that combines shopping skills with couponing in an attempt to save as much money as possible while accumulating the most groceries.\n"
          ]
        }
      ]
    },
    {
      "cell_type": "markdown",
      "source": [
        "Manually check the source sentence similarity against the wizard response"
      ],
      "metadata": {
        "id": "0Op4wjWyxdiU"
      }
    },
    {
      "cell_type": "code",
      "source": [
        "# import required libraries\n",
        "import numpy as np\n",
        "from numpy.linalg import norm\n",
        "\n",
        "#Create vector for source sentence\n",
        "tokenized_sentence = gensim.utils.simple_preprocess(response_sentence_pairs[wizard_resps[doc_id]], min_len=2, max_len=20)\n",
        "inferred_source_vector = model.infer_vector(tokenized_sentence)\n",
        "A = inferred_source_vector\n",
        "B = inferred_vector\n",
        "print(f\"Tokenized original sentence: {tokenized_sentence} \\n\")\n",
        "print(f\"Tokenized wizard response: {test_corpus[doc_id]} \\n\")\n",
        "\n",
        "\n",
        "print(f\"The Wizard response:{wizard_resps[doc_id]} \\n{B}\")\n",
        "print(f\"The original sentence:{response_sentence_pairs[wizard_resps[doc_id]]} \\n{A}\")\n",
        " \n",
        "# compute cosine similarity\n",
        "cosine = np.dot(A,B)/(norm(A)*norm(B))\n",
        "print(f\"Cosine Similarity: {cosine}\")\n",
        "\n",
        "print(f\"Model Similarity: {model.dv.n_similarity(A,B)}\")"
      ],
      "metadata": {
        "id": "VB4e-c0nxjQo",
        "outputId": "3d199055-2974-495d-c633-0cc4b33eda89",
        "colab": {
          "base_uri": "https://localhost:8080/"
        }
      },
      "execution_count": 53,
      "outputs": [
        {
          "output_type": "stream",
          "name": "stdout",
          "text": [
            "Tokenized original sentence: ['extreme', 'couponing', 'is', 'an', 'activity', 'that', 'combines', 'shopping', 'skills', 'with', 'couponing', 'in', 'an', 'attempt', 'to', 'save', 'as', 'much', 'money', 'as', 'possible', 'while', 'accumulating', 'the', 'most', 'groceries'] \n",
            "\n",
            "Tokenized wizard response: ['extreme', 'couponing', 'for', 'as', 'much', 'savings', 'and', 'money', 'as', 'possible', 'seems', 'like', 'such', 'wasted', 'and', 'stingy', 'effort'] \n",
            "\n",
            "The Wizard response:extreme couponing for as much savings and money as possible seems like such a wasted and stingy effort \n",
            "[-4.6868110e-01  5.5742109e-01 -7.8521156e-01  2.0770140e+00\n",
            " -3.2915199e-01  7.1073091e-01 -2.8970959e-03  8.7902844e-01\n",
            "  1.9988912e+00 -5.6717718e-01  1.3788596e+00  1.7180147e+00\n",
            "  5.2272666e-01  1.0208213e+00  2.2772864e-01 -1.6899743e+00\n",
            "  1.4760162e+00  9.0900075e-01 -3.7409415e+00 -5.5118662e-01\n",
            " -3.2177702e-01  2.6115018e-01  8.4905827e-01  1.6216643e+00\n",
            " -1.3090852e+00  3.1399670e-01 -3.2465330e-01 -1.3586974e-01\n",
            "  1.0509242e+00  3.5091457e-01  1.4686687e+00  7.1296483e-01\n",
            " -9.0386611e-01 -1.2665986e+00  1.5028265e-01  1.9296458e+00\n",
            " -4.6646109e-01  1.6062753e-02 -2.0725777e+00 -1.5346136e+00\n",
            " -1.2469209e+00  3.8843748e-01 -1.0500282e+00 -1.7640243e-01\n",
            "  4.2080125e-01 -1.3135372e+00 -9.0929860e-01  3.5527152e-01\n",
            "  5.7563394e-01  2.8207448e+00]\n",
            "The original sentence:Extreme couponing is an activity that combines shopping skills with couponing in an attempt to save as much money as possible while accumulating the most groceries. \n",
            "[-0.89916664 -0.40843472 -0.04607123  0.40645579 -0.06115975  0.10162262\n",
            "  0.27358234  0.68148035 -0.877625    0.2207322   0.10463935  0.48338494\n",
            " -0.39274785  0.7472398  -0.91013676  0.826725    0.7301299  -0.568691\n",
            " -1.4861478  -1.3568121   1.5009862   0.31710535  0.7641014   0.90715945\n",
            " -0.13953733 -0.4800068  -0.27325392 -1.0827793  -0.2602215  -0.26403382\n",
            "  0.5096117   0.98152065  0.255926   -0.31013656 -1.2272053  -0.33635563\n",
            "  0.15603189  0.7239458  -0.01568418  0.49247023 -0.34512982  0.63298815\n",
            " -0.775632   -0.40751857  0.95959395 -0.689626    0.17912558 -0.317696\n",
            "  0.05922555  0.2232782 ]\n",
            "Cosine Similarity: 0.2868689000606537\n",
            "Model Similarity: 0.0\n"
          ]
        }
      ]
    },
    {
      "cell_type": "markdown",
      "source": [
        "Hmmmm something still seems to be wrong with the model. In this case the manually inferred vector should be the most similar document, but it doesn't come up with the model\n",
        "\n",
        "Also it would be great if we could tokenize it without losing the numbers"
      ],
      "metadata": {
        "id": "RS_UVNBw4bnc"
      }
    },
    {
      "cell_type": "markdown",
      "source": [
        "##Evaluation"
      ],
      "metadata": {
        "id": "FBdYUHkGX6cr"
      }
    },
    {
      "cell_type": "markdown",
      "source": [
        "Evaluating the percentage running through 20% of test set maybe (Takes 2 minutes)"
      ],
      "metadata": {
        "id": "PnA4aBYYXSNu"
      }
    },
    {
      "cell_type": "code",
      "source": [
        "#Create test subset\n",
        "test_subset_corpus = test_corpus\n",
        "\n",
        "#counter that keeps track how often the right source sentence was in the top 10\n",
        "counter = 0\n",
        "\n",
        "for i in range(int(len(test_corpus)*0.20)):\n",
        "  doc_id = random.randint(0, len(test_subset_corpus) - 1)\n",
        "  inferred_vector = model.infer_vector(test_subset_corpus[doc_id])\n",
        "  sims = model.dv.most_similar([inferred_vector], topn=10)\n",
        "  tokenized_sentence = gensim.utils.simple_preprocess(response_sentence_pairs[wizard_resps[doc_id]], min_len=2, max_len=20)\n",
        "  if tokenized_sentence in sims:\n",
        "    counter += 1\n",
        "  test_subset_corpus.pop(doc_id)\n",
        "\n",
        "print(f\"{counter/int(len(test_corpus)*0.20)}\")\n"
      ],
      "metadata": {
        "id": "wa6N2hh_ihVH",
        "outputId": "d4803010-e40b-4e4d-f103-c079168f6a43",
        "colab": {
          "base_uri": "https://localhost:8080/",
          "height": 392
        }
      },
      "execution_count": 75,
      "outputs": [
        {
          "output_type": "error",
          "ename": "TypeError",
          "evalue": "ignored",
          "traceback": [
            "\u001b[0;31m---------------------------------------------------------------------------\u001b[0m",
            "\u001b[0;31mTypeError\u001b[0m                                 Traceback (most recent call last)",
            "\u001b[0;32m<ipython-input-75-8877a7dc607e>\u001b[0m in \u001b[0;36m<cell line: 7>\u001b[0;34m()\u001b[0m\n\u001b[1;32m      9\u001b[0m   \u001b[0minferred_vector\u001b[0m \u001b[0;34m=\u001b[0m \u001b[0mmodel\u001b[0m\u001b[0;34m.\u001b[0m\u001b[0minfer_vector\u001b[0m\u001b[0;34m(\u001b[0m\u001b[0mtest_subset_corpus\u001b[0m\u001b[0;34m[\u001b[0m\u001b[0mdoc_id\u001b[0m\u001b[0;34m]\u001b[0m\u001b[0;34m)\u001b[0m\u001b[0;34m\u001b[0m\u001b[0;34m\u001b[0m\u001b[0m\n\u001b[1;32m     10\u001b[0m   \u001b[0msims\u001b[0m \u001b[0;34m=\u001b[0m \u001b[0mmodel\u001b[0m\u001b[0;34m.\u001b[0m\u001b[0mdv\u001b[0m\u001b[0;34m.\u001b[0m\u001b[0mmost_similar\u001b[0m\u001b[0;34m(\u001b[0m\u001b[0;34m[\u001b[0m\u001b[0minferred_vector\u001b[0m\u001b[0;34m]\u001b[0m\u001b[0;34m,\u001b[0m \u001b[0mtopn\u001b[0m\u001b[0;34m=\u001b[0m\u001b[0;36m10\u001b[0m\u001b[0;34m)\u001b[0m\u001b[0;34m\u001b[0m\u001b[0;34m\u001b[0m\u001b[0m\n\u001b[0;32m---> 11\u001b[0;31m   \u001b[0mtokenized_sentence\u001b[0m \u001b[0;34m=\u001b[0m \u001b[0mgensim\u001b[0m\u001b[0;34m.\u001b[0m\u001b[0mutils\u001b[0m\u001b[0;34m.\u001b[0m\u001b[0msimple_preprocess\u001b[0m\u001b[0;34m(\u001b[0m\u001b[0mresponse_sentence_pairs\u001b[0m\u001b[0;34m[\u001b[0m\u001b[0mwizard_resps\u001b[0m\u001b[0;34m[\u001b[0m\u001b[0mdoc_id\u001b[0m\u001b[0;34m]\u001b[0m\u001b[0;34m]\u001b[0m\u001b[0;34m,\u001b[0m \u001b[0mmin_len\u001b[0m\u001b[0;34m=\u001b[0m\u001b[0;36m2\u001b[0m\u001b[0;34m,\u001b[0m \u001b[0mmax_len\u001b[0m\u001b[0;34m=\u001b[0m\u001b[0;36m20\u001b[0m\u001b[0;34m)\u001b[0m\u001b[0;34m\u001b[0m\u001b[0;34m\u001b[0m\u001b[0m\n\u001b[0m\u001b[1;32m     12\u001b[0m   \u001b[0;32mif\u001b[0m \u001b[0mtokenized_sentence\u001b[0m \u001b[0;32min\u001b[0m \u001b[0msims\u001b[0m\u001b[0;34m:\u001b[0m\u001b[0;34m\u001b[0m\u001b[0;34m\u001b[0m\u001b[0m\n\u001b[1;32m     13\u001b[0m     \u001b[0mcounter\u001b[0m \u001b[0;34m+=\u001b[0m \u001b[0;36m1\u001b[0m\u001b[0;34m\u001b[0m\u001b[0;34m\u001b[0m\u001b[0m\n",
            "\u001b[0;32m/usr/local/lib/python3.10/dist-packages/gensim/utils.py\u001b[0m in \u001b[0;36msimple_preprocess\u001b[0;34m(doc, deacc, min_len, max_len)\u001b[0m\n\u001b[1;32m    309\u001b[0m     \"\"\"\n\u001b[1;32m    310\u001b[0m     tokens = [\n\u001b[0;32m--> 311\u001b[0;31m         \u001b[0mtoken\u001b[0m \u001b[0;32mfor\u001b[0m \u001b[0mtoken\u001b[0m \u001b[0;32min\u001b[0m \u001b[0mtokenize\u001b[0m\u001b[0;34m(\u001b[0m\u001b[0mdoc\u001b[0m\u001b[0;34m,\u001b[0m \u001b[0mlower\u001b[0m\u001b[0;34m=\u001b[0m\u001b[0;32mTrue\u001b[0m\u001b[0;34m,\u001b[0m \u001b[0mdeacc\u001b[0m\u001b[0;34m=\u001b[0m\u001b[0mdeacc\u001b[0m\u001b[0;34m,\u001b[0m \u001b[0merrors\u001b[0m\u001b[0;34m=\u001b[0m\u001b[0;34m'ignore'\u001b[0m\u001b[0;34m)\u001b[0m\u001b[0;34m\u001b[0m\u001b[0;34m\u001b[0m\u001b[0m\n\u001b[0m\u001b[1;32m    312\u001b[0m         \u001b[0;32mif\u001b[0m \u001b[0mmin_len\u001b[0m \u001b[0;34m<=\u001b[0m \u001b[0mlen\u001b[0m\u001b[0;34m(\u001b[0m\u001b[0mtoken\u001b[0m\u001b[0;34m)\u001b[0m \u001b[0;34m<=\u001b[0m \u001b[0mmax_len\u001b[0m \u001b[0;32mand\u001b[0m \u001b[0;32mnot\u001b[0m \u001b[0mtoken\u001b[0m\u001b[0;34m.\u001b[0m\u001b[0mstartswith\u001b[0m\u001b[0;34m(\u001b[0m\u001b[0;34m'_'\u001b[0m\u001b[0;34m)\u001b[0m\u001b[0;34m\u001b[0m\u001b[0;34m\u001b[0m\u001b[0m\n\u001b[1;32m    313\u001b[0m     ]\n",
            "\u001b[0;32m/usr/local/lib/python3.10/dist-packages/gensim/utils.py\u001b[0m in \u001b[0;36mtokenize\u001b[0;34m(text, lowercase, deacc, encoding, errors, to_lower, lower)\u001b[0m\n\u001b[1;32m    260\u001b[0m     \"\"\"\n\u001b[1;32m    261\u001b[0m     \u001b[0mlowercase\u001b[0m \u001b[0;34m=\u001b[0m \u001b[0mlowercase\u001b[0m \u001b[0;32mor\u001b[0m \u001b[0mto_lower\u001b[0m \u001b[0;32mor\u001b[0m \u001b[0mlower\u001b[0m\u001b[0;34m\u001b[0m\u001b[0;34m\u001b[0m\u001b[0m\n\u001b[0;32m--> 262\u001b[0;31m     \u001b[0mtext\u001b[0m \u001b[0;34m=\u001b[0m \u001b[0mto_unicode\u001b[0m\u001b[0;34m(\u001b[0m\u001b[0mtext\u001b[0m\u001b[0;34m,\u001b[0m \u001b[0mencoding\u001b[0m\u001b[0;34m,\u001b[0m \u001b[0merrors\u001b[0m\u001b[0;34m=\u001b[0m\u001b[0merrors\u001b[0m\u001b[0;34m)\u001b[0m\u001b[0;34m\u001b[0m\u001b[0;34m\u001b[0m\u001b[0m\n\u001b[0m\u001b[1;32m    263\u001b[0m     \u001b[0;32mif\u001b[0m \u001b[0mlowercase\u001b[0m\u001b[0;34m:\u001b[0m\u001b[0;34m\u001b[0m\u001b[0;34m\u001b[0m\u001b[0m\n\u001b[1;32m    264\u001b[0m         \u001b[0mtext\u001b[0m \u001b[0;34m=\u001b[0m \u001b[0mtext\u001b[0m\u001b[0;34m.\u001b[0m\u001b[0mlower\u001b[0m\u001b[0;34m(\u001b[0m\u001b[0;34m)\u001b[0m\u001b[0;34m\u001b[0m\u001b[0;34m\u001b[0m\u001b[0m\n",
            "\u001b[0;32m/usr/local/lib/python3.10/dist-packages/gensim/utils.py\u001b[0m in \u001b[0;36many2unicode\u001b[0;34m(text, encoding, errors)\u001b[0m\n\u001b[1;32m    363\u001b[0m     \u001b[0;32mif\u001b[0m \u001b[0misinstance\u001b[0m\u001b[0;34m(\u001b[0m\u001b[0mtext\u001b[0m\u001b[0;34m,\u001b[0m \u001b[0mstr\u001b[0m\u001b[0;34m)\u001b[0m\u001b[0;34m:\u001b[0m\u001b[0;34m\u001b[0m\u001b[0;34m\u001b[0m\u001b[0m\n\u001b[1;32m    364\u001b[0m         \u001b[0;32mreturn\u001b[0m \u001b[0mtext\u001b[0m\u001b[0;34m\u001b[0m\u001b[0;34m\u001b[0m\u001b[0m\n\u001b[0;32m--> 365\u001b[0;31m     \u001b[0;32mreturn\u001b[0m \u001b[0mstr\u001b[0m\u001b[0;34m(\u001b[0m\u001b[0mtext\u001b[0m\u001b[0;34m,\u001b[0m \u001b[0mencoding\u001b[0m\u001b[0;34m,\u001b[0m \u001b[0merrors\u001b[0m\u001b[0;34m=\u001b[0m\u001b[0merrors\u001b[0m\u001b[0;34m)\u001b[0m\u001b[0;34m\u001b[0m\u001b[0;34m\u001b[0m\u001b[0m\n\u001b[0m\u001b[1;32m    366\u001b[0m \u001b[0;34m\u001b[0m\u001b[0m\n\u001b[1;32m    367\u001b[0m \u001b[0;34m\u001b[0m\u001b[0m\n",
            "\u001b[0;31mTypeError\u001b[0m: decoding to str: need a bytes-like object, NoneType found"
          ]
        }
      ]
    },
    {
      "cell_type": "code",
      "source": [
        "#Create test subset\n",
        "test_indices = {random.randint(0, len(test_corpus) - 1) for i in range(int(len(test_corpus)*0.25))}\n",
        "\n",
        "#counter that keeps track how often the right source sentence was in the top 10\n",
        "counter = 0\n",
        "\n",
        "for doc_id in test_indices:\n",
        "  inferred_vector = model.infer_vector(test_corpus[doc_id])\n",
        "  sims = model.dv.most_similar([inferred_vector], topn=10)\n",
        "  tokenized_sentence = gensim.utils.simple_preprocess(response_sentence_pairs[wizard_resps[doc_id]], min_len=2, max_len=20)\n",
        "  if tokenized_sentence in sims:\n",
        "    counter += 1\n",
        "\n",
        "print(f\"{counter/len(test_indices)}\")\n"
      ],
      "metadata": {
        "id": "yxGNXkU-X-4q",
        "outputId": "8c909f2e-ac32-4672-bddd-93fdef4148b5",
        "colab": {
          "base_uri": "https://localhost:8080/",
          "height": 392
        }
      },
      "execution_count": 74,
      "outputs": [
        {
          "output_type": "error",
          "ename": "TypeError",
          "evalue": "ignored",
          "traceback": [
            "\u001b[0;31m---------------------------------------------------------------------------\u001b[0m",
            "\u001b[0;31mTypeError\u001b[0m                                 Traceback (most recent call last)",
            "\u001b[0;32m<ipython-input-74-4ef2b4b03dcc>\u001b[0m in \u001b[0;36m<cell line: 7>\u001b[0;34m()\u001b[0m\n\u001b[1;32m      8\u001b[0m   \u001b[0minferred_vector\u001b[0m \u001b[0;34m=\u001b[0m \u001b[0mmodel\u001b[0m\u001b[0;34m.\u001b[0m\u001b[0minfer_vector\u001b[0m\u001b[0;34m(\u001b[0m\u001b[0mtest_corpus\u001b[0m\u001b[0;34m[\u001b[0m\u001b[0mdoc_id\u001b[0m\u001b[0;34m]\u001b[0m\u001b[0;34m)\u001b[0m\u001b[0;34m\u001b[0m\u001b[0;34m\u001b[0m\u001b[0m\n\u001b[1;32m      9\u001b[0m   \u001b[0msims\u001b[0m \u001b[0;34m=\u001b[0m \u001b[0mmodel\u001b[0m\u001b[0;34m.\u001b[0m\u001b[0mdv\u001b[0m\u001b[0;34m.\u001b[0m\u001b[0mmost_similar\u001b[0m\u001b[0;34m(\u001b[0m\u001b[0;34m[\u001b[0m\u001b[0minferred_vector\u001b[0m\u001b[0;34m]\u001b[0m\u001b[0;34m,\u001b[0m \u001b[0mtopn\u001b[0m\u001b[0;34m=\u001b[0m\u001b[0;36m10\u001b[0m\u001b[0;34m)\u001b[0m\u001b[0;34m\u001b[0m\u001b[0;34m\u001b[0m\u001b[0m\n\u001b[0;32m---> 10\u001b[0;31m   \u001b[0mtokenized_sentence\u001b[0m \u001b[0;34m=\u001b[0m \u001b[0mgensim\u001b[0m\u001b[0;34m.\u001b[0m\u001b[0mutils\u001b[0m\u001b[0;34m.\u001b[0m\u001b[0msimple_preprocess\u001b[0m\u001b[0;34m(\u001b[0m\u001b[0mresponse_sentence_pairs\u001b[0m\u001b[0;34m[\u001b[0m\u001b[0mwizard_resps\u001b[0m\u001b[0;34m[\u001b[0m\u001b[0mdoc_id\u001b[0m\u001b[0;34m]\u001b[0m\u001b[0;34m]\u001b[0m\u001b[0;34m,\u001b[0m \u001b[0mmin_len\u001b[0m\u001b[0;34m=\u001b[0m\u001b[0;36m2\u001b[0m\u001b[0;34m,\u001b[0m \u001b[0mmax_len\u001b[0m\u001b[0;34m=\u001b[0m\u001b[0;36m20\u001b[0m\u001b[0;34m)\u001b[0m\u001b[0;34m\u001b[0m\u001b[0;34m\u001b[0m\u001b[0m\n\u001b[0m\u001b[1;32m     11\u001b[0m   \u001b[0;32mif\u001b[0m \u001b[0mtokenized_sentence\u001b[0m \u001b[0;32min\u001b[0m \u001b[0msims\u001b[0m\u001b[0;34m:\u001b[0m\u001b[0;34m\u001b[0m\u001b[0;34m\u001b[0m\u001b[0m\n\u001b[1;32m     12\u001b[0m     \u001b[0mcounter\u001b[0m \u001b[0;34m+=\u001b[0m \u001b[0;36m1\u001b[0m\u001b[0;34m\u001b[0m\u001b[0;34m\u001b[0m\u001b[0m\n",
            "\u001b[0;32m/usr/local/lib/python3.10/dist-packages/gensim/utils.py\u001b[0m in \u001b[0;36msimple_preprocess\u001b[0;34m(doc, deacc, min_len, max_len)\u001b[0m\n\u001b[1;32m    309\u001b[0m     \"\"\"\n\u001b[1;32m    310\u001b[0m     tokens = [\n\u001b[0;32m--> 311\u001b[0;31m         \u001b[0mtoken\u001b[0m \u001b[0;32mfor\u001b[0m \u001b[0mtoken\u001b[0m \u001b[0;32min\u001b[0m \u001b[0mtokenize\u001b[0m\u001b[0;34m(\u001b[0m\u001b[0mdoc\u001b[0m\u001b[0;34m,\u001b[0m \u001b[0mlower\u001b[0m\u001b[0;34m=\u001b[0m\u001b[0;32mTrue\u001b[0m\u001b[0;34m,\u001b[0m \u001b[0mdeacc\u001b[0m\u001b[0;34m=\u001b[0m\u001b[0mdeacc\u001b[0m\u001b[0;34m,\u001b[0m \u001b[0merrors\u001b[0m\u001b[0;34m=\u001b[0m\u001b[0;34m'ignore'\u001b[0m\u001b[0;34m)\u001b[0m\u001b[0;34m\u001b[0m\u001b[0;34m\u001b[0m\u001b[0m\n\u001b[0m\u001b[1;32m    312\u001b[0m         \u001b[0;32mif\u001b[0m \u001b[0mmin_len\u001b[0m \u001b[0;34m<=\u001b[0m \u001b[0mlen\u001b[0m\u001b[0;34m(\u001b[0m\u001b[0mtoken\u001b[0m\u001b[0;34m)\u001b[0m \u001b[0;34m<=\u001b[0m \u001b[0mmax_len\u001b[0m \u001b[0;32mand\u001b[0m \u001b[0;32mnot\u001b[0m \u001b[0mtoken\u001b[0m\u001b[0;34m.\u001b[0m\u001b[0mstartswith\u001b[0m\u001b[0;34m(\u001b[0m\u001b[0;34m'_'\u001b[0m\u001b[0;34m)\u001b[0m\u001b[0;34m\u001b[0m\u001b[0;34m\u001b[0m\u001b[0m\n\u001b[1;32m    313\u001b[0m     ]\n",
            "\u001b[0;32m/usr/local/lib/python3.10/dist-packages/gensim/utils.py\u001b[0m in \u001b[0;36mtokenize\u001b[0;34m(text, lowercase, deacc, encoding, errors, to_lower, lower)\u001b[0m\n\u001b[1;32m    260\u001b[0m     \"\"\"\n\u001b[1;32m    261\u001b[0m     \u001b[0mlowercase\u001b[0m \u001b[0;34m=\u001b[0m \u001b[0mlowercase\u001b[0m \u001b[0;32mor\u001b[0m \u001b[0mto_lower\u001b[0m \u001b[0;32mor\u001b[0m \u001b[0mlower\u001b[0m\u001b[0;34m\u001b[0m\u001b[0;34m\u001b[0m\u001b[0m\n\u001b[0;32m--> 262\u001b[0;31m     \u001b[0mtext\u001b[0m \u001b[0;34m=\u001b[0m \u001b[0mto_unicode\u001b[0m\u001b[0;34m(\u001b[0m\u001b[0mtext\u001b[0m\u001b[0;34m,\u001b[0m \u001b[0mencoding\u001b[0m\u001b[0;34m,\u001b[0m \u001b[0merrors\u001b[0m\u001b[0;34m=\u001b[0m\u001b[0merrors\u001b[0m\u001b[0;34m)\u001b[0m\u001b[0;34m\u001b[0m\u001b[0;34m\u001b[0m\u001b[0m\n\u001b[0m\u001b[1;32m    263\u001b[0m     \u001b[0;32mif\u001b[0m \u001b[0mlowercase\u001b[0m\u001b[0;34m:\u001b[0m\u001b[0;34m\u001b[0m\u001b[0;34m\u001b[0m\u001b[0m\n\u001b[1;32m    264\u001b[0m         \u001b[0mtext\u001b[0m \u001b[0;34m=\u001b[0m \u001b[0mtext\u001b[0m\u001b[0;34m.\u001b[0m\u001b[0mlower\u001b[0m\u001b[0;34m(\u001b[0m\u001b[0;34m)\u001b[0m\u001b[0;34m\u001b[0m\u001b[0;34m\u001b[0m\u001b[0m\n",
            "\u001b[0;32m/usr/local/lib/python3.10/dist-packages/gensim/utils.py\u001b[0m in \u001b[0;36many2unicode\u001b[0;34m(text, encoding, errors)\u001b[0m\n\u001b[1;32m    363\u001b[0m     \u001b[0;32mif\u001b[0m \u001b[0misinstance\u001b[0m\u001b[0;34m(\u001b[0m\u001b[0mtext\u001b[0m\u001b[0;34m,\u001b[0m \u001b[0mstr\u001b[0m\u001b[0;34m)\u001b[0m\u001b[0;34m:\u001b[0m\u001b[0;34m\u001b[0m\u001b[0;34m\u001b[0m\u001b[0m\n\u001b[1;32m    364\u001b[0m         \u001b[0;32mreturn\u001b[0m \u001b[0mtext\u001b[0m\u001b[0;34m\u001b[0m\u001b[0;34m\u001b[0m\u001b[0m\n\u001b[0;32m--> 365\u001b[0;31m     \u001b[0;32mreturn\u001b[0m \u001b[0mstr\u001b[0m\u001b[0;34m(\u001b[0m\u001b[0mtext\u001b[0m\u001b[0;34m,\u001b[0m \u001b[0mencoding\u001b[0m\u001b[0;34m,\u001b[0m \u001b[0merrors\u001b[0m\u001b[0;34m=\u001b[0m\u001b[0merrors\u001b[0m\u001b[0;34m)\u001b[0m\u001b[0;34m\u001b[0m\u001b[0;34m\u001b[0m\u001b[0m\n\u001b[0m\u001b[1;32m    366\u001b[0m \u001b[0;34m\u001b[0m\u001b[0m\n\u001b[1;32m    367\u001b[0m \u001b[0;34m\u001b[0m\u001b[0m\n",
            "\u001b[0;31mTypeError\u001b[0m: decoding to str: need a bytes-like object, NoneType found"
          ]
        }
      ]
    },
    {
      "cell_type": "code",
      "source": [
        "test_indices = {random.randint(0, len(test_subset) - 1) for i in range(int(len(test_corpus)*0.2))}\n",
        "print(f\"{len(test_indices)}\\n{int(len(test_corpus)*0.2)}\")"
      ],
      "metadata": {
        "id": "6B566AS2dgVB",
        "outputId": "bdb874c3-f7d7-4b2b-f80a-a985545615ed",
        "colab": {
          "base_uri": "https://localhost:8080/"
        }
      },
      "execution_count": 69,
      "outputs": [
        {
          "output_type": "stream",
          "name": "stdout",
          "text": [
            "13722\n",
            "15146\n"
          ]
        }
      ]
    },
    {
      "cell_type": "code",
      "source": [
        "print(f\"{list(test_indices)[:10]}\")"
      ],
      "metadata": {
        "id": "vg7dapfLfnRJ",
        "outputId": "589569db-5269-40e4-dcef-5fce5b0399d6",
        "colab": {
          "base_uri": "https://localhost:8080/"
        }
      },
      "execution_count": 73,
      "outputs": [
        {
          "output_type": "stream",
          "name": "stdout",
          "text": [
            "[5, 7, 32776, 32775, 65546, 65547, 32780, 32782, 32783, 65553]\n"
          ]
        }
      ]
    },
    {
      "cell_type": "markdown",
      "source": [
        "# Retrieval-based chatbots\n",
        "\n",
        "This approach is more or less the same as showed during Tutorial_08."
      ],
      "metadata": {
        "id": "WvzjGvo6kcDB"
      }
    },
    {
      "cell_type": "markdown",
      "source": [
        "## Data extraction"
      ],
      "metadata": {
        "id": "7pC5ExS4kl4A"
      }
    },
    {
      "cell_type": "code",
      "source": [
        "import json\n",
        "\n",
        "with open('train.json', 'r') as file:\n",
        "    json_data = file.read()\n",
        "    data = json.loads(json_data)\n",
        "\n",
        "print('Datatype:', type(data))"
      ],
      "metadata": {
        "id": "Il9HbCo5kpEY"
      },
      "execution_count": null,
      "outputs": []
    },
    {
      "cell_type": "code",
      "source": [
        "# just for looking at the raw dataset\n",
        "data[0]"
      ],
      "metadata": {
        "id": "pK0ZNZ7-k4n1"
      },
      "execution_count": null,
      "outputs": []
    },
    {
      "cell_type": "code",
      "source": [
        "# This dataframe is never used, but it is useful for looking at the dataset\n",
        "\n",
        "import pandas as pd\n",
        "\n",
        "df = pd.DataFrame(data)\n",
        "df"
      ],
      "metadata": {
        "id": "OdxOc1DAk5zK"
      },
      "execution_count": null,
      "outputs": []
    },
    {
      "cell_type": "markdown",
      "source": [
        "Now we do some data extraction from the dataset. We want to produce a set were we have the dialog with a apprentice and wizard, these are then used to fine train the model. \n",
        "\n",
        "This limits the model, as it won't have any \"memory\"/context from the complete conversation. But the aim is for it to be acting as a \"smart vector-database\" and retrive similar enough passages. "
      ],
      "metadata": {
        "id": "nbuc0IvTk7gg"
      }
    },
    {
      "cell_type": "code",
      "source": [
        "user_query = []\n",
        "wizard_responses = []\n",
        "\n",
        "chosen_topic = \"\"\n",
        "\n",
        "for dialogue in data:\n",
        "\n",
        "  if not 'Wizard' in dialogue['dialog'][0]['speaker']:\n",
        "      continue\n",
        "\n",
        "  chosen_topic = dialogue['chosen_topic']\n",
        "\n",
        "  user_query.append(chosen_topic + \" \" + dialogue['persona'])\n",
        "\n",
        "  for i, prompt in enumerate(dialogue['dialog']):\n",
        "\n",
        "    if i % 2 == 0:\n",
        "      wizard_responses.append(chosen_topic + \" \" + prompt['text'])\n",
        "    else:\n",
        "      user_query.append(chosen_topic + \" \" + prompt['text'])\n",
        "\n",
        "data_pairs = []\n",
        "\n",
        "for i, _ in enumerate(wizard_responses):\n",
        "\n",
        "  data_pairs.append(\n",
        "      {'message': user_query[i], 'response': wizard_responses[i]}\n",
        "      )"
      ],
      "metadata": {
        "id": "qQjb9ztbk-Bs"
      },
      "execution_count": null,
      "outputs": []
    },
    {
      "cell_type": "markdown",
      "source": [
        "## Model training\n",
        "\n",
        "Now we are able to train the model"
      ],
      "metadata": {
        "id": "s0mJ7boRlEge"
      }
    },
    {
      "cell_type": "code",
      "source": [
        "%pip install sentence_transformers"
      ],
      "metadata": {
        "id": "zAsXycTnlISd"
      },
      "execution_count": null,
      "outputs": []
    },
    {
      "cell_type": "code",
      "source": [
        "from sentence_transformers import SentenceTransformer, CrossEncoder, util\n",
        "\n",
        "semb_model = SentenceTransformer('multi-qa-MiniLM-L6-cos-v1')\n",
        "xenc_model = CrossEncoder('cross-encoder/ms-marco-MiniLM-L-6-v2')"
      ],
      "metadata": {
        "id": "okUDut2UlI_R"
      },
      "execution_count": null,
      "outputs": []
    },
    {
      "cell_type": "code",
      "source": [
        "corpus_embeddings = semb_model.encode([sample['message'] for sample in data_pairs], convert_to_tensor=True, show_progress_bar=True, device='cuda')"
      ],
      "metadata": {
        "id": "KQGs4ILllLUn"
      },
      "execution_count": null,
      "outputs": []
    },
    {
      "cell_type": "markdown",
      "source": [
        "## Model usage"
      ],
      "metadata": {
        "id": "yijEGCDnlOvG"
      }
    },
    {
      "cell_type": "code",
      "source": [
        "%pip install hnswlib"
      ],
      "metadata": {
        "id": "z1jRF5cZlPve"
      },
      "execution_count": null,
      "outputs": []
    },
    {
      "cell_type": "code",
      "source": [
        "import os\n",
        "import hnswlib\n",
        "\n",
        "# Create empty index\n",
        "hnswlib_index = hnswlib.Index(space='cosine', dim=corpus_embeddings.size(1))\n",
        "\n",
        "# Define hnswlib index path\n",
        "index_path = \"./emp_dialogue_hnswlib.index\"\n",
        "\n",
        "# Load index if available\n",
        "if os.path.exists(index_path):\n",
        "    print(\"Loading index...\")\n",
        "    hnswlib_index.load_index(index_path)\n",
        "# Else index data collection\n",
        "else:\n",
        "    # Initialise the index\n",
        "    print(\"Start creating HNSWLIB index\")\n",
        "    hnswlib_index.init_index(max_elements=corpus_embeddings.size(0), ef_construction=400, M=64)\n",
        "    #  Compute the HNSWLIB index (it may take a while)\n",
        "    hnswlib_index.add_items(corpus_embeddings.cpu(), list(range(len(corpus_embeddings))))\n",
        "    # Save the index to a file for future loading\n",
        "    print(\"Saving index to:\", index_path)\n",
        "    hnswlib_index.save_index(index_path)"
      ],
      "metadata": {
        "id": "OZtXIyKllSFD"
      },
      "execution_count": null,
      "outputs": []
    },
    {
      "cell_type": "code",
      "source": [
        "import numpy as np\n",
        "\n",
        "def get_response(message, mes_resp_pairs, index, re_ranking_model=None, top_k=32):\n",
        "    message_embedding = semb_model.encode(message, convert_to_tensor=True).cpu()\n",
        "\n",
        "    corpus_ids, _ = index.knn_query(message_embedding, k=top_k)\n",
        "\n",
        "    model_inputs = [(message, mes_resp_pairs[idx]['response']) for idx in corpus_ids[0]]\n",
        "    cross_scores = xenc_model.predict(model_inputs)\n",
        "\n",
        "    idx = np.argsort(-cross_scores)[0]\n",
        "\n",
        "    return mes_resp_pairs[corpus_ids[0][idx]]['response']"
      ],
      "metadata": {
        "id": "hflSi3AOlXvP"
      },
      "execution_count": null,
      "outputs": []
    },
    {
      "cell_type": "code",
      "source": [
        "chatbot_response = get_response(\n",
        "    \"I'm a huge fan of science fiction myself!\", data_pairs, hnswlib_index, re_ranking_model=xenc_model\n",
        ")\n",
        "chatbot_response"
      ],
      "metadata": {
        "id": "wqFoiYERlcq8"
      },
      "execution_count": null,
      "outputs": []
    },
    {
      "cell_type": "markdown",
      "source": [
        "## Testing the model\n",
        "\n",
        "Testing the model by loading in the **test_random_split.json** file."
      ],
      "metadata": {
        "id": "c4tRo2Aulfe1"
      }
    },
    {
      "cell_type": "markdown",
      "source": [
        "### Data extraction\n",
        "\n",
        "Before we can perform the testing, we need to perform some data extraction. The strategy is to find a conversation between a wizard and a apprentice, and use that to test the accuracy/precision of the model.\n",
        "\n",
        "What we expect is that the model produces a responce that is similar to the one that was used in the conversation. Note that this does not satisfy the \"correct passage\" requirement."
      ],
      "metadata": {
        "id": "GoH-vE-hlhz1"
      }
    },
    {
      "cell_type": "code",
      "source": [
        "with open('test_random_split.json', 'r') as file:\n",
        "    json_data = file.read()\n",
        "    test = json.loads(json_data)\n",
        "\n",
        "print('Datatype:', type(test))"
      ],
      "metadata": {
        "id": "4pidFaVDljuu"
      },
      "execution_count": null,
      "outputs": []
    },
    {
      "cell_type": "code",
      "source": [
        "test_extract = []\n",
        "\n",
        "for i, conversation in enumerate(test):\n",
        "\n",
        "  test_extract.append(\"new_conv_\" + str(i))\n",
        "\n",
        "  for j, dialog in enumerate(conversation['dialog']):\n",
        "\n",
        "    if \"Wizard\" in dialog['speaker']:\n",
        "\n",
        "      if j == 0:\n",
        "        continue\n",
        "\n",
        "      test_extract.append({'wizard':dialog['text']})\n",
        "\n",
        "    if \"Apprentice\" in dialog['speaker']:\n",
        "      test_extract.append({'apprentice':dialog['text']})\n",
        "\n",
        "test_extract[:10]"
      ],
      "metadata": {
        "id": "Hq28664DlnHq"
      },
      "execution_count": null,
      "outputs": []
    },
    {
      "cell_type": "markdown",
      "source": [
        "The data is still quite \"dirty\". So we will perform the cumbersome clean up in the next cell to get a list of directories, were the directories contians the matches/pairs that will be used for testing."
      ],
      "metadata": {
        "id": "nceQF58olprD"
      }
    },
    {
      "cell_type": "code",
      "source": [
        "pair = []\n",
        "\n",
        "test_pairs = []\n",
        "\n",
        "for i, text in enumerate(test_extract):\n",
        "\n",
        "  if \"new_conv_\" in text:\n",
        "    continue\n",
        "\n",
        "  pair.append(text)\n",
        "\n",
        "  if len(pair) == 2:\n",
        "    \n",
        "    entry = {'apprentice':\"\", 'wizard': \"\"}\n",
        "\n",
        "    for _, e in enumerate(pair):\n",
        "\n",
        "      if 'apprentice' in e.keys():\n",
        "        entry['apprentice'] = e['apprentice']\n",
        "\n",
        "      if 'wizard' in e.keys():\n",
        "        entry['wizard'] = e['wizard']\n",
        "\n",
        "\n",
        "    test_pairs.append(entry)\n",
        "    pair = []\n",
        "\n",
        "test_pairs[:5]"
      ],
      "metadata": {
        "id": "2Zj0kupJlrg0"
      },
      "execution_count": null,
      "outputs": []
    },
    {
      "cell_type": "code",
      "source": [
        "import random\n",
        "\n",
        "rand_int = random.randrange(0,500)\n",
        "\n",
        "chatbot_response = get_response(\n",
        "      test_pairs[rand_int]['apprentice'], data_pairs, hnswlib_index, re_ranking_model=xenc_model\n",
        "  )\n",
        "\n",
        "print(test_pairs[rand_int]['apprentice'])\n",
        "print(test_pairs[rand_int]['wizard'])\n",
        "print(chatbot_response)"
      ],
      "metadata": {
        "id": "d4pVzX4mlwG9"
      },
      "execution_count": null,
      "outputs": []
    },
    {
      "cell_type": "markdown",
      "source": [
        "Now we should be able to do some testing. Here we use two approaches, a naive one were we are looking at the exact matches, and one were we are doing BLEU-scoring\n",
        "\n",
        "The naive approach is useful for the assignment requirement were it is specified to find the \"correct passage\". \n",
        "\n",
        "The BLEU-score is a score to see how close the precision is. It might not provide that much (if any) useful informaiton to us, as we are not doing a sentence-to-sentence transformation."
      ],
      "metadata": {
        "id": "1dNr1tNVlyI-"
      }
    },
    {
      "cell_type": "code",
      "source": [
        "from nltk.translate.bleu_score import sentence_bleu\n",
        "\n",
        "correct_responses = 0\n",
        "\n",
        "bleu_scores = []\n",
        "\n",
        "for _, entry in enumerate(test_pairs):\n",
        "  chatbot_response = get_response(\n",
        "      entry['apprentice'], data_pairs, hnswlib_index, re_ranking_model=xenc_model\n",
        "  )\n",
        "\n",
        "  # Naive accuracy\n",
        "  if chatbot_response == entry['wizard']:\n",
        "    correct_responses += 1\n",
        "  \n",
        "  # BLEU score calculation\n",
        "\n",
        "  reference = [entry['apprentice'].split()]\n",
        "  candidate = chatbot_response.split()\n",
        "  bleu_scores.append(sentence_bleu(reference, candidate))\n",
        "\n",
        "accuracy = correct_responses / len(test_pairs)\n",
        "\n",
        "print(\"Test accuracy (%):\", accuracy * 100)\n",
        "print(\"Average BLEU-score:\", sum(bleu_scores) / len(bleu_scores))"
      ],
      "metadata": {
        "id": "VKXACty1l1gM"
      },
      "execution_count": null,
      "outputs": []
    },
    {
      "cell_type": "markdown",
      "source": [
        "# Retrieval-based response chatbot (Not accurate title)\n",
        "\n",
        "This implementation aims to create a retrieval-based responce chatbot to provide the correct awnser to a given passage. This is done by taking all the correct awnsers, generating embeddings with them and then performing a \"search\" in the created vector space to find the passage that has the closest match with the given passage"
      ],
      "metadata": {
        "id": "4du53hLC0l4T"
      }
    },
    {
      "cell_type": "markdown",
      "source": [
        "## Data extraction\n",
        "\n",
        "Extracts user prompts and wizard responses from a list of dialogues and stores them in separate lists based on the condition that the dialogue speaker is the wizard and the order in which they appear in the dialogue.\n",
        "\n",
        "Here we also concatenate the strings with some extra information, like the chosen topic, in order to increase the precision of the search later. This is a valid approach and can be seen as that we are just adding more context to the passage."
      ],
      "metadata": {
        "id": "9PVaSxgh1ZYh"
      }
    },
    {
      "cell_type": "code",
      "source": [
        "#sets of documents\n",
        "user_query = []\n",
        "wizard_responses = []\n",
        "\n",
        "chosen_topic = \"\"\n",
        "\n",
        "for dialogue in data:\n",
        "\n",
        "  if not 'Wizard' in dialogue['dialog'][0]['speaker']:\n",
        "      continue\n",
        "\n",
        "  chosen_topic = dialogue['chosen_topic']\n",
        "\n",
        "  user_query.append(chosen_topic + \" \" + dialogue['persona'])\n",
        "\n",
        "  for i, prompt in enumerate(dialogue['dialog']):\n",
        "\n",
        "    if i % 2 == 0:\n",
        "      wizard_responses.append(chosen_topic + \" \" + prompt['text'])\n",
        "    else:\n",
        "      user_query.append(chosen_topic + \" \" + prompt['text'])"
      ],
      "metadata": {
        "id": "de0vqxyN1UYp"
      },
      "execution_count": null,
      "outputs": []
    },
    {
      "cell_type": "markdown",
      "source": [
        "## Document vectorization"
      ],
      "metadata": {
        "id": "83DNodJY1ee8"
      }
    },
    {
      "cell_type": "code",
      "source": [
        "# TfidfVectorizer \n",
        "# CountVectorizer\n",
        "from sklearn.feature_extraction.text import TfidfVectorizer,CountVectorizer"
      ],
      "metadata": {
        "id": "gzjURoxn1h1B"
      },
      "execution_count": null,
      "outputs": []
    },
    {
      "cell_type": "code",
      "source": [
        "# instantiate the vectorizer object\n",
        "#countvectorizer = CountVectorizer(analyzer= 'word', stop_words='english')\n",
        "tfidfvectorizer = TfidfVectorizer(analyzer='word', stop_words= 'english')"
      ],
      "metadata": {
        "id": "_iySfXyq1l-x"
      },
      "execution_count": null,
      "outputs": []
    },
    {
      "cell_type": "code",
      "source": [
        "# convert th documents into a matrix\n",
        "#count_wm = countvectorizer.fit_transform(train)\n",
        "query_wm = tfidfvectorizer.fit_transform(user_query)\n",
        "response_wm = tfidfvectorizer.fit_transform(wizard_responses)"
      ],
      "metadata": {
        "id": "epLmOjK31n_N"
      },
      "execution_count": null,
      "outputs": []
    },
    {
      "cell_type": "code",
      "source": [
        "# retrieve the terms found in the corpora\n",
        "# if we take same parameters on both Classes(CountVectorizer and TfidfVectorizer) , it will give same output of get_feature_names() methods)\n",
        "query_tokens = tfidfvectorizer.get_feature_names_out(query_wm)\n",
        "responce_tokens = tfidfvectorizer.get_feature_names_out(response_wm)"
      ],
      "metadata": {
        "id": "hgDz7AHK1p8H"
      },
      "execution_count": null,
      "outputs": []
    },
    {
      "cell_type": "markdown",
      "source": [
        "## Verification\n",
        "\n",
        "Some output in order to quickly verify the embeddings"
      ],
      "metadata": {
        "id": "lfh0J_oE2F4n"
      }
    },
    {
      "cell_type": "code",
      "source": [
        "responce_vectors = tfidfvectorizer.transform(wizard_responses)\n",
        "query_vectors = tfidfvectorizer.transform(user_query)\n",
        "\n",
        "print('responce_vectors:\\n', responce_vectors)\n",
        "\n",
        "print('query_vectors:\\n', query_vectors)"
      ],
      "metadata": {
        "id": "5AZ_br6Z1sgT"
      },
      "execution_count": null,
      "outputs": []
    },
    {
      "cell_type": "code",
      "source": [
        "sorted([(query_tokens[j], query_vectors[0, j]) for j in query_vectors[0].nonzero()[1]], key=lambda x: -x[1])"
      ],
      "metadata": {
        "id": "ue_REmXm1vqn"
      },
      "execution_count": null,
      "outputs": []
    },
    {
      "cell_type": "markdown",
      "source": [
        "## Search the vector space\n",
        "\n",
        "Here we calculate the closest neighbor to the embedding of the query, and hopefully that is the \"correct\" passage we are looking for."
      ],
      "metadata": {
        "id": "3hkFx9601yvc"
      }
    },
    {
      "cell_type": "code",
      "source": [
        "import numpy as np\n",
        "\n",
        "query = 'Gardening: i like to garden.'\n",
        "\n",
        "query_vec = tfidfvectorizer.transform([query])[0]\n",
        "\n",
        "index = np.argmax([query_vec.multiply(vector_documents[i]).sum() for i in range(len(train))])\n",
        "print(train[index])"
      ],
      "metadata": {
        "id": "MP-6PIKB1yFm"
      },
      "execution_count": null,
      "outputs": []
    },
    {
      "cell_type": "code",
      "source": [],
      "metadata": {
        "id": "LKDHFfuM1vgx"
      },
      "execution_count": null,
      "outputs": []
    }
  ]
}