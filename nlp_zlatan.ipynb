{
  "nbformat": 4,
  "nbformat_minor": 0,
  "metadata": {
    "colab": {
      "provenance": [],
      "toc_visible": true,
      "gpuType": "T4",
      "include_colab_link": true
    },
    "kernelspec": {
      "name": "python3",
      "display_name": "Python 3"
    },
    "language_info": {
      "name": "python"
    },
    "accelerator": "GPU",
    "gpuClass": "standard",
    "widgets": {
      "application/vnd.jupyter.widget-state+json": {
        "db96924aa56e45958f37e4caf5523f2c": {
          "model_module": "@jupyter-widgets/controls",
          "model_name": "HBoxModel",
          "model_module_version": "1.5.0",
          "state": {
            "_dom_classes": [],
            "_model_module": "@jupyter-widgets/controls",
            "_model_module_version": "1.5.0",
            "_model_name": "HBoxModel",
            "_view_count": null,
            "_view_module": "@jupyter-widgets/controls",
            "_view_module_version": "1.5.0",
            "_view_name": "HBoxView",
            "box_style": "",
            "children": [
              "IPY_MODEL_3556cea2e1e740de9d63b8e66bf3f922",
              "IPY_MODEL_f4276cc69dcc4a0c9b7c91eb3bd250c3",
              "IPY_MODEL_2070364e2d7d496da48d6458c27ea557"
            ],
            "layout": "IPY_MODEL_68b67324a7314d67997630018bf84de2"
          }
        },
        "3556cea2e1e740de9d63b8e66bf3f922": {
          "model_module": "@jupyter-widgets/controls",
          "model_name": "HTMLModel",
          "model_module_version": "1.5.0",
          "state": {
            "_dom_classes": [],
            "_model_module": "@jupyter-widgets/controls",
            "_model_module_version": "1.5.0",
            "_model_name": "HTMLModel",
            "_view_count": null,
            "_view_module": "@jupyter-widgets/controls",
            "_view_module_version": "1.5.0",
            "_view_name": "HTMLView",
            "description": "",
            "description_tooltip": null,
            "layout": "IPY_MODEL_cafa7cd1e9be421ab4f216c68b6131e2",
            "placeholder": "​",
            "style": "IPY_MODEL_22bad860f93947789a10aa0fb033a069",
            "value": "Downloading (…)okenizer_config.json: 100%"
          }
        },
        "f4276cc69dcc4a0c9b7c91eb3bd250c3": {
          "model_module": "@jupyter-widgets/controls",
          "model_name": "FloatProgressModel",
          "model_module_version": "1.5.0",
          "state": {
            "_dom_classes": [],
            "_model_module": "@jupyter-widgets/controls",
            "_model_module_version": "1.5.0",
            "_model_name": "FloatProgressModel",
            "_view_count": null,
            "_view_module": "@jupyter-widgets/controls",
            "_view_module_version": "1.5.0",
            "_view_name": "ProgressView",
            "bar_style": "success",
            "description": "",
            "description_tooltip": null,
            "layout": "IPY_MODEL_a75e09e5566c470ba026acb91fb2126e",
            "max": 350,
            "min": 0,
            "orientation": "horizontal",
            "style": "IPY_MODEL_7553657ae8b044c5a1ae18efb879968d",
            "value": 350
          }
        },
        "2070364e2d7d496da48d6458c27ea557": {
          "model_module": "@jupyter-widgets/controls",
          "model_name": "HTMLModel",
          "model_module_version": "1.5.0",
          "state": {
            "_dom_classes": [],
            "_model_module": "@jupyter-widgets/controls",
            "_model_module_version": "1.5.0",
            "_model_name": "HTMLModel",
            "_view_count": null,
            "_view_module": "@jupyter-widgets/controls",
            "_view_module_version": "1.5.0",
            "_view_name": "HTMLView",
            "description": "",
            "description_tooltip": null,
            "layout": "IPY_MODEL_ca017a3a39d145be9c507c8533cb87db",
            "placeholder": "​",
            "style": "IPY_MODEL_dbe2a4e461df4f208c6d9f01d76eefae",
            "value": " 350/350 [00:00&lt;00:00, 5.42kB/s]"
          }
        },
        "68b67324a7314d67997630018bf84de2": {
          "model_module": "@jupyter-widgets/base",
          "model_name": "LayoutModel",
          "model_module_version": "1.2.0",
          "state": {
            "_model_module": "@jupyter-widgets/base",
            "_model_module_version": "1.2.0",
            "_model_name": "LayoutModel",
            "_view_count": null,
            "_view_module": "@jupyter-widgets/base",
            "_view_module_version": "1.2.0",
            "_view_name": "LayoutView",
            "align_content": null,
            "align_items": null,
            "align_self": null,
            "border": null,
            "bottom": null,
            "display": null,
            "flex": null,
            "flex_flow": null,
            "grid_area": null,
            "grid_auto_columns": null,
            "grid_auto_flow": null,
            "grid_auto_rows": null,
            "grid_column": null,
            "grid_gap": null,
            "grid_row": null,
            "grid_template_areas": null,
            "grid_template_columns": null,
            "grid_template_rows": null,
            "height": null,
            "justify_content": null,
            "justify_items": null,
            "left": null,
            "margin": null,
            "max_height": null,
            "max_width": null,
            "min_height": null,
            "min_width": null,
            "object_fit": null,
            "object_position": null,
            "order": null,
            "overflow": null,
            "overflow_x": null,
            "overflow_y": null,
            "padding": null,
            "right": null,
            "top": null,
            "visibility": null,
            "width": null
          }
        },
        "cafa7cd1e9be421ab4f216c68b6131e2": {
          "model_module": "@jupyter-widgets/base",
          "model_name": "LayoutModel",
          "model_module_version": "1.2.0",
          "state": {
            "_model_module": "@jupyter-widgets/base",
            "_model_module_version": "1.2.0",
            "_model_name": "LayoutModel",
            "_view_count": null,
            "_view_module": "@jupyter-widgets/base",
            "_view_module_version": "1.2.0",
            "_view_name": "LayoutView",
            "align_content": null,
            "align_items": null,
            "align_self": null,
            "border": null,
            "bottom": null,
            "display": null,
            "flex": null,
            "flex_flow": null,
            "grid_area": null,
            "grid_auto_columns": null,
            "grid_auto_flow": null,
            "grid_auto_rows": null,
            "grid_column": null,
            "grid_gap": null,
            "grid_row": null,
            "grid_template_areas": null,
            "grid_template_columns": null,
            "grid_template_rows": null,
            "height": null,
            "justify_content": null,
            "justify_items": null,
            "left": null,
            "margin": null,
            "max_height": null,
            "max_width": null,
            "min_height": null,
            "min_width": null,
            "object_fit": null,
            "object_position": null,
            "order": null,
            "overflow": null,
            "overflow_x": null,
            "overflow_y": null,
            "padding": null,
            "right": null,
            "top": null,
            "visibility": null,
            "width": null
          }
        },
        "22bad860f93947789a10aa0fb033a069": {
          "model_module": "@jupyter-widgets/controls",
          "model_name": "DescriptionStyleModel",
          "model_module_version": "1.5.0",
          "state": {
            "_model_module": "@jupyter-widgets/controls",
            "_model_module_version": "1.5.0",
            "_model_name": "DescriptionStyleModel",
            "_view_count": null,
            "_view_module": "@jupyter-widgets/base",
            "_view_module_version": "1.2.0",
            "_view_name": "StyleView",
            "description_width": ""
          }
        },
        "a75e09e5566c470ba026acb91fb2126e": {
          "model_module": "@jupyter-widgets/base",
          "model_name": "LayoutModel",
          "model_module_version": "1.2.0",
          "state": {
            "_model_module": "@jupyter-widgets/base",
            "_model_module_version": "1.2.0",
            "_model_name": "LayoutModel",
            "_view_count": null,
            "_view_module": "@jupyter-widgets/base",
            "_view_module_version": "1.2.0",
            "_view_name": "LayoutView",
            "align_content": null,
            "align_items": null,
            "align_self": null,
            "border": null,
            "bottom": null,
            "display": null,
            "flex": null,
            "flex_flow": null,
            "grid_area": null,
            "grid_auto_columns": null,
            "grid_auto_flow": null,
            "grid_auto_rows": null,
            "grid_column": null,
            "grid_gap": null,
            "grid_row": null,
            "grid_template_areas": null,
            "grid_template_columns": null,
            "grid_template_rows": null,
            "height": null,
            "justify_content": null,
            "justify_items": null,
            "left": null,
            "margin": null,
            "max_height": null,
            "max_width": null,
            "min_height": null,
            "min_width": null,
            "object_fit": null,
            "object_position": null,
            "order": null,
            "overflow": null,
            "overflow_x": null,
            "overflow_y": null,
            "padding": null,
            "right": null,
            "top": null,
            "visibility": null,
            "width": null
          }
        },
        "7553657ae8b044c5a1ae18efb879968d": {
          "model_module": "@jupyter-widgets/controls",
          "model_name": "ProgressStyleModel",
          "model_module_version": "1.5.0",
          "state": {
            "_model_module": "@jupyter-widgets/controls",
            "_model_module_version": "1.5.0",
            "_model_name": "ProgressStyleModel",
            "_view_count": null,
            "_view_module": "@jupyter-widgets/base",
            "_view_module_version": "1.2.0",
            "_view_name": "StyleView",
            "bar_color": null,
            "description_width": ""
          }
        },
        "ca017a3a39d145be9c507c8533cb87db": {
          "model_module": "@jupyter-widgets/base",
          "model_name": "LayoutModel",
          "model_module_version": "1.2.0",
          "state": {
            "_model_module": "@jupyter-widgets/base",
            "_model_module_version": "1.2.0",
            "_model_name": "LayoutModel",
            "_view_count": null,
            "_view_module": "@jupyter-widgets/base",
            "_view_module_version": "1.2.0",
            "_view_name": "LayoutView",
            "align_content": null,
            "align_items": null,
            "align_self": null,
            "border": null,
            "bottom": null,
            "display": null,
            "flex": null,
            "flex_flow": null,
            "grid_area": null,
            "grid_auto_columns": null,
            "grid_auto_flow": null,
            "grid_auto_rows": null,
            "grid_column": null,
            "grid_gap": null,
            "grid_row": null,
            "grid_template_areas": null,
            "grid_template_columns": null,
            "grid_template_rows": null,
            "height": null,
            "justify_content": null,
            "justify_items": null,
            "left": null,
            "margin": null,
            "max_height": null,
            "max_width": null,
            "min_height": null,
            "min_width": null,
            "object_fit": null,
            "object_position": null,
            "order": null,
            "overflow": null,
            "overflow_x": null,
            "overflow_y": null,
            "padding": null,
            "right": null,
            "top": null,
            "visibility": null,
            "width": null
          }
        },
        "dbe2a4e461df4f208c6d9f01d76eefae": {
          "model_module": "@jupyter-widgets/controls",
          "model_name": "DescriptionStyleModel",
          "model_module_version": "1.5.0",
          "state": {
            "_model_module": "@jupyter-widgets/controls",
            "_model_module_version": "1.5.0",
            "_model_name": "DescriptionStyleModel",
            "_view_count": null,
            "_view_module": "@jupyter-widgets/base",
            "_view_module_version": "1.2.0",
            "_view_name": "StyleView",
            "description_width": ""
          }
        },
        "3c3cabde6c934873a839d63349b77384": {
          "model_module": "@jupyter-widgets/controls",
          "model_name": "HBoxModel",
          "model_module_version": "1.5.0",
          "state": {
            "_dom_classes": [],
            "_model_module": "@jupyter-widgets/controls",
            "_model_module_version": "1.5.0",
            "_model_name": "HBoxModel",
            "_view_count": null,
            "_view_module": "@jupyter-widgets/controls",
            "_view_module_version": "1.5.0",
            "_view_name": "HBoxView",
            "box_style": "",
            "children": [
              "IPY_MODEL_bc013bb1f9c04b3ab8b22f21fc946fe1",
              "IPY_MODEL_238cee319f414566ac478f3bca8dfc8e",
              "IPY_MODEL_f4ada538b4b349a1b6b928312e972be9"
            ],
            "layout": "IPY_MODEL_4a9dc74d24004ed8b2de1df6e01bf50b"
          }
        },
        "bc013bb1f9c04b3ab8b22f21fc946fe1": {
          "model_module": "@jupyter-widgets/controls",
          "model_name": "HTMLModel",
          "model_module_version": "1.5.0",
          "state": {
            "_dom_classes": [],
            "_model_module": "@jupyter-widgets/controls",
            "_model_module_version": "1.5.0",
            "_model_name": "HTMLModel",
            "_view_count": null,
            "_view_module": "@jupyter-widgets/controls",
            "_view_module_version": "1.5.0",
            "_view_name": "HTMLView",
            "description": "",
            "description_tooltip": null,
            "layout": "IPY_MODEL_eb98f90a388647c5bc7b242fe4371b71",
            "placeholder": "​",
            "style": "IPY_MODEL_4aa5283cd4d845b798e9ec6be80862a2",
            "value": "Downloading (…)solve/main/vocab.txt: 100%"
          }
        },
        "238cee319f414566ac478f3bca8dfc8e": {
          "model_module": "@jupyter-widgets/controls",
          "model_name": "FloatProgressModel",
          "model_module_version": "1.5.0",
          "state": {
            "_dom_classes": [],
            "_model_module": "@jupyter-widgets/controls",
            "_model_module_version": "1.5.0",
            "_model_name": "FloatProgressModel",
            "_view_count": null,
            "_view_module": "@jupyter-widgets/controls",
            "_view_module_version": "1.5.0",
            "_view_name": "ProgressView",
            "bar_style": "success",
            "description": "",
            "description_tooltip": null,
            "layout": "IPY_MODEL_39d06cc0316342a0ae8db5111ed61ab7",
            "max": 231508,
            "min": 0,
            "orientation": "horizontal",
            "style": "IPY_MODEL_0d495a12bc394fce9162706c583292b9",
            "value": 231508
          }
        },
        "f4ada538b4b349a1b6b928312e972be9": {
          "model_module": "@jupyter-widgets/controls",
          "model_name": "HTMLModel",
          "model_module_version": "1.5.0",
          "state": {
            "_dom_classes": [],
            "_model_module": "@jupyter-widgets/controls",
            "_model_module_version": "1.5.0",
            "_model_name": "HTMLModel",
            "_view_count": null,
            "_view_module": "@jupyter-widgets/controls",
            "_view_module_version": "1.5.0",
            "_view_name": "HTMLView",
            "description": "",
            "description_tooltip": null,
            "layout": "IPY_MODEL_1459ff2f9a48499586be0907c1a78aef",
            "placeholder": "​",
            "style": "IPY_MODEL_6c50f48969c94a98bbf0399bf9aca757",
            "value": " 232k/232k [00:00&lt;00:00, 2.53MB/s]"
          }
        },
        "4a9dc74d24004ed8b2de1df6e01bf50b": {
          "model_module": "@jupyter-widgets/base",
          "model_name": "LayoutModel",
          "model_module_version": "1.2.0",
          "state": {
            "_model_module": "@jupyter-widgets/base",
            "_model_module_version": "1.2.0",
            "_model_name": "LayoutModel",
            "_view_count": null,
            "_view_module": "@jupyter-widgets/base",
            "_view_module_version": "1.2.0",
            "_view_name": "LayoutView",
            "align_content": null,
            "align_items": null,
            "align_self": null,
            "border": null,
            "bottom": null,
            "display": null,
            "flex": null,
            "flex_flow": null,
            "grid_area": null,
            "grid_auto_columns": null,
            "grid_auto_flow": null,
            "grid_auto_rows": null,
            "grid_column": null,
            "grid_gap": null,
            "grid_row": null,
            "grid_template_areas": null,
            "grid_template_columns": null,
            "grid_template_rows": null,
            "height": null,
            "justify_content": null,
            "justify_items": null,
            "left": null,
            "margin": null,
            "max_height": null,
            "max_width": null,
            "min_height": null,
            "min_width": null,
            "object_fit": null,
            "object_position": null,
            "order": null,
            "overflow": null,
            "overflow_x": null,
            "overflow_y": null,
            "padding": null,
            "right": null,
            "top": null,
            "visibility": null,
            "width": null
          }
        },
        "eb98f90a388647c5bc7b242fe4371b71": {
          "model_module": "@jupyter-widgets/base",
          "model_name": "LayoutModel",
          "model_module_version": "1.2.0",
          "state": {
            "_model_module": "@jupyter-widgets/base",
            "_model_module_version": "1.2.0",
            "_model_name": "LayoutModel",
            "_view_count": null,
            "_view_module": "@jupyter-widgets/base",
            "_view_module_version": "1.2.0",
            "_view_name": "LayoutView",
            "align_content": null,
            "align_items": null,
            "align_self": null,
            "border": null,
            "bottom": null,
            "display": null,
            "flex": null,
            "flex_flow": null,
            "grid_area": null,
            "grid_auto_columns": null,
            "grid_auto_flow": null,
            "grid_auto_rows": null,
            "grid_column": null,
            "grid_gap": null,
            "grid_row": null,
            "grid_template_areas": null,
            "grid_template_columns": null,
            "grid_template_rows": null,
            "height": null,
            "justify_content": null,
            "justify_items": null,
            "left": null,
            "margin": null,
            "max_height": null,
            "max_width": null,
            "min_height": null,
            "min_width": null,
            "object_fit": null,
            "object_position": null,
            "order": null,
            "overflow": null,
            "overflow_x": null,
            "overflow_y": null,
            "padding": null,
            "right": null,
            "top": null,
            "visibility": null,
            "width": null
          }
        },
        "4aa5283cd4d845b798e9ec6be80862a2": {
          "model_module": "@jupyter-widgets/controls",
          "model_name": "DescriptionStyleModel",
          "model_module_version": "1.5.0",
          "state": {
            "_model_module": "@jupyter-widgets/controls",
            "_model_module_version": "1.5.0",
            "_model_name": "DescriptionStyleModel",
            "_view_count": null,
            "_view_module": "@jupyter-widgets/base",
            "_view_module_version": "1.2.0",
            "_view_name": "StyleView",
            "description_width": ""
          }
        },
        "39d06cc0316342a0ae8db5111ed61ab7": {
          "model_module": "@jupyter-widgets/base",
          "model_name": "LayoutModel",
          "model_module_version": "1.2.0",
          "state": {
            "_model_module": "@jupyter-widgets/base",
            "_model_module_version": "1.2.0",
            "_model_name": "LayoutModel",
            "_view_count": null,
            "_view_module": "@jupyter-widgets/base",
            "_view_module_version": "1.2.0",
            "_view_name": "LayoutView",
            "align_content": null,
            "align_items": null,
            "align_self": null,
            "border": null,
            "bottom": null,
            "display": null,
            "flex": null,
            "flex_flow": null,
            "grid_area": null,
            "grid_auto_columns": null,
            "grid_auto_flow": null,
            "grid_auto_rows": null,
            "grid_column": null,
            "grid_gap": null,
            "grid_row": null,
            "grid_template_areas": null,
            "grid_template_columns": null,
            "grid_template_rows": null,
            "height": null,
            "justify_content": null,
            "justify_items": null,
            "left": null,
            "margin": null,
            "max_height": null,
            "max_width": null,
            "min_height": null,
            "min_width": null,
            "object_fit": null,
            "object_position": null,
            "order": null,
            "overflow": null,
            "overflow_x": null,
            "overflow_y": null,
            "padding": null,
            "right": null,
            "top": null,
            "visibility": null,
            "width": null
          }
        },
        "0d495a12bc394fce9162706c583292b9": {
          "model_module": "@jupyter-widgets/controls",
          "model_name": "ProgressStyleModel",
          "model_module_version": "1.5.0",
          "state": {
            "_model_module": "@jupyter-widgets/controls",
            "_model_module_version": "1.5.0",
            "_model_name": "ProgressStyleModel",
            "_view_count": null,
            "_view_module": "@jupyter-widgets/base",
            "_view_module_version": "1.2.0",
            "_view_name": "StyleView",
            "bar_color": null,
            "description_width": ""
          }
        },
        "1459ff2f9a48499586be0907c1a78aef": {
          "model_module": "@jupyter-widgets/base",
          "model_name": "LayoutModel",
          "model_module_version": "1.2.0",
          "state": {
            "_model_module": "@jupyter-widgets/base",
            "_model_module_version": "1.2.0",
            "_model_name": "LayoutModel",
            "_view_count": null,
            "_view_module": "@jupyter-widgets/base",
            "_view_module_version": "1.2.0",
            "_view_name": "LayoutView",
            "align_content": null,
            "align_items": null,
            "align_self": null,
            "border": null,
            "bottom": null,
            "display": null,
            "flex": null,
            "flex_flow": null,
            "grid_area": null,
            "grid_auto_columns": null,
            "grid_auto_flow": null,
            "grid_auto_rows": null,
            "grid_column": null,
            "grid_gap": null,
            "grid_row": null,
            "grid_template_areas": null,
            "grid_template_columns": null,
            "grid_template_rows": null,
            "height": null,
            "justify_content": null,
            "justify_items": null,
            "left": null,
            "margin": null,
            "max_height": null,
            "max_width": null,
            "min_height": null,
            "min_width": null,
            "object_fit": null,
            "object_position": null,
            "order": null,
            "overflow": null,
            "overflow_x": null,
            "overflow_y": null,
            "padding": null,
            "right": null,
            "top": null,
            "visibility": null,
            "width": null
          }
        },
        "6c50f48969c94a98bbf0399bf9aca757": {
          "model_module": "@jupyter-widgets/controls",
          "model_name": "DescriptionStyleModel",
          "model_module_version": "1.5.0",
          "state": {
            "_model_module": "@jupyter-widgets/controls",
            "_model_module_version": "1.5.0",
            "_model_name": "DescriptionStyleModel",
            "_view_count": null,
            "_view_module": "@jupyter-widgets/base",
            "_view_module_version": "1.2.0",
            "_view_name": "StyleView",
            "description_width": ""
          }
        },
        "ba9b3a1900ef441aad121504ec1958ab": {
          "model_module": "@jupyter-widgets/controls",
          "model_name": "HBoxModel",
          "model_module_version": "1.5.0",
          "state": {
            "_dom_classes": [],
            "_model_module": "@jupyter-widgets/controls",
            "_model_module_version": "1.5.0",
            "_model_name": "HBoxModel",
            "_view_count": null,
            "_view_module": "@jupyter-widgets/controls",
            "_view_module_version": "1.5.0",
            "_view_name": "HBoxView",
            "box_style": "",
            "children": [
              "IPY_MODEL_10a45c33d1854a1a8d183120c87e8659",
              "IPY_MODEL_43c17d90e66b4ad9b041b714a90350b1",
              "IPY_MODEL_ff2e398e47a34202824d29fe3f19c970"
            ],
            "layout": "IPY_MODEL_72b83c0389d4429c8cfe8fa08609586d"
          }
        },
        "10a45c33d1854a1a8d183120c87e8659": {
          "model_module": "@jupyter-widgets/controls",
          "model_name": "HTMLModel",
          "model_module_version": "1.5.0",
          "state": {
            "_dom_classes": [],
            "_model_module": "@jupyter-widgets/controls",
            "_model_module_version": "1.5.0",
            "_model_name": "HTMLModel",
            "_view_count": null,
            "_view_module": "@jupyter-widgets/controls",
            "_view_module_version": "1.5.0",
            "_view_name": "HTMLView",
            "description": "",
            "description_tooltip": null,
            "layout": "IPY_MODEL_0c3c8478c68949498ceb8e2b09c23611",
            "placeholder": "​",
            "style": "IPY_MODEL_4a47bf7ff2dd49f4b7f63ba56f7fcde4",
            "value": "Downloading (…)/main/tokenizer.json: 100%"
          }
        },
        "43c17d90e66b4ad9b041b714a90350b1": {
          "model_module": "@jupyter-widgets/controls",
          "model_name": "FloatProgressModel",
          "model_module_version": "1.5.0",
          "state": {
            "_dom_classes": [],
            "_model_module": "@jupyter-widgets/controls",
            "_model_module_version": "1.5.0",
            "_model_name": "FloatProgressModel",
            "_view_count": null,
            "_view_module": "@jupyter-widgets/controls",
            "_view_module_version": "1.5.0",
            "_view_name": "ProgressView",
            "bar_style": "success",
            "description": "",
            "description_tooltip": null,
            "layout": "IPY_MODEL_090dc26d13374fc095d811a3eba6ed9e",
            "max": 466247,
            "min": 0,
            "orientation": "horizontal",
            "style": "IPY_MODEL_1d25bd7372bb4d8f9ac40fcdfc1fa153",
            "value": 466247
          }
        },
        "ff2e398e47a34202824d29fe3f19c970": {
          "model_module": "@jupyter-widgets/controls",
          "model_name": "HTMLModel",
          "model_module_version": "1.5.0",
          "state": {
            "_dom_classes": [],
            "_model_module": "@jupyter-widgets/controls",
            "_model_module_version": "1.5.0",
            "_model_name": "HTMLModel",
            "_view_count": null,
            "_view_module": "@jupyter-widgets/controls",
            "_view_module_version": "1.5.0",
            "_view_name": "HTMLView",
            "description": "",
            "description_tooltip": null,
            "layout": "IPY_MODEL_9854dd076a3a4f088d12d3b18bec69ea",
            "placeholder": "​",
            "style": "IPY_MODEL_d0dd4c1f1f634018b02be76d8114f382",
            "value": " 466k/466k [00:00&lt;00:00, 9.72MB/s]"
          }
        },
        "72b83c0389d4429c8cfe8fa08609586d": {
          "model_module": "@jupyter-widgets/base",
          "model_name": "LayoutModel",
          "model_module_version": "1.2.0",
          "state": {
            "_model_module": "@jupyter-widgets/base",
            "_model_module_version": "1.2.0",
            "_model_name": "LayoutModel",
            "_view_count": null,
            "_view_module": "@jupyter-widgets/base",
            "_view_module_version": "1.2.0",
            "_view_name": "LayoutView",
            "align_content": null,
            "align_items": null,
            "align_self": null,
            "border": null,
            "bottom": null,
            "display": null,
            "flex": null,
            "flex_flow": null,
            "grid_area": null,
            "grid_auto_columns": null,
            "grid_auto_flow": null,
            "grid_auto_rows": null,
            "grid_column": null,
            "grid_gap": null,
            "grid_row": null,
            "grid_template_areas": null,
            "grid_template_columns": null,
            "grid_template_rows": null,
            "height": null,
            "justify_content": null,
            "justify_items": null,
            "left": null,
            "margin": null,
            "max_height": null,
            "max_width": null,
            "min_height": null,
            "min_width": null,
            "object_fit": null,
            "object_position": null,
            "order": null,
            "overflow": null,
            "overflow_x": null,
            "overflow_y": null,
            "padding": null,
            "right": null,
            "top": null,
            "visibility": null,
            "width": null
          }
        },
        "0c3c8478c68949498ceb8e2b09c23611": {
          "model_module": "@jupyter-widgets/base",
          "model_name": "LayoutModel",
          "model_module_version": "1.2.0",
          "state": {
            "_model_module": "@jupyter-widgets/base",
            "_model_module_version": "1.2.0",
            "_model_name": "LayoutModel",
            "_view_count": null,
            "_view_module": "@jupyter-widgets/base",
            "_view_module_version": "1.2.0",
            "_view_name": "LayoutView",
            "align_content": null,
            "align_items": null,
            "align_self": null,
            "border": null,
            "bottom": null,
            "display": null,
            "flex": null,
            "flex_flow": null,
            "grid_area": null,
            "grid_auto_columns": null,
            "grid_auto_flow": null,
            "grid_auto_rows": null,
            "grid_column": null,
            "grid_gap": null,
            "grid_row": null,
            "grid_template_areas": null,
            "grid_template_columns": null,
            "grid_template_rows": null,
            "height": null,
            "justify_content": null,
            "justify_items": null,
            "left": null,
            "margin": null,
            "max_height": null,
            "max_width": null,
            "min_height": null,
            "min_width": null,
            "object_fit": null,
            "object_position": null,
            "order": null,
            "overflow": null,
            "overflow_x": null,
            "overflow_y": null,
            "padding": null,
            "right": null,
            "top": null,
            "visibility": null,
            "width": null
          }
        },
        "4a47bf7ff2dd49f4b7f63ba56f7fcde4": {
          "model_module": "@jupyter-widgets/controls",
          "model_name": "DescriptionStyleModel",
          "model_module_version": "1.5.0",
          "state": {
            "_model_module": "@jupyter-widgets/controls",
            "_model_module_version": "1.5.0",
            "_model_name": "DescriptionStyleModel",
            "_view_count": null,
            "_view_module": "@jupyter-widgets/base",
            "_view_module_version": "1.2.0",
            "_view_name": "StyleView",
            "description_width": ""
          }
        },
        "090dc26d13374fc095d811a3eba6ed9e": {
          "model_module": "@jupyter-widgets/base",
          "model_name": "LayoutModel",
          "model_module_version": "1.2.0",
          "state": {
            "_model_module": "@jupyter-widgets/base",
            "_model_module_version": "1.2.0",
            "_model_name": "LayoutModel",
            "_view_count": null,
            "_view_module": "@jupyter-widgets/base",
            "_view_module_version": "1.2.0",
            "_view_name": "LayoutView",
            "align_content": null,
            "align_items": null,
            "align_self": null,
            "border": null,
            "bottom": null,
            "display": null,
            "flex": null,
            "flex_flow": null,
            "grid_area": null,
            "grid_auto_columns": null,
            "grid_auto_flow": null,
            "grid_auto_rows": null,
            "grid_column": null,
            "grid_gap": null,
            "grid_row": null,
            "grid_template_areas": null,
            "grid_template_columns": null,
            "grid_template_rows": null,
            "height": null,
            "justify_content": null,
            "justify_items": null,
            "left": null,
            "margin": null,
            "max_height": null,
            "max_width": null,
            "min_height": null,
            "min_width": null,
            "object_fit": null,
            "object_position": null,
            "order": null,
            "overflow": null,
            "overflow_x": null,
            "overflow_y": null,
            "padding": null,
            "right": null,
            "top": null,
            "visibility": null,
            "width": null
          }
        },
        "1d25bd7372bb4d8f9ac40fcdfc1fa153": {
          "model_module": "@jupyter-widgets/controls",
          "model_name": "ProgressStyleModel",
          "model_module_version": "1.5.0",
          "state": {
            "_model_module": "@jupyter-widgets/controls",
            "_model_module_version": "1.5.0",
            "_model_name": "ProgressStyleModel",
            "_view_count": null,
            "_view_module": "@jupyter-widgets/base",
            "_view_module_version": "1.2.0",
            "_view_name": "StyleView",
            "bar_color": null,
            "description_width": ""
          }
        },
        "9854dd076a3a4f088d12d3b18bec69ea": {
          "model_module": "@jupyter-widgets/base",
          "model_name": "LayoutModel",
          "model_module_version": "1.2.0",
          "state": {
            "_model_module": "@jupyter-widgets/base",
            "_model_module_version": "1.2.0",
            "_model_name": "LayoutModel",
            "_view_count": null,
            "_view_module": "@jupyter-widgets/base",
            "_view_module_version": "1.2.0",
            "_view_name": "LayoutView",
            "align_content": null,
            "align_items": null,
            "align_self": null,
            "border": null,
            "bottom": null,
            "display": null,
            "flex": null,
            "flex_flow": null,
            "grid_area": null,
            "grid_auto_columns": null,
            "grid_auto_flow": null,
            "grid_auto_rows": null,
            "grid_column": null,
            "grid_gap": null,
            "grid_row": null,
            "grid_template_areas": null,
            "grid_template_columns": null,
            "grid_template_rows": null,
            "height": null,
            "justify_content": null,
            "justify_items": null,
            "left": null,
            "margin": null,
            "max_height": null,
            "max_width": null,
            "min_height": null,
            "min_width": null,
            "object_fit": null,
            "object_position": null,
            "order": null,
            "overflow": null,
            "overflow_x": null,
            "overflow_y": null,
            "padding": null,
            "right": null,
            "top": null,
            "visibility": null,
            "width": null
          }
        },
        "d0dd4c1f1f634018b02be76d8114f382": {
          "model_module": "@jupyter-widgets/controls",
          "model_name": "DescriptionStyleModel",
          "model_module_version": "1.5.0",
          "state": {
            "_model_module": "@jupyter-widgets/controls",
            "_model_module_version": "1.5.0",
            "_model_name": "DescriptionStyleModel",
            "_view_count": null,
            "_view_module": "@jupyter-widgets/base",
            "_view_module_version": "1.2.0",
            "_view_name": "StyleView",
            "description_width": ""
          }
        },
        "f61a6882c8a642a3abd98583b171620d": {
          "model_module": "@jupyter-widgets/controls",
          "model_name": "HBoxModel",
          "model_module_version": "1.5.0",
          "state": {
            "_dom_classes": [],
            "_model_module": "@jupyter-widgets/controls",
            "_model_module_version": "1.5.0",
            "_model_name": "HBoxModel",
            "_view_count": null,
            "_view_module": "@jupyter-widgets/controls",
            "_view_module_version": "1.5.0",
            "_view_name": "HBoxView",
            "box_style": "",
            "children": [
              "IPY_MODEL_f6d3676083cd449395248413c1531bc3",
              "IPY_MODEL_d1aeeae18bef4c31999a483e8fef8cd6",
              "IPY_MODEL_a72f3dced778467ab1d65a2af4fe0279"
            ],
            "layout": "IPY_MODEL_e738089c43d44f4582a9233cca509d87"
          }
        },
        "f6d3676083cd449395248413c1531bc3": {
          "model_module": "@jupyter-widgets/controls",
          "model_name": "HTMLModel",
          "model_module_version": "1.5.0",
          "state": {
            "_dom_classes": [],
            "_model_module": "@jupyter-widgets/controls",
            "_model_module_version": "1.5.0",
            "_model_name": "HTMLModel",
            "_view_count": null,
            "_view_module": "@jupyter-widgets/controls",
            "_view_module_version": "1.5.0",
            "_view_name": "HTMLView",
            "description": "",
            "description_tooltip": null,
            "layout": "IPY_MODEL_362b18be6a6a4c35a228276df4b883a6",
            "placeholder": "​",
            "style": "IPY_MODEL_404fdbaf1d2a4fa0aa133b39d1649ab6",
            "value": "Downloading (…)cial_tokens_map.json: 100%"
          }
        },
        "d1aeeae18bef4c31999a483e8fef8cd6": {
          "model_module": "@jupyter-widgets/controls",
          "model_name": "FloatProgressModel",
          "model_module_version": "1.5.0",
          "state": {
            "_dom_classes": [],
            "_model_module": "@jupyter-widgets/controls",
            "_model_module_version": "1.5.0",
            "_model_name": "FloatProgressModel",
            "_view_count": null,
            "_view_module": "@jupyter-widgets/controls",
            "_view_module_version": "1.5.0",
            "_view_name": "ProgressView",
            "bar_style": "success",
            "description": "",
            "description_tooltip": null,
            "layout": "IPY_MODEL_e9452af5e2904363994e2daccb21642e",
            "max": 112,
            "min": 0,
            "orientation": "horizontal",
            "style": "IPY_MODEL_ab1f28b1f0c64a0f8dbfe12bb7128bea",
            "value": 112
          }
        },
        "a72f3dced778467ab1d65a2af4fe0279": {
          "model_module": "@jupyter-widgets/controls",
          "model_name": "HTMLModel",
          "model_module_version": "1.5.0",
          "state": {
            "_dom_classes": [],
            "_model_module": "@jupyter-widgets/controls",
            "_model_module_version": "1.5.0",
            "_model_name": "HTMLModel",
            "_view_count": null,
            "_view_module": "@jupyter-widgets/controls",
            "_view_module_version": "1.5.0",
            "_view_name": "HTMLView",
            "description": "",
            "description_tooltip": null,
            "layout": "IPY_MODEL_1bf5b58df0b74c8685959f044c121969",
            "placeholder": "​",
            "style": "IPY_MODEL_505397980c8c423eb050a4bef047e737",
            "value": " 112/112 [00:00&lt;00:00, 4.87kB/s]"
          }
        },
        "e738089c43d44f4582a9233cca509d87": {
          "model_module": "@jupyter-widgets/base",
          "model_name": "LayoutModel",
          "model_module_version": "1.2.0",
          "state": {
            "_model_module": "@jupyter-widgets/base",
            "_model_module_version": "1.2.0",
            "_model_name": "LayoutModel",
            "_view_count": null,
            "_view_module": "@jupyter-widgets/base",
            "_view_module_version": "1.2.0",
            "_view_name": "LayoutView",
            "align_content": null,
            "align_items": null,
            "align_self": null,
            "border": null,
            "bottom": null,
            "display": null,
            "flex": null,
            "flex_flow": null,
            "grid_area": null,
            "grid_auto_columns": null,
            "grid_auto_flow": null,
            "grid_auto_rows": null,
            "grid_column": null,
            "grid_gap": null,
            "grid_row": null,
            "grid_template_areas": null,
            "grid_template_columns": null,
            "grid_template_rows": null,
            "height": null,
            "justify_content": null,
            "justify_items": null,
            "left": null,
            "margin": null,
            "max_height": null,
            "max_width": null,
            "min_height": null,
            "min_width": null,
            "object_fit": null,
            "object_position": null,
            "order": null,
            "overflow": null,
            "overflow_x": null,
            "overflow_y": null,
            "padding": null,
            "right": null,
            "top": null,
            "visibility": null,
            "width": null
          }
        },
        "362b18be6a6a4c35a228276df4b883a6": {
          "model_module": "@jupyter-widgets/base",
          "model_name": "LayoutModel",
          "model_module_version": "1.2.0",
          "state": {
            "_model_module": "@jupyter-widgets/base",
            "_model_module_version": "1.2.0",
            "_model_name": "LayoutModel",
            "_view_count": null,
            "_view_module": "@jupyter-widgets/base",
            "_view_module_version": "1.2.0",
            "_view_name": "LayoutView",
            "align_content": null,
            "align_items": null,
            "align_self": null,
            "border": null,
            "bottom": null,
            "display": null,
            "flex": null,
            "flex_flow": null,
            "grid_area": null,
            "grid_auto_columns": null,
            "grid_auto_flow": null,
            "grid_auto_rows": null,
            "grid_column": null,
            "grid_gap": null,
            "grid_row": null,
            "grid_template_areas": null,
            "grid_template_columns": null,
            "grid_template_rows": null,
            "height": null,
            "justify_content": null,
            "justify_items": null,
            "left": null,
            "margin": null,
            "max_height": null,
            "max_width": null,
            "min_height": null,
            "min_width": null,
            "object_fit": null,
            "object_position": null,
            "order": null,
            "overflow": null,
            "overflow_x": null,
            "overflow_y": null,
            "padding": null,
            "right": null,
            "top": null,
            "visibility": null,
            "width": null
          }
        },
        "404fdbaf1d2a4fa0aa133b39d1649ab6": {
          "model_module": "@jupyter-widgets/controls",
          "model_name": "DescriptionStyleModel",
          "model_module_version": "1.5.0",
          "state": {
            "_model_module": "@jupyter-widgets/controls",
            "_model_module_version": "1.5.0",
            "_model_name": "DescriptionStyleModel",
            "_view_count": null,
            "_view_module": "@jupyter-widgets/base",
            "_view_module_version": "1.2.0",
            "_view_name": "StyleView",
            "description_width": ""
          }
        },
        "e9452af5e2904363994e2daccb21642e": {
          "model_module": "@jupyter-widgets/base",
          "model_name": "LayoutModel",
          "model_module_version": "1.2.0",
          "state": {
            "_model_module": "@jupyter-widgets/base",
            "_model_module_version": "1.2.0",
            "_model_name": "LayoutModel",
            "_view_count": null,
            "_view_module": "@jupyter-widgets/base",
            "_view_module_version": "1.2.0",
            "_view_name": "LayoutView",
            "align_content": null,
            "align_items": null,
            "align_self": null,
            "border": null,
            "bottom": null,
            "display": null,
            "flex": null,
            "flex_flow": null,
            "grid_area": null,
            "grid_auto_columns": null,
            "grid_auto_flow": null,
            "grid_auto_rows": null,
            "grid_column": null,
            "grid_gap": null,
            "grid_row": null,
            "grid_template_areas": null,
            "grid_template_columns": null,
            "grid_template_rows": null,
            "height": null,
            "justify_content": null,
            "justify_items": null,
            "left": null,
            "margin": null,
            "max_height": null,
            "max_width": null,
            "min_height": null,
            "min_width": null,
            "object_fit": null,
            "object_position": null,
            "order": null,
            "overflow": null,
            "overflow_x": null,
            "overflow_y": null,
            "padding": null,
            "right": null,
            "top": null,
            "visibility": null,
            "width": null
          }
        },
        "ab1f28b1f0c64a0f8dbfe12bb7128bea": {
          "model_module": "@jupyter-widgets/controls",
          "model_name": "ProgressStyleModel",
          "model_module_version": "1.5.0",
          "state": {
            "_model_module": "@jupyter-widgets/controls",
            "_model_module_version": "1.5.0",
            "_model_name": "ProgressStyleModel",
            "_view_count": null,
            "_view_module": "@jupyter-widgets/base",
            "_view_module_version": "1.2.0",
            "_view_name": "StyleView",
            "bar_color": null,
            "description_width": ""
          }
        },
        "1bf5b58df0b74c8685959f044c121969": {
          "model_module": "@jupyter-widgets/base",
          "model_name": "LayoutModel",
          "model_module_version": "1.2.0",
          "state": {
            "_model_module": "@jupyter-widgets/base",
            "_model_module_version": "1.2.0",
            "_model_name": "LayoutModel",
            "_view_count": null,
            "_view_module": "@jupyter-widgets/base",
            "_view_module_version": "1.2.0",
            "_view_name": "LayoutView",
            "align_content": null,
            "align_items": null,
            "align_self": null,
            "border": null,
            "bottom": null,
            "display": null,
            "flex": null,
            "flex_flow": null,
            "grid_area": null,
            "grid_auto_columns": null,
            "grid_auto_flow": null,
            "grid_auto_rows": null,
            "grid_column": null,
            "grid_gap": null,
            "grid_row": null,
            "grid_template_areas": null,
            "grid_template_columns": null,
            "grid_template_rows": null,
            "height": null,
            "justify_content": null,
            "justify_items": null,
            "left": null,
            "margin": null,
            "max_height": null,
            "max_width": null,
            "min_height": null,
            "min_width": null,
            "object_fit": null,
            "object_position": null,
            "order": null,
            "overflow": null,
            "overflow_x": null,
            "overflow_y": null,
            "padding": null,
            "right": null,
            "top": null,
            "visibility": null,
            "width": null
          }
        },
        "505397980c8c423eb050a4bef047e737": {
          "model_module": "@jupyter-widgets/controls",
          "model_name": "DescriptionStyleModel",
          "model_module_version": "1.5.0",
          "state": {
            "_model_module": "@jupyter-widgets/controls",
            "_model_module_version": "1.5.0",
            "_model_name": "DescriptionStyleModel",
            "_view_count": null,
            "_view_module": "@jupyter-widgets/base",
            "_view_module_version": "1.2.0",
            "_view_name": "StyleView",
            "description_width": ""
          }
        },
        "c183564817d54fb69b5397ee6f8d3d04": {
          "model_module": "@jupyter-widgets/controls",
          "model_name": "HBoxModel",
          "model_module_version": "1.5.0",
          "state": {
            "_dom_classes": [],
            "_model_module": "@jupyter-widgets/controls",
            "_model_module_version": "1.5.0",
            "_model_name": "HBoxModel",
            "_view_count": null,
            "_view_module": "@jupyter-widgets/controls",
            "_view_module_version": "1.5.0",
            "_view_name": "HBoxView",
            "box_style": "",
            "children": [
              "IPY_MODEL_09ed75f664b642b49158d0cbf760a008",
              "IPY_MODEL_6ae9a98600da496abebada6021b09477",
              "IPY_MODEL_52ee27515e4b4f3eb44072956b4b1a78"
            ],
            "layout": "IPY_MODEL_b42307f86fd940f1b53635d7a9260c0a"
          }
        },
        "09ed75f664b642b49158d0cbf760a008": {
          "model_module": "@jupyter-widgets/controls",
          "model_name": "HTMLModel",
          "model_module_version": "1.5.0",
          "state": {
            "_dom_classes": [],
            "_model_module": "@jupyter-widgets/controls",
            "_model_module_version": "1.5.0",
            "_model_name": "HTMLModel",
            "_view_count": null,
            "_view_module": "@jupyter-widgets/controls",
            "_view_module_version": "1.5.0",
            "_view_name": "HTMLView",
            "description": "",
            "description_tooltip": null,
            "layout": "IPY_MODEL_7bf62f6af365466ca2d7c96da7a98614",
            "placeholder": "​",
            "style": "IPY_MODEL_718052b7ab13499eab913c81ea581a96",
            "value": "Downloading (…)lve/main/config.json: 100%"
          }
        },
        "6ae9a98600da496abebada6021b09477": {
          "model_module": "@jupyter-widgets/controls",
          "model_name": "FloatProgressModel",
          "model_module_version": "1.5.0",
          "state": {
            "_dom_classes": [],
            "_model_module": "@jupyter-widgets/controls",
            "_model_module_version": "1.5.0",
            "_model_name": "FloatProgressModel",
            "_view_count": null,
            "_view_module": "@jupyter-widgets/controls",
            "_view_module_version": "1.5.0",
            "_view_name": "ProgressView",
            "bar_style": "success",
            "description": "",
            "description_tooltip": null,
            "layout": "IPY_MODEL_8ccf055a18f64e0d87f4281b1983c433",
            "max": 612,
            "min": 0,
            "orientation": "horizontal",
            "style": "IPY_MODEL_070dbb81c1e14f8ebba6cc219b4f5ef4",
            "value": 612
          }
        },
        "52ee27515e4b4f3eb44072956b4b1a78": {
          "model_module": "@jupyter-widgets/controls",
          "model_name": "HTMLModel",
          "model_module_version": "1.5.0",
          "state": {
            "_dom_classes": [],
            "_model_module": "@jupyter-widgets/controls",
            "_model_module_version": "1.5.0",
            "_model_name": "HTMLModel",
            "_view_count": null,
            "_view_module": "@jupyter-widgets/controls",
            "_view_module_version": "1.5.0",
            "_view_name": "HTMLView",
            "description": "",
            "description_tooltip": null,
            "layout": "IPY_MODEL_31ed823980e3497bab895e6fd915e5a6",
            "placeholder": "​",
            "style": "IPY_MODEL_925fb243de964308bb4e50f424313bd6",
            "value": " 612/612 [00:00&lt;00:00, 21.1kB/s]"
          }
        },
        "b42307f86fd940f1b53635d7a9260c0a": {
          "model_module": "@jupyter-widgets/base",
          "model_name": "LayoutModel",
          "model_module_version": "1.2.0",
          "state": {
            "_model_module": "@jupyter-widgets/base",
            "_model_module_version": "1.2.0",
            "_model_name": "LayoutModel",
            "_view_count": null,
            "_view_module": "@jupyter-widgets/base",
            "_view_module_version": "1.2.0",
            "_view_name": "LayoutView",
            "align_content": null,
            "align_items": null,
            "align_self": null,
            "border": null,
            "bottom": null,
            "display": null,
            "flex": null,
            "flex_flow": null,
            "grid_area": null,
            "grid_auto_columns": null,
            "grid_auto_flow": null,
            "grid_auto_rows": null,
            "grid_column": null,
            "grid_gap": null,
            "grid_row": null,
            "grid_template_areas": null,
            "grid_template_columns": null,
            "grid_template_rows": null,
            "height": null,
            "justify_content": null,
            "justify_items": null,
            "left": null,
            "margin": null,
            "max_height": null,
            "max_width": null,
            "min_height": null,
            "min_width": null,
            "object_fit": null,
            "object_position": null,
            "order": null,
            "overflow": null,
            "overflow_x": null,
            "overflow_y": null,
            "padding": null,
            "right": null,
            "top": null,
            "visibility": null,
            "width": null
          }
        },
        "7bf62f6af365466ca2d7c96da7a98614": {
          "model_module": "@jupyter-widgets/base",
          "model_name": "LayoutModel",
          "model_module_version": "1.2.0",
          "state": {
            "_model_module": "@jupyter-widgets/base",
            "_model_module_version": "1.2.0",
            "_model_name": "LayoutModel",
            "_view_count": null,
            "_view_module": "@jupyter-widgets/base",
            "_view_module_version": "1.2.0",
            "_view_name": "LayoutView",
            "align_content": null,
            "align_items": null,
            "align_self": null,
            "border": null,
            "bottom": null,
            "display": null,
            "flex": null,
            "flex_flow": null,
            "grid_area": null,
            "grid_auto_columns": null,
            "grid_auto_flow": null,
            "grid_auto_rows": null,
            "grid_column": null,
            "grid_gap": null,
            "grid_row": null,
            "grid_template_areas": null,
            "grid_template_columns": null,
            "grid_template_rows": null,
            "height": null,
            "justify_content": null,
            "justify_items": null,
            "left": null,
            "margin": null,
            "max_height": null,
            "max_width": null,
            "min_height": null,
            "min_width": null,
            "object_fit": null,
            "object_position": null,
            "order": null,
            "overflow": null,
            "overflow_x": null,
            "overflow_y": null,
            "padding": null,
            "right": null,
            "top": null,
            "visibility": null,
            "width": null
          }
        },
        "718052b7ab13499eab913c81ea581a96": {
          "model_module": "@jupyter-widgets/controls",
          "model_name": "DescriptionStyleModel",
          "model_module_version": "1.5.0",
          "state": {
            "_model_module": "@jupyter-widgets/controls",
            "_model_module_version": "1.5.0",
            "_model_name": "DescriptionStyleModel",
            "_view_count": null,
            "_view_module": "@jupyter-widgets/base",
            "_view_module_version": "1.2.0",
            "_view_name": "StyleView",
            "description_width": ""
          }
        },
        "8ccf055a18f64e0d87f4281b1983c433": {
          "model_module": "@jupyter-widgets/base",
          "model_name": "LayoutModel",
          "model_module_version": "1.2.0",
          "state": {
            "_model_module": "@jupyter-widgets/base",
            "_model_module_version": "1.2.0",
            "_model_name": "LayoutModel",
            "_view_count": null,
            "_view_module": "@jupyter-widgets/base",
            "_view_module_version": "1.2.0",
            "_view_name": "LayoutView",
            "align_content": null,
            "align_items": null,
            "align_self": null,
            "border": null,
            "bottom": null,
            "display": null,
            "flex": null,
            "flex_flow": null,
            "grid_area": null,
            "grid_auto_columns": null,
            "grid_auto_flow": null,
            "grid_auto_rows": null,
            "grid_column": null,
            "grid_gap": null,
            "grid_row": null,
            "grid_template_areas": null,
            "grid_template_columns": null,
            "grid_template_rows": null,
            "height": null,
            "justify_content": null,
            "justify_items": null,
            "left": null,
            "margin": null,
            "max_height": null,
            "max_width": null,
            "min_height": null,
            "min_width": null,
            "object_fit": null,
            "object_position": null,
            "order": null,
            "overflow": null,
            "overflow_x": null,
            "overflow_y": null,
            "padding": null,
            "right": null,
            "top": null,
            "visibility": null,
            "width": null
          }
        },
        "070dbb81c1e14f8ebba6cc219b4f5ef4": {
          "model_module": "@jupyter-widgets/controls",
          "model_name": "ProgressStyleModel",
          "model_module_version": "1.5.0",
          "state": {
            "_model_module": "@jupyter-widgets/controls",
            "_model_module_version": "1.5.0",
            "_model_name": "ProgressStyleModel",
            "_view_count": null,
            "_view_module": "@jupyter-widgets/base",
            "_view_module_version": "1.2.0",
            "_view_name": "StyleView",
            "bar_color": null,
            "description_width": ""
          }
        },
        "31ed823980e3497bab895e6fd915e5a6": {
          "model_module": "@jupyter-widgets/base",
          "model_name": "LayoutModel",
          "model_module_version": "1.2.0",
          "state": {
            "_model_module": "@jupyter-widgets/base",
            "_model_module_version": "1.2.0",
            "_model_name": "LayoutModel",
            "_view_count": null,
            "_view_module": "@jupyter-widgets/base",
            "_view_module_version": "1.2.0",
            "_view_name": "LayoutView",
            "align_content": null,
            "align_items": null,
            "align_self": null,
            "border": null,
            "bottom": null,
            "display": null,
            "flex": null,
            "flex_flow": null,
            "grid_area": null,
            "grid_auto_columns": null,
            "grid_auto_flow": null,
            "grid_auto_rows": null,
            "grid_column": null,
            "grid_gap": null,
            "grid_row": null,
            "grid_template_areas": null,
            "grid_template_columns": null,
            "grid_template_rows": null,
            "height": null,
            "justify_content": null,
            "justify_items": null,
            "left": null,
            "margin": null,
            "max_height": null,
            "max_width": null,
            "min_height": null,
            "min_width": null,
            "object_fit": null,
            "object_position": null,
            "order": null,
            "overflow": null,
            "overflow_x": null,
            "overflow_y": null,
            "padding": null,
            "right": null,
            "top": null,
            "visibility": null,
            "width": null
          }
        },
        "925fb243de964308bb4e50f424313bd6": {
          "model_module": "@jupyter-widgets/controls",
          "model_name": "DescriptionStyleModel",
          "model_module_version": "1.5.0",
          "state": {
            "_model_module": "@jupyter-widgets/controls",
            "_model_module_version": "1.5.0",
            "_model_name": "DescriptionStyleModel",
            "_view_count": null,
            "_view_module": "@jupyter-widgets/base",
            "_view_module_version": "1.2.0",
            "_view_name": "StyleView",
            "description_width": ""
          }
        },
        "5ea614d96f0d4109b7ec3ed3b0439e53": {
          "model_module": "@jupyter-widgets/controls",
          "model_name": "HBoxModel",
          "model_module_version": "1.5.0",
          "state": {
            "_dom_classes": [],
            "_model_module": "@jupyter-widgets/controls",
            "_model_module_version": "1.5.0",
            "_model_name": "HBoxModel",
            "_view_count": null,
            "_view_module": "@jupyter-widgets/controls",
            "_view_module_version": "1.5.0",
            "_view_name": "HBoxView",
            "box_style": "",
            "children": [
              "IPY_MODEL_132c1a4567c64223af1ba1f356e22e30",
              "IPY_MODEL_a3c414dbaec943d69534ad59d72ff452",
              "IPY_MODEL_289ee96c17154d179c72c83f71aa270e"
            ],
            "layout": "IPY_MODEL_4463a91a71f143aab72721256b517d6c"
          }
        },
        "132c1a4567c64223af1ba1f356e22e30": {
          "model_module": "@jupyter-widgets/controls",
          "model_name": "HTMLModel",
          "model_module_version": "1.5.0",
          "state": {
            "_dom_classes": [],
            "_model_module": "@jupyter-widgets/controls",
            "_model_module_version": "1.5.0",
            "_model_name": "HTMLModel",
            "_view_count": null,
            "_view_module": "@jupyter-widgets/controls",
            "_view_module_version": "1.5.0",
            "_view_name": "HTMLView",
            "description": "",
            "description_tooltip": null,
            "layout": "IPY_MODEL_46bdad17ff2348cc816e2c9a59e2afab",
            "placeholder": "​",
            "style": "IPY_MODEL_a7928b8ab144446db438566835ee3bd2",
            "value": "Downloading pytorch_model.bin: 100%"
          }
        },
        "a3c414dbaec943d69534ad59d72ff452": {
          "model_module": "@jupyter-widgets/controls",
          "model_name": "FloatProgressModel",
          "model_module_version": "1.5.0",
          "state": {
            "_dom_classes": [],
            "_model_module": "@jupyter-widgets/controls",
            "_model_module_version": "1.5.0",
            "_model_name": "FloatProgressModel",
            "_view_count": null,
            "_view_module": "@jupyter-widgets/controls",
            "_view_module_version": "1.5.0",
            "_view_name": "ProgressView",
            "bar_style": "success",
            "description": "",
            "description_tooltip": null,
            "layout": "IPY_MODEL_77636ba1e0654553929b543e7c9ee2b6",
            "max": 90888945,
            "min": 0,
            "orientation": "horizontal",
            "style": "IPY_MODEL_1d03f55123e44a41994055b9afc51fd4",
            "value": 90888945
          }
        },
        "289ee96c17154d179c72c83f71aa270e": {
          "model_module": "@jupyter-widgets/controls",
          "model_name": "HTMLModel",
          "model_module_version": "1.5.0",
          "state": {
            "_dom_classes": [],
            "_model_module": "@jupyter-widgets/controls",
            "_model_module_version": "1.5.0",
            "_model_name": "HTMLModel",
            "_view_count": null,
            "_view_module": "@jupyter-widgets/controls",
            "_view_module_version": "1.5.0",
            "_view_name": "HTMLView",
            "description": "",
            "description_tooltip": null,
            "layout": "IPY_MODEL_a66bbd8b097b4308b17de55afcad526f",
            "placeholder": "​",
            "style": "IPY_MODEL_ff7f179c151346dba2b3bddf96e97e7e",
            "value": " 90.9M/90.9M [00:00&lt;00:00, 120MB/s]"
          }
        },
        "4463a91a71f143aab72721256b517d6c": {
          "model_module": "@jupyter-widgets/base",
          "model_name": "LayoutModel",
          "model_module_version": "1.2.0",
          "state": {
            "_model_module": "@jupyter-widgets/base",
            "_model_module_version": "1.2.0",
            "_model_name": "LayoutModel",
            "_view_count": null,
            "_view_module": "@jupyter-widgets/base",
            "_view_module_version": "1.2.0",
            "_view_name": "LayoutView",
            "align_content": null,
            "align_items": null,
            "align_self": null,
            "border": null,
            "bottom": null,
            "display": null,
            "flex": null,
            "flex_flow": null,
            "grid_area": null,
            "grid_auto_columns": null,
            "grid_auto_flow": null,
            "grid_auto_rows": null,
            "grid_column": null,
            "grid_gap": null,
            "grid_row": null,
            "grid_template_areas": null,
            "grid_template_columns": null,
            "grid_template_rows": null,
            "height": null,
            "justify_content": null,
            "justify_items": null,
            "left": null,
            "margin": null,
            "max_height": null,
            "max_width": null,
            "min_height": null,
            "min_width": null,
            "object_fit": null,
            "object_position": null,
            "order": null,
            "overflow": null,
            "overflow_x": null,
            "overflow_y": null,
            "padding": null,
            "right": null,
            "top": null,
            "visibility": null,
            "width": null
          }
        },
        "46bdad17ff2348cc816e2c9a59e2afab": {
          "model_module": "@jupyter-widgets/base",
          "model_name": "LayoutModel",
          "model_module_version": "1.2.0",
          "state": {
            "_model_module": "@jupyter-widgets/base",
            "_model_module_version": "1.2.0",
            "_model_name": "LayoutModel",
            "_view_count": null,
            "_view_module": "@jupyter-widgets/base",
            "_view_module_version": "1.2.0",
            "_view_name": "LayoutView",
            "align_content": null,
            "align_items": null,
            "align_self": null,
            "border": null,
            "bottom": null,
            "display": null,
            "flex": null,
            "flex_flow": null,
            "grid_area": null,
            "grid_auto_columns": null,
            "grid_auto_flow": null,
            "grid_auto_rows": null,
            "grid_column": null,
            "grid_gap": null,
            "grid_row": null,
            "grid_template_areas": null,
            "grid_template_columns": null,
            "grid_template_rows": null,
            "height": null,
            "justify_content": null,
            "justify_items": null,
            "left": null,
            "margin": null,
            "max_height": null,
            "max_width": null,
            "min_height": null,
            "min_width": null,
            "object_fit": null,
            "object_position": null,
            "order": null,
            "overflow": null,
            "overflow_x": null,
            "overflow_y": null,
            "padding": null,
            "right": null,
            "top": null,
            "visibility": null,
            "width": null
          }
        },
        "a7928b8ab144446db438566835ee3bd2": {
          "model_module": "@jupyter-widgets/controls",
          "model_name": "DescriptionStyleModel",
          "model_module_version": "1.5.0",
          "state": {
            "_model_module": "@jupyter-widgets/controls",
            "_model_module_version": "1.5.0",
            "_model_name": "DescriptionStyleModel",
            "_view_count": null,
            "_view_module": "@jupyter-widgets/base",
            "_view_module_version": "1.2.0",
            "_view_name": "StyleView",
            "description_width": ""
          }
        },
        "77636ba1e0654553929b543e7c9ee2b6": {
          "model_module": "@jupyter-widgets/base",
          "model_name": "LayoutModel",
          "model_module_version": "1.2.0",
          "state": {
            "_model_module": "@jupyter-widgets/base",
            "_model_module_version": "1.2.0",
            "_model_name": "LayoutModel",
            "_view_count": null,
            "_view_module": "@jupyter-widgets/base",
            "_view_module_version": "1.2.0",
            "_view_name": "LayoutView",
            "align_content": null,
            "align_items": null,
            "align_self": null,
            "border": null,
            "bottom": null,
            "display": null,
            "flex": null,
            "flex_flow": null,
            "grid_area": null,
            "grid_auto_columns": null,
            "grid_auto_flow": null,
            "grid_auto_rows": null,
            "grid_column": null,
            "grid_gap": null,
            "grid_row": null,
            "grid_template_areas": null,
            "grid_template_columns": null,
            "grid_template_rows": null,
            "height": null,
            "justify_content": null,
            "justify_items": null,
            "left": null,
            "margin": null,
            "max_height": null,
            "max_width": null,
            "min_height": null,
            "min_width": null,
            "object_fit": null,
            "object_position": null,
            "order": null,
            "overflow": null,
            "overflow_x": null,
            "overflow_y": null,
            "padding": null,
            "right": null,
            "top": null,
            "visibility": null,
            "width": null
          }
        },
        "1d03f55123e44a41994055b9afc51fd4": {
          "model_module": "@jupyter-widgets/controls",
          "model_name": "ProgressStyleModel",
          "model_module_version": "1.5.0",
          "state": {
            "_model_module": "@jupyter-widgets/controls",
            "_model_module_version": "1.5.0",
            "_model_name": "ProgressStyleModel",
            "_view_count": null,
            "_view_module": "@jupyter-widgets/base",
            "_view_module_version": "1.2.0",
            "_view_name": "StyleView",
            "bar_color": null,
            "description_width": ""
          }
        },
        "a66bbd8b097b4308b17de55afcad526f": {
          "model_module": "@jupyter-widgets/base",
          "model_name": "LayoutModel",
          "model_module_version": "1.2.0",
          "state": {
            "_model_module": "@jupyter-widgets/base",
            "_model_module_version": "1.2.0",
            "_model_name": "LayoutModel",
            "_view_count": null,
            "_view_module": "@jupyter-widgets/base",
            "_view_module_version": "1.2.0",
            "_view_name": "LayoutView",
            "align_content": null,
            "align_items": null,
            "align_self": null,
            "border": null,
            "bottom": null,
            "display": null,
            "flex": null,
            "flex_flow": null,
            "grid_area": null,
            "grid_auto_columns": null,
            "grid_auto_flow": null,
            "grid_auto_rows": null,
            "grid_column": null,
            "grid_gap": null,
            "grid_row": null,
            "grid_template_areas": null,
            "grid_template_columns": null,
            "grid_template_rows": null,
            "height": null,
            "justify_content": null,
            "justify_items": null,
            "left": null,
            "margin": null,
            "max_height": null,
            "max_width": null,
            "min_height": null,
            "min_width": null,
            "object_fit": null,
            "object_position": null,
            "order": null,
            "overflow": null,
            "overflow_x": null,
            "overflow_y": null,
            "padding": null,
            "right": null,
            "top": null,
            "visibility": null,
            "width": null
          }
        },
        "ff7f179c151346dba2b3bddf96e97e7e": {
          "model_module": "@jupyter-widgets/controls",
          "model_name": "DescriptionStyleModel",
          "model_module_version": "1.5.0",
          "state": {
            "_model_module": "@jupyter-widgets/controls",
            "_model_module_version": "1.5.0",
            "_model_name": "DescriptionStyleModel",
            "_view_count": null,
            "_view_module": "@jupyter-widgets/base",
            "_view_module_version": "1.2.0",
            "_view_name": "StyleView",
            "description_width": ""
          }
        }
      }
    }
  },
  "cells": [
    {
      "cell_type": "markdown",
      "metadata": {
        "id": "view-in-github",
        "colab_type": "text"
      },
      "source": [
        "<a href=\"https://colab.research.google.com/github/adamzki99/nlp-zlatan/blob/feature%2Fall-MiniLM-L6-v2-implementation/nlp_zlatan.ipynb\" target=\"_parent\"><img src=\"https://colab.research.google.com/assets/colab-badge.svg\" alt=\"Open In Colab\"/></a>"
      ]
    },
    {
      "cell_type": "markdown",
      "source": [
        "# Connect to Google Drive\n",
        "\n",
        "This notebook is designed to be used together with Google Colab. We start by connecting the notebook to our personal Google Drive."
      ],
      "metadata": {
        "id": "1LcgYJ860QY8"
      }
    },
    {
      "cell_type": "code",
      "execution_count": 1,
      "metadata": {
        "colab": {
          "base_uri": "https://localhost:8080/"
        },
        "id": "gJSvTgIasmNY",
        "outputId": "4344b51b-8cc8-4892-cb42-f81e1b268d37"
      },
      "outputs": [
        {
          "output_type": "stream",
          "name": "stdout",
          "text": [
            "Mounted at /content/drive\n"
          ]
        }
      ],
      "source": [
        "from google.colab import drive\n",
        "drive.mount('/content/drive')"
      ]
    },
    {
      "cell_type": "markdown",
      "source": [
        "Be careful to check the you have the same filepath for the dataset in your drive"
      ],
      "metadata": {
        "id": "GvaxQDKY1vvd"
      }
    },
    {
      "cell_type": "code",
      "source": [
        "%cd /content/drive/MyDrive/nlp-datasets/wizard_of_wikipedia"
      ],
      "metadata": {
        "colab": {
          "base_uri": "https://localhost:8080/"
        },
        "id": "asHbxFDYtSbT",
        "outputId": "9bb78400-a314-484e-a9b6-2ab18b1dc790"
      },
      "execution_count": 2,
      "outputs": [
        {
          "output_type": "stream",
          "name": "stdout",
          "text": [
            "/content/drive/MyDrive/nlp-datasets/wizard_of_wikipedia\n"
          ]
        }
      ]
    },
    {
      "cell_type": "markdown",
      "source": [
        "# all-MiniLM-L6-v2\n",
        "\n",
        "This implementation is based on the all-MiniLM-L6-v2 model which is available from [Huggingface](https://huggingface.co/sentence-transformers/all-MiniLM-L6-v2).\n",
        "\n",
        "The all-MiniLM-L6-v2 is a sentence-transformers model. It maps sentences & paragraphs to a 384 dimensional dense vector space and can be used for tasks like clustering or semantic search. This is a later model compared to the one showed in one of the tutorials, but is used more or less in the same way.\n"
      ],
      "metadata": {
        "id": "vfO3cP1f1oq5"
      }
    },
    {
      "cell_type": "markdown",
      "source": [
        "We have selected to pick a BERT model as we wanted to explore the posibility of creating a \"vector database\". The use-case is as follows:\n",
        "\n",
        "From a natural user input, we want to retrive the correct Wikipedia passage. So that the input from the user is as small as possible. \n",
        "\n",
        "The reduction of data input comes from the exlusion of topics etc..  "
      ],
      "metadata": {
        "id": "i78OGkS53BZ0"
      }
    },
    {
      "cell_type": "markdown",
      "source": [
        "## Data extraction\n",
        "\n",
        "The dataset used is very nested, hard to navigate and just difficult to wrap ones head around. So it is recommended to see this [resource](https://parl.ai/projects/wizard_of_wikipedia/) to get a better undersatnding."
      ],
      "metadata": {
        "id": "NPi22dEP3_2K"
      }
    },
    {
      "cell_type": "code",
      "source": [
        "import json\n",
        "\n",
        "with open('data.json', 'r') as file:\n",
        "    json_data = file.read()\n",
        "    data = json.loads(json_data)\n",
        "\n",
        "print('Datatype:', type(data))"
      ],
      "metadata": {
        "colab": {
          "base_uri": "https://localhost:8080/"
        },
        "id": "wDLs33Df1uzX",
        "outputId": "f87bce14-4348-481f-9666-e59498550d6f"
      },
      "execution_count": 3,
      "outputs": [
        {
          "output_type": "stream",
          "name": "stdout",
          "text": [
            "Datatype: <class 'list'>\n"
          ]
        }
      ]
    },
    {
      "cell_type": "markdown",
      "source": [
        "Use the following keys to double check with the [resource](https://parl.ai/projects/wizard_of_wikipedia/) that you have loaded in the right dataset."
      ],
      "metadata": {
        "id": "k0LUOghP6GCN"
      }
    },
    {
      "cell_type": "code",
      "source": [
        "data[0]['dialog'][0].keys()"
      ],
      "metadata": {
        "colab": {
          "base_uri": "https://localhost:8080/"
        },
        "id": "wTczZi7UzYFJ",
        "outputId": "d67d7ad0-55e5-4fab-e203-d89028fc1ffc"
      },
      "execution_count": 4,
      "outputs": [
        {
          "output_type": "execute_result",
          "data": {
            "text/plain": [
              "dict_keys(['speaker', 'text', 'checked_sentence', 'checked_passage', 'retrieved_passages', 'retrieved_topics'])"
            ]
          },
          "metadata": {},
          "execution_count": 4
        }
      ]
    },
    {
      "cell_type": "markdown",
      "source": [
        "We split up the data into a 80/20 split. We use 80% of the original dataset to perform fine-tuing of the all-MiniLM-L6-v2, the rest is then used for validating the reslut.\n",
        "\n",
        "We aim to have the model being able to search the vector-space with new input and still being able to find the correct Wiki-passage.\n",
        "\n",
        "It is important to note that this is a best case scenario as the input is generated from text that is present in the Wiki-passage."
      ],
      "metadata": {
        "id": "SZjQT46V6WCd"
      }
    },
    {
      "cell_type": "code",
      "source": [
        "import pandas as pd\n",
        "\n",
        "data_extract_train = {\n",
        "    \"chosen_topic\": [],\n",
        "    \"speaker_passage\": [],\n",
        "    \"checked_sentence\": [],\n",
        "    \"chosen_topic_passage\": []\n",
        "}\n",
        "\n",
        "data_extract_test = {\n",
        "    \"chosen_topic\": [],\n",
        "    \"speaker_passage\": [],\n",
        "    \"checked_sentence\": [],\n",
        "    \"chosen_topic_passage\": []\n",
        "}\n",
        "\n",
        "for i, conversation in enumerate(data):\n",
        "\n",
        "  for j, dialog in enumerate(conversation['dialog']):    \n",
        "\n",
        "    if \"Wizard\" in dialog['speaker']:\n",
        "\n",
        "      checked_sentence = list(dialog['checked_sentence'].values())\n",
        "\n",
        "      if \"no_passages_used\" not in checked_sentence:\n",
        "\n",
        "        if j % 4 == 0:\n",
        "\n",
        "          data_extract_test['chosen_topic'].append(conversation['chosen_topic'])\n",
        "          data_extract_test['speaker_passage'].append(dialog['text'])\n",
        "          data_extract_test['checked_sentence'].append(checked_sentence)\n",
        "          data_extract_test['chosen_topic_passage'].append(conversation['chosen_topic_passage'])\n",
        "\n",
        "        else:\n",
        "      \n",
        "          data_extract_train['chosen_topic'].append(conversation['chosen_topic'])\n",
        "          data_extract_train['speaker_passage'].append(dialog['text'])\n",
        "          data_extract_train['checked_sentence'].append(checked_sentence)\n",
        "          data_extract_train['chosen_topic_passage'].append(conversation['chosen_topic_passage'])\n",
        "\n",
        "extract_train_df = pd.DataFrame(data_extract_train)\n",
        "\n",
        "extract_test_df = pd.DataFrame(data_extract_test)\n",
        "\n",
        "extract_test_df"
      ],
      "metadata": {
        "colab": {
          "base_uri": "https://localhost:8080/",
          "height": 641
        },
        "id": "88GhV8Vf13v-",
        "outputId": "317f6f23-7a51-487e-b285-9007df1c50ec"
      },
      "execution_count": 5,
      "outputs": [
        {
          "output_type": "execute_result",
          "data": {
            "text/plain": [
              "          chosen_topic                                    speaker_passage  \\\n",
              "0      Science fiction  I think science fiction is an amazing genre fo...   \n",
              "1      Science fiction  It's not quite sci-fi, but my favorite version...   \n",
              "2       Romance (love)  I don't know how to be romantic. I have troubl...   \n",
              "3       Romance (love)  For sure. Romantic love is relative but usuall...   \n",
              "4       Romance (love)  Good point. Romance is associated with perfect...   \n",
              "...                ...                                                ...   \n",
              "25983   Kendrick Lamar            Kendrick Lamar is great! He is a rapper   \n",
              "25984   Kendrick Lamar  It is not, but he is very acclaimed in the gen...   \n",
              "25985           Skiing  I knew skiing was a winter sport but I never t...   \n",
              "25986           Skiing  It seems that it may also have been practiced ...   \n",
              "25987           Skiing  Apparently they had one long ski for sliding a...   \n",
              "\n",
              "                                        checked_sentence  \\\n",
              "0      [Science fiction (often shortened to SF or sci...   \n",
              "1      [The central premise for these stories oftenti...   \n",
              "2      [Romance is the expressive and pleasurable fee...   \n",
              "3      [Romantic love is a relative term, but general...   \n",
              "4      [This feeling is associated with, but does not...   \n",
              "...                                                  ...   \n",
              "25983  [Kendrick Lamar Duckworth (born June 17, 1987)...   \n",
              "25984  [His critically acclaimed third album \"To Pimp...   \n",
              "25985  [Skiing can be a means of transport, a recreat...   \n",
              "25986  [Although modern skiing has evolved from begin...   \n",
              "25987  [On one leg the skier wore a long straight non...   \n",
              "\n",
              "                                    chosen_topic_passage  \n",
              "0      [Science fiction (often shortened to SF or sci...  \n",
              "1      [Science fiction (often shortened to SF or sci...  \n",
              "2      [Romance is the expressive and pleasurable fee...  \n",
              "3      [Romance is the expressive and pleasurable fee...  \n",
              "4      [Romance is the expressive and pleasurable fee...  \n",
              "...                                                  ...  \n",
              "25983  [Kendrick Lamar Duckworth (born June 17, 1987)...  \n",
              "25984  [Kendrick Lamar Duckworth (born June 17, 1987)...  \n",
              "25985  [Skiing can be a means of transport, a recreat...  \n",
              "25986  [Skiing can be a means of transport, a recreat...  \n",
              "25987  [Skiing can be a means of transport, a recreat...  \n",
              "\n",
              "[25988 rows x 4 columns]"
            ],
            "text/html": [
              "\n",
              "  <div id=\"df-69e74569-9db9-4466-b4ba-e37705c2e762\">\n",
              "    <div class=\"colab-df-container\">\n",
              "      <div>\n",
              "<style scoped>\n",
              "    .dataframe tbody tr th:only-of-type {\n",
              "        vertical-align: middle;\n",
              "    }\n",
              "\n",
              "    .dataframe tbody tr th {\n",
              "        vertical-align: top;\n",
              "    }\n",
              "\n",
              "    .dataframe thead th {\n",
              "        text-align: right;\n",
              "    }\n",
              "</style>\n",
              "<table border=\"1\" class=\"dataframe\">\n",
              "  <thead>\n",
              "    <tr style=\"text-align: right;\">\n",
              "      <th></th>\n",
              "      <th>chosen_topic</th>\n",
              "      <th>speaker_passage</th>\n",
              "      <th>checked_sentence</th>\n",
              "      <th>chosen_topic_passage</th>\n",
              "    </tr>\n",
              "  </thead>\n",
              "  <tbody>\n",
              "    <tr>\n",
              "      <th>0</th>\n",
              "      <td>Science fiction</td>\n",
              "      <td>I think science fiction is an amazing genre fo...</td>\n",
              "      <td>[Science fiction (often shortened to SF or sci...</td>\n",
              "      <td>[Science fiction (often shortened to SF or sci...</td>\n",
              "    </tr>\n",
              "    <tr>\n",
              "      <th>1</th>\n",
              "      <td>Science fiction</td>\n",
              "      <td>It's not quite sci-fi, but my favorite version...</td>\n",
              "      <td>[The central premise for these stories oftenti...</td>\n",
              "      <td>[Science fiction (often shortened to SF or sci...</td>\n",
              "    </tr>\n",
              "    <tr>\n",
              "      <th>2</th>\n",
              "      <td>Romance (love)</td>\n",
              "      <td>I don't know how to be romantic. I have troubl...</td>\n",
              "      <td>[Romance is the expressive and pleasurable fee...</td>\n",
              "      <td>[Romance is the expressive and pleasurable fee...</td>\n",
              "    </tr>\n",
              "    <tr>\n",
              "      <th>3</th>\n",
              "      <td>Romance (love)</td>\n",
              "      <td>For sure. Romantic love is relative but usuall...</td>\n",
              "      <td>[Romantic love is a relative term, but general...</td>\n",
              "      <td>[Romance is the expressive and pleasurable fee...</td>\n",
              "    </tr>\n",
              "    <tr>\n",
              "      <th>4</th>\n",
              "      <td>Romance (love)</td>\n",
              "      <td>Good point. Romance is associated with perfect...</td>\n",
              "      <td>[This feeling is associated with, but does not...</td>\n",
              "      <td>[Romance is the expressive and pleasurable fee...</td>\n",
              "    </tr>\n",
              "    <tr>\n",
              "      <th>...</th>\n",
              "      <td>...</td>\n",
              "      <td>...</td>\n",
              "      <td>...</td>\n",
              "      <td>...</td>\n",
              "    </tr>\n",
              "    <tr>\n",
              "      <th>25983</th>\n",
              "      <td>Kendrick Lamar</td>\n",
              "      <td>Kendrick Lamar is great! He is a rapper</td>\n",
              "      <td>[Kendrick Lamar Duckworth (born June 17, 1987)...</td>\n",
              "      <td>[Kendrick Lamar Duckworth (born June 17, 1987)...</td>\n",
              "    </tr>\n",
              "    <tr>\n",
              "      <th>25984</th>\n",
              "      <td>Kendrick Lamar</td>\n",
              "      <td>It is not, but he is very acclaimed in the gen...</td>\n",
              "      <td>[His critically acclaimed third album \"To Pimp...</td>\n",
              "      <td>[Kendrick Lamar Duckworth (born June 17, 1987)...</td>\n",
              "    </tr>\n",
              "    <tr>\n",
              "      <th>25985</th>\n",
              "      <td>Skiing</td>\n",
              "      <td>I knew skiing was a winter sport but I never t...</td>\n",
              "      <td>[Skiing can be a means of transport, a recreat...</td>\n",
              "      <td>[Skiing can be a means of transport, a recreat...</td>\n",
              "    </tr>\n",
              "    <tr>\n",
              "      <th>25986</th>\n",
              "      <td>Skiing</td>\n",
              "      <td>It seems that it may also have been practiced ...</td>\n",
              "      <td>[Although modern skiing has evolved from begin...</td>\n",
              "      <td>[Skiing can be a means of transport, a recreat...</td>\n",
              "    </tr>\n",
              "    <tr>\n",
              "      <th>25987</th>\n",
              "      <td>Skiing</td>\n",
              "      <td>Apparently they had one long ski for sliding a...</td>\n",
              "      <td>[On one leg the skier wore a long straight non...</td>\n",
              "      <td>[Skiing can be a means of transport, a recreat...</td>\n",
              "    </tr>\n",
              "  </tbody>\n",
              "</table>\n",
              "<p>25988 rows × 4 columns</p>\n",
              "</div>\n",
              "      <button class=\"colab-df-convert\" onclick=\"convertToInteractive('df-69e74569-9db9-4466-b4ba-e37705c2e762')\"\n",
              "              title=\"Convert this dataframe to an interactive table.\"\n",
              "              style=\"display:none;\">\n",
              "        \n",
              "  <svg xmlns=\"http://www.w3.org/2000/svg\" height=\"24px\"viewBox=\"0 0 24 24\"\n",
              "       width=\"24px\">\n",
              "    <path d=\"M0 0h24v24H0V0z\" fill=\"none\"/>\n",
              "    <path d=\"M18.56 5.44l.94 2.06.94-2.06 2.06-.94-2.06-.94-.94-2.06-.94 2.06-2.06.94zm-11 1L8.5 8.5l.94-2.06 2.06-.94-2.06-.94L8.5 2.5l-.94 2.06-2.06.94zm10 10l.94 2.06.94-2.06 2.06-.94-2.06-.94-.94-2.06-.94 2.06-2.06.94z\"/><path d=\"M17.41 7.96l-1.37-1.37c-.4-.4-.92-.59-1.43-.59-.52 0-1.04.2-1.43.59L10.3 9.45l-7.72 7.72c-.78.78-.78 2.05 0 2.83L4 21.41c.39.39.9.59 1.41.59.51 0 1.02-.2 1.41-.59l7.78-7.78 2.81-2.81c.8-.78.8-2.07 0-2.86zM5.41 20L4 18.59l7.72-7.72 1.47 1.35L5.41 20z\"/>\n",
              "  </svg>\n",
              "      </button>\n",
              "      \n",
              "  <style>\n",
              "    .colab-df-container {\n",
              "      display:flex;\n",
              "      flex-wrap:wrap;\n",
              "      gap: 12px;\n",
              "    }\n",
              "\n",
              "    .colab-df-convert {\n",
              "      background-color: #E8F0FE;\n",
              "      border: none;\n",
              "      border-radius: 50%;\n",
              "      cursor: pointer;\n",
              "      display: none;\n",
              "      fill: #1967D2;\n",
              "      height: 32px;\n",
              "      padding: 0 0 0 0;\n",
              "      width: 32px;\n",
              "    }\n",
              "\n",
              "    .colab-df-convert:hover {\n",
              "      background-color: #E2EBFA;\n",
              "      box-shadow: 0px 1px 2px rgba(60, 64, 67, 0.3), 0px 1px 3px 1px rgba(60, 64, 67, 0.15);\n",
              "      fill: #174EA6;\n",
              "    }\n",
              "\n",
              "    [theme=dark] .colab-df-convert {\n",
              "      background-color: #3B4455;\n",
              "      fill: #D2E3FC;\n",
              "    }\n",
              "\n",
              "    [theme=dark] .colab-df-convert:hover {\n",
              "      background-color: #434B5C;\n",
              "      box-shadow: 0px 1px 3px 1px rgba(0, 0, 0, 0.15);\n",
              "      filter: drop-shadow(0px 1px 2px rgba(0, 0, 0, 0.3));\n",
              "      fill: #FFFFFF;\n",
              "    }\n",
              "  </style>\n",
              "\n",
              "      <script>\n",
              "        const buttonEl =\n",
              "          document.querySelector('#df-69e74569-9db9-4466-b4ba-e37705c2e762 button.colab-df-convert');\n",
              "        buttonEl.style.display =\n",
              "          google.colab.kernel.accessAllowed ? 'block' : 'none';\n",
              "\n",
              "        async function convertToInteractive(key) {\n",
              "          const element = document.querySelector('#df-69e74569-9db9-4466-b4ba-e37705c2e762');\n",
              "          const dataTable =\n",
              "            await google.colab.kernel.invokeFunction('convertToInteractive',\n",
              "                                                     [key], {});\n",
              "          if (!dataTable) return;\n",
              "\n",
              "          const docLinkHtml = 'Like what you see? Visit the ' +\n",
              "            '<a target=\"_blank\" href=https://colab.research.google.com/notebooks/data_table.ipynb>data table notebook</a>'\n",
              "            + ' to learn more about interactive tables.';\n",
              "          element.innerHTML = '';\n",
              "          dataTable['output_type'] = 'display_data';\n",
              "          await google.colab.output.renderOutput(dataTable, element);\n",
              "          const docLink = document.createElement('div');\n",
              "          docLink.innerHTML = docLinkHtml;\n",
              "          element.appendChild(docLink);\n",
              "        }\n",
              "      </script>\n",
              "    </div>\n",
              "  </div>\n",
              "  "
            ]
          },
          "metadata": {},
          "execution_count": 5
        }
      ]
    },
    {
      "cell_type": "markdown",
      "source": [
        "### Reducing the size\n",
        "\n",
        "The size of the dataset is too big for the amount of available VRAM on the GPU. Therefor we need to reduce the size of the extracted dataset.\n",
        "\n",
        "We also found that using more data will just result in overfitting the model."
      ],
      "metadata": {
        "id": "twbzjwxJt5xG"
      }
    },
    {
      "cell_type": "code",
      "source": [
        "testing_size = len(extract_test_df.index)*0.04\n",
        "testing_size = int(testing_size)\n",
        "\n",
        "training_size = len(extract_train_df.index)*0.04\n",
        "training_size = int(training_size)\n",
        "\n",
        "print(\"Ratio %:\", testing_size/training_size * 100)"
      ],
      "metadata": {
        "colab": {
          "base_uri": "https://localhost:8080/"
        },
        "id": "Dxq5e0ksuRls",
        "outputId": "861e4554-8bff-4511-e7ee-5c18fa5d47b1"
      },
      "execution_count": 6,
      "outputs": [
        {
          "output_type": "stream",
          "name": "stdout",
          "text": [
            "Ratio %: 37.823079723334544\n"
          ]
        }
      ]
    },
    {
      "cell_type": "code",
      "source": [
        "extract_test_df = extract_test_df.sample(testing_size)\n",
        "extract_test_df"
      ],
      "metadata": {
        "colab": {
          "base_uri": "https://localhost:8080/",
          "height": 641
        },
        "id": "b7QqRjwN1xcV",
        "outputId": "41b9e3d9-bd7a-453f-f6c2-e0bec4b433d7"
      },
      "execution_count": 7,
      "outputs": [
        {
          "output_type": "execute_result",
          "data": {
            "text/plain": [
              "                chosen_topic  \\\n",
              "25587                Bowling   \n",
              "10590              Back pain   \n",
              "19425          Austin, Texas   \n",
              "5458                   Husky   \n",
              "20029            Linkin Park   \n",
              "...                      ...   \n",
              "9850                  Barbie   \n",
              "21616               Veganism   \n",
              "3825                  Desert   \n",
              "4247   The Lord of the Rings   \n",
              "4048                 Finance   \n",
              "\n",
              "                                         speaker_passage  \\\n",
              "25587  target is usually to knock over pins at the en...   \n",
              "10590  No, it originates in my spine.  Luckily the pa...   \n",
              "19425  He led the colonization of the region bringing...   \n",
              "5458   Still Alaska because husky\" is recorded from 1...   \n",
              "20029                 I love the rock band, Linkin Park.   \n",
              "...                                                  ...   \n",
              "9850   I used to have the biggest collection of Barbi...   \n",
              "21616  People argue that it is not necessary to survi...   \n",
              "3825   I'm not sure of exact heat in general, but the...   \n",
              "4247   Of course not, it's an epic high fantasy novel...   \n",
              "4048   You can also call finance the science of money...   \n",
              "\n",
              "                                        checked_sentence  \\\n",
              "25587  [In pin bowling variations, the target is usua...   \n",
              "10590  [Episodes of back pain may be acute, sub-acute...   \n",
              "19425  [Known as the \"Father of Texas\", and the found...   \n",
              "5458   [The use of \"husky\" is recorded from 1852 for ...   \n",
              "20029  [Linkin Park is an American rock band from Ago...   \n",
              "...                                                  ...   \n",
              "9850   [Barbie is the figurehead of a brand of Mattel...   \n",
              "21616  [The most commonly given ethical objection to ...   \n",
              "3825   [It is a temperate desert with hot, dry summer...   \n",
              "4247   [The Lord of the Rings is an epic high fantasy...   \n",
              "4048   [Finance can also be defined as the science of...   \n",
              "\n",
              "                                    chosen_topic_passage  \n",
              "25587  [Bowling is a sport or leisure activity in whi...  \n",
              "10590  [Back pain is pain in any region of the back.,...  \n",
              "19425  [Austin () is the capital of the U.S. state of...  \n",
              "5458   [Husky is a general name for a sled-type of do...  \n",
              "20029  [Linkin Park is an American rock band from Ago...  \n",
              "...                                                  ...  \n",
              "9850   [Barbie is a fashion doll manufactured by the ...  \n",
              "21616  [Veganism is both the practice of abstaining f...  \n",
              "3825   [A desert is a barren area of landscape where ...  \n",
              "4247   [The Lord of the Rings is an epic high fantasy...  \n",
              "4048   [Finance is a field that deals with the study ...  \n",
              "\n",
              "[1039 rows x 4 columns]"
            ],
            "text/html": [
              "\n",
              "  <div id=\"df-a9705341-4029-4a66-a2c1-78fe5d6c26aa\">\n",
              "    <div class=\"colab-df-container\">\n",
              "      <div>\n",
              "<style scoped>\n",
              "    .dataframe tbody tr th:only-of-type {\n",
              "        vertical-align: middle;\n",
              "    }\n",
              "\n",
              "    .dataframe tbody tr th {\n",
              "        vertical-align: top;\n",
              "    }\n",
              "\n",
              "    .dataframe thead th {\n",
              "        text-align: right;\n",
              "    }\n",
              "</style>\n",
              "<table border=\"1\" class=\"dataframe\">\n",
              "  <thead>\n",
              "    <tr style=\"text-align: right;\">\n",
              "      <th></th>\n",
              "      <th>chosen_topic</th>\n",
              "      <th>speaker_passage</th>\n",
              "      <th>checked_sentence</th>\n",
              "      <th>chosen_topic_passage</th>\n",
              "    </tr>\n",
              "  </thead>\n",
              "  <tbody>\n",
              "    <tr>\n",
              "      <th>25587</th>\n",
              "      <td>Bowling</td>\n",
              "      <td>target is usually to knock over pins at the en...</td>\n",
              "      <td>[In pin bowling variations, the target is usua...</td>\n",
              "      <td>[Bowling is a sport or leisure activity in whi...</td>\n",
              "    </tr>\n",
              "    <tr>\n",
              "      <th>10590</th>\n",
              "      <td>Back pain</td>\n",
              "      <td>No, it originates in my spine.  Luckily the pa...</td>\n",
              "      <td>[Episodes of back pain may be acute, sub-acute...</td>\n",
              "      <td>[Back pain is pain in any region of the back.,...</td>\n",
              "    </tr>\n",
              "    <tr>\n",
              "      <th>19425</th>\n",
              "      <td>Austin, Texas</td>\n",
              "      <td>He led the colonization of the region bringing...</td>\n",
              "      <td>[Known as the \"Father of Texas\", and the found...</td>\n",
              "      <td>[Austin () is the capital of the U.S. state of...</td>\n",
              "    </tr>\n",
              "    <tr>\n",
              "      <th>5458</th>\n",
              "      <td>Husky</td>\n",
              "      <td>Still Alaska because husky\" is recorded from 1...</td>\n",
              "      <td>[The use of \"husky\" is recorded from 1852 for ...</td>\n",
              "      <td>[Husky is a general name for a sled-type of do...</td>\n",
              "    </tr>\n",
              "    <tr>\n",
              "      <th>20029</th>\n",
              "      <td>Linkin Park</td>\n",
              "      <td>I love the rock band, Linkin Park.</td>\n",
              "      <td>[Linkin Park is an American rock band from Ago...</td>\n",
              "      <td>[Linkin Park is an American rock band from Ago...</td>\n",
              "    </tr>\n",
              "    <tr>\n",
              "      <th>...</th>\n",
              "      <td>...</td>\n",
              "      <td>...</td>\n",
              "      <td>...</td>\n",
              "      <td>...</td>\n",
              "    </tr>\n",
              "    <tr>\n",
              "      <th>9850</th>\n",
              "      <td>Barbie</td>\n",
              "      <td>I used to have the biggest collection of Barbi...</td>\n",
              "      <td>[Barbie is the figurehead of a brand of Mattel...</td>\n",
              "      <td>[Barbie is a fashion doll manufactured by the ...</td>\n",
              "    </tr>\n",
              "    <tr>\n",
              "      <th>21616</th>\n",
              "      <td>Veganism</td>\n",
              "      <td>People argue that it is not necessary to survi...</td>\n",
              "      <td>[The most commonly given ethical objection to ...</td>\n",
              "      <td>[Veganism is both the practice of abstaining f...</td>\n",
              "    </tr>\n",
              "    <tr>\n",
              "      <th>3825</th>\n",
              "      <td>Desert</td>\n",
              "      <td>I'm not sure of exact heat in general, but the...</td>\n",
              "      <td>[It is a temperate desert with hot, dry summer...</td>\n",
              "      <td>[A desert is a barren area of landscape where ...</td>\n",
              "    </tr>\n",
              "    <tr>\n",
              "      <th>4247</th>\n",
              "      <td>The Lord of the Rings</td>\n",
              "      <td>Of course not, it's an epic high fantasy novel...</td>\n",
              "      <td>[The Lord of the Rings is an epic high fantasy...</td>\n",
              "      <td>[The Lord of the Rings is an epic high fantasy...</td>\n",
              "    </tr>\n",
              "    <tr>\n",
              "      <th>4048</th>\n",
              "      <td>Finance</td>\n",
              "      <td>You can also call finance the science of money...</td>\n",
              "      <td>[Finance can also be defined as the science of...</td>\n",
              "      <td>[Finance is a field that deals with the study ...</td>\n",
              "    </tr>\n",
              "  </tbody>\n",
              "</table>\n",
              "<p>1039 rows × 4 columns</p>\n",
              "</div>\n",
              "      <button class=\"colab-df-convert\" onclick=\"convertToInteractive('df-a9705341-4029-4a66-a2c1-78fe5d6c26aa')\"\n",
              "              title=\"Convert this dataframe to an interactive table.\"\n",
              "              style=\"display:none;\">\n",
              "        \n",
              "  <svg xmlns=\"http://www.w3.org/2000/svg\" height=\"24px\"viewBox=\"0 0 24 24\"\n",
              "       width=\"24px\">\n",
              "    <path d=\"M0 0h24v24H0V0z\" fill=\"none\"/>\n",
              "    <path d=\"M18.56 5.44l.94 2.06.94-2.06 2.06-.94-2.06-.94-.94-2.06-.94 2.06-2.06.94zm-11 1L8.5 8.5l.94-2.06 2.06-.94-2.06-.94L8.5 2.5l-.94 2.06-2.06.94zm10 10l.94 2.06.94-2.06 2.06-.94-2.06-.94-.94-2.06-.94 2.06-2.06.94z\"/><path d=\"M17.41 7.96l-1.37-1.37c-.4-.4-.92-.59-1.43-.59-.52 0-1.04.2-1.43.59L10.3 9.45l-7.72 7.72c-.78.78-.78 2.05 0 2.83L4 21.41c.39.39.9.59 1.41.59.51 0 1.02-.2 1.41-.59l7.78-7.78 2.81-2.81c.8-.78.8-2.07 0-2.86zM5.41 20L4 18.59l7.72-7.72 1.47 1.35L5.41 20z\"/>\n",
              "  </svg>\n",
              "      </button>\n",
              "      \n",
              "  <style>\n",
              "    .colab-df-container {\n",
              "      display:flex;\n",
              "      flex-wrap:wrap;\n",
              "      gap: 12px;\n",
              "    }\n",
              "\n",
              "    .colab-df-convert {\n",
              "      background-color: #E8F0FE;\n",
              "      border: none;\n",
              "      border-radius: 50%;\n",
              "      cursor: pointer;\n",
              "      display: none;\n",
              "      fill: #1967D2;\n",
              "      height: 32px;\n",
              "      padding: 0 0 0 0;\n",
              "      width: 32px;\n",
              "    }\n",
              "\n",
              "    .colab-df-convert:hover {\n",
              "      background-color: #E2EBFA;\n",
              "      box-shadow: 0px 1px 2px rgba(60, 64, 67, 0.3), 0px 1px 3px 1px rgba(60, 64, 67, 0.15);\n",
              "      fill: #174EA6;\n",
              "    }\n",
              "\n",
              "    [theme=dark] .colab-df-convert {\n",
              "      background-color: #3B4455;\n",
              "      fill: #D2E3FC;\n",
              "    }\n",
              "\n",
              "    [theme=dark] .colab-df-convert:hover {\n",
              "      background-color: #434B5C;\n",
              "      box-shadow: 0px 1px 3px 1px rgba(0, 0, 0, 0.15);\n",
              "      filter: drop-shadow(0px 1px 2px rgba(0, 0, 0, 0.3));\n",
              "      fill: #FFFFFF;\n",
              "    }\n",
              "  </style>\n",
              "\n",
              "      <script>\n",
              "        const buttonEl =\n",
              "          document.querySelector('#df-a9705341-4029-4a66-a2c1-78fe5d6c26aa button.colab-df-convert');\n",
              "        buttonEl.style.display =\n",
              "          google.colab.kernel.accessAllowed ? 'block' : 'none';\n",
              "\n",
              "        async function convertToInteractive(key) {\n",
              "          const element = document.querySelector('#df-a9705341-4029-4a66-a2c1-78fe5d6c26aa');\n",
              "          const dataTable =\n",
              "            await google.colab.kernel.invokeFunction('convertToInteractive',\n",
              "                                                     [key], {});\n",
              "          if (!dataTable) return;\n",
              "\n",
              "          const docLinkHtml = 'Like what you see? Visit the ' +\n",
              "            '<a target=\"_blank\" href=https://colab.research.google.com/notebooks/data_table.ipynb>data table notebook</a>'\n",
              "            + ' to learn more about interactive tables.';\n",
              "          element.innerHTML = '';\n",
              "          dataTable['output_type'] = 'display_data';\n",
              "          await google.colab.output.renderOutput(dataTable, element);\n",
              "          const docLink = document.createElement('div');\n",
              "          docLink.innerHTML = docLinkHtml;\n",
              "          element.appendChild(docLink);\n",
              "        }\n",
              "      </script>\n",
              "    </div>\n",
              "  </div>\n",
              "  "
            ]
          },
          "metadata": {},
          "execution_count": 7
        }
      ]
    },
    {
      "cell_type": "code",
      "source": [
        "extract_train_df = extract_train_df.sample(training_size)\n",
        "extract_train_df"
      ],
      "metadata": {
        "colab": {
          "base_uri": "https://localhost:8080/",
          "height": 641
        },
        "id": "6IhC6vIi15ll",
        "outputId": "eaf0dcf8-5d43-484d-9a28-3db53bb5375b"
      },
      "execution_count": 8,
      "outputs": [
        {
          "output_type": "execute_result",
          "data": {
            "text/plain": [
              "       chosen_topic                                    speaker_passage  \\\n",
              "48573     Van Halen  He was the primary lead vocalist and lyricist ...   \n",
              "35078         India  It is very big!  In fact, it is the seventh la...   \n",
              "24805       Algeria  Wow! We've visited before, since a cousin of m...   \n",
              "21315   Frank Ocean  Did you like his studio album \"Channel Orange\"...   \n",
              "1776        Brewery  well, canada beer is good, it was  introduced ...   \n",
              "...             ...                                                ...   \n",
              "11859          Hair  Yes; I feel that it's coming back for sure. Wh...   \n",
              "8174        Chicken  She keeps poultry?  She eats the meat too, right?   \n",
              "54371  Ford Mustang  Yeah! Though Mustang has undergone several tra...   \n",
              "66215       Hot dog  They basically grind all this meat and fat and...   \n",
              "31061    Snorkeling  Just make sure you bring your wetsuit if the w...   \n",
              "\n",
              "                                        checked_sentence  \\\n",
              "48573  [Ronald Belford \"Bon\" Scott (9 July 1946 – 19 ...   \n",
              "35078  [It is the seventh-largest country by area, th...   \n",
              "24805  [With its rich and unique cultural and archite...   \n",
              "21315  [His debut studio album, \"Channel Orange\", was...   \n",
              "1776   [Beer in Canada was introduced by European set...   \n",
              "...                                                  ...   \n",
              "11859  [Curly hair also has its own variation ranging...   \n",
              "8174   [Poultry () are domesticated birds kept by hum...   \n",
              "54371  [The Mustang has undergone several transformat...   \n",
              "66215  [The hot dog became closely associated with ba...   \n",
              "31061    [In cooler waters, a wetsuit may also be worn.]   \n",
              "\n",
              "                                    chosen_topic_passage  \n",
              "48573  [Van Halen is an American hard rock band forme...  \n",
              "35078  [India, officially the Republic of India (\"Bhā...  \n",
              "24805  [Algeria ( '; '; ), officially the People's De...  \n",
              "21315  [Frank Ocean (born Christopher Edwin Breaux; O...  \n",
              "1776   [A brewery or brewing company is a business th...  \n",
              "...                                                  ...  \n",
              "11859  [Hair is a protein filament that grows from fo...  \n",
              "8174   [The chicken (\"Gallus gallus domesticus\") is a...  \n",
              "54371  [The Ford Mustang is an American car manufactu...  \n",
              "66215  [A hot dog (also spelled hotdog), also known a...  \n",
              "31061  [Snorkeling (British and Commonwealth English ...  \n",
              "\n",
              "[2747 rows x 4 columns]"
            ],
            "text/html": [
              "\n",
              "  <div id=\"df-b13c7b0d-f638-4724-b3c3-bf50ed0d9660\">\n",
              "    <div class=\"colab-df-container\">\n",
              "      <div>\n",
              "<style scoped>\n",
              "    .dataframe tbody tr th:only-of-type {\n",
              "        vertical-align: middle;\n",
              "    }\n",
              "\n",
              "    .dataframe tbody tr th {\n",
              "        vertical-align: top;\n",
              "    }\n",
              "\n",
              "    .dataframe thead th {\n",
              "        text-align: right;\n",
              "    }\n",
              "</style>\n",
              "<table border=\"1\" class=\"dataframe\">\n",
              "  <thead>\n",
              "    <tr style=\"text-align: right;\">\n",
              "      <th></th>\n",
              "      <th>chosen_topic</th>\n",
              "      <th>speaker_passage</th>\n",
              "      <th>checked_sentence</th>\n",
              "      <th>chosen_topic_passage</th>\n",
              "    </tr>\n",
              "  </thead>\n",
              "  <tbody>\n",
              "    <tr>\n",
              "      <th>48573</th>\n",
              "      <td>Van Halen</td>\n",
              "      <td>He was the primary lead vocalist and lyricist ...</td>\n",
              "      <td>[Ronald Belford \"Bon\" Scott (9 July 1946 – 19 ...</td>\n",
              "      <td>[Van Halen is an American hard rock band forme...</td>\n",
              "    </tr>\n",
              "    <tr>\n",
              "      <th>35078</th>\n",
              "      <td>India</td>\n",
              "      <td>It is very big!  In fact, it is the seventh la...</td>\n",
              "      <td>[It is the seventh-largest country by area, th...</td>\n",
              "      <td>[India, officially the Republic of India (\"Bhā...</td>\n",
              "    </tr>\n",
              "    <tr>\n",
              "      <th>24805</th>\n",
              "      <td>Algeria</td>\n",
              "      <td>Wow! We've visited before, since a cousin of m...</td>\n",
              "      <td>[With its rich and unique cultural and archite...</td>\n",
              "      <td>[Algeria ( '; '; ), officially the People's De...</td>\n",
              "    </tr>\n",
              "    <tr>\n",
              "      <th>21315</th>\n",
              "      <td>Frank Ocean</td>\n",
              "      <td>Did you like his studio album \"Channel Orange\"...</td>\n",
              "      <td>[His debut studio album, \"Channel Orange\", was...</td>\n",
              "      <td>[Frank Ocean (born Christopher Edwin Breaux; O...</td>\n",
              "    </tr>\n",
              "    <tr>\n",
              "      <th>1776</th>\n",
              "      <td>Brewery</td>\n",
              "      <td>well, canada beer is good, it was  introduced ...</td>\n",
              "      <td>[Beer in Canada was introduced by European set...</td>\n",
              "      <td>[A brewery or brewing company is a business th...</td>\n",
              "    </tr>\n",
              "    <tr>\n",
              "      <th>...</th>\n",
              "      <td>...</td>\n",
              "      <td>...</td>\n",
              "      <td>...</td>\n",
              "      <td>...</td>\n",
              "    </tr>\n",
              "    <tr>\n",
              "      <th>11859</th>\n",
              "      <td>Hair</td>\n",
              "      <td>Yes; I feel that it's coming back for sure. Wh...</td>\n",
              "      <td>[Curly hair also has its own variation ranging...</td>\n",
              "      <td>[Hair is a protein filament that grows from fo...</td>\n",
              "    </tr>\n",
              "    <tr>\n",
              "      <th>8174</th>\n",
              "      <td>Chicken</td>\n",
              "      <td>She keeps poultry?  She eats the meat too, right?</td>\n",
              "      <td>[Poultry () are domesticated birds kept by hum...</td>\n",
              "      <td>[The chicken (\"Gallus gallus domesticus\") is a...</td>\n",
              "    </tr>\n",
              "    <tr>\n",
              "      <th>54371</th>\n",
              "      <td>Ford Mustang</td>\n",
              "      <td>Yeah! Though Mustang has undergone several tra...</td>\n",
              "      <td>[The Mustang has undergone several transformat...</td>\n",
              "      <td>[The Ford Mustang is an American car manufactu...</td>\n",
              "    </tr>\n",
              "    <tr>\n",
              "      <th>66215</th>\n",
              "      <td>Hot dog</td>\n",
              "      <td>They basically grind all this meat and fat and...</td>\n",
              "      <td>[The hot dog became closely associated with ba...</td>\n",
              "      <td>[A hot dog (also spelled hotdog), also known a...</td>\n",
              "    </tr>\n",
              "    <tr>\n",
              "      <th>31061</th>\n",
              "      <td>Snorkeling</td>\n",
              "      <td>Just make sure you bring your wetsuit if the w...</td>\n",
              "      <td>[In cooler waters, a wetsuit may also be worn.]</td>\n",
              "      <td>[Snorkeling (British and Commonwealth English ...</td>\n",
              "    </tr>\n",
              "  </tbody>\n",
              "</table>\n",
              "<p>2747 rows × 4 columns</p>\n",
              "</div>\n",
              "      <button class=\"colab-df-convert\" onclick=\"convertToInteractive('df-b13c7b0d-f638-4724-b3c3-bf50ed0d9660')\"\n",
              "              title=\"Convert this dataframe to an interactive table.\"\n",
              "              style=\"display:none;\">\n",
              "        \n",
              "  <svg xmlns=\"http://www.w3.org/2000/svg\" height=\"24px\"viewBox=\"0 0 24 24\"\n",
              "       width=\"24px\">\n",
              "    <path d=\"M0 0h24v24H0V0z\" fill=\"none\"/>\n",
              "    <path d=\"M18.56 5.44l.94 2.06.94-2.06 2.06-.94-2.06-.94-.94-2.06-.94 2.06-2.06.94zm-11 1L8.5 8.5l.94-2.06 2.06-.94-2.06-.94L8.5 2.5l-.94 2.06-2.06.94zm10 10l.94 2.06.94-2.06 2.06-.94-2.06-.94-.94-2.06-.94 2.06-2.06.94z\"/><path d=\"M17.41 7.96l-1.37-1.37c-.4-.4-.92-.59-1.43-.59-.52 0-1.04.2-1.43.59L10.3 9.45l-7.72 7.72c-.78.78-.78 2.05 0 2.83L4 21.41c.39.39.9.59 1.41.59.51 0 1.02-.2 1.41-.59l7.78-7.78 2.81-2.81c.8-.78.8-2.07 0-2.86zM5.41 20L4 18.59l7.72-7.72 1.47 1.35L5.41 20z\"/>\n",
              "  </svg>\n",
              "      </button>\n",
              "      \n",
              "  <style>\n",
              "    .colab-df-container {\n",
              "      display:flex;\n",
              "      flex-wrap:wrap;\n",
              "      gap: 12px;\n",
              "    }\n",
              "\n",
              "    .colab-df-convert {\n",
              "      background-color: #E8F0FE;\n",
              "      border: none;\n",
              "      border-radius: 50%;\n",
              "      cursor: pointer;\n",
              "      display: none;\n",
              "      fill: #1967D2;\n",
              "      height: 32px;\n",
              "      padding: 0 0 0 0;\n",
              "      width: 32px;\n",
              "    }\n",
              "\n",
              "    .colab-df-convert:hover {\n",
              "      background-color: #E2EBFA;\n",
              "      box-shadow: 0px 1px 2px rgba(60, 64, 67, 0.3), 0px 1px 3px 1px rgba(60, 64, 67, 0.15);\n",
              "      fill: #174EA6;\n",
              "    }\n",
              "\n",
              "    [theme=dark] .colab-df-convert {\n",
              "      background-color: #3B4455;\n",
              "      fill: #D2E3FC;\n",
              "    }\n",
              "\n",
              "    [theme=dark] .colab-df-convert:hover {\n",
              "      background-color: #434B5C;\n",
              "      box-shadow: 0px 1px 3px 1px rgba(0, 0, 0, 0.15);\n",
              "      filter: drop-shadow(0px 1px 2px rgba(0, 0, 0, 0.3));\n",
              "      fill: #FFFFFF;\n",
              "    }\n",
              "  </style>\n",
              "\n",
              "      <script>\n",
              "        const buttonEl =\n",
              "          document.querySelector('#df-b13c7b0d-f638-4724-b3c3-bf50ed0d9660 button.colab-df-convert');\n",
              "        buttonEl.style.display =\n",
              "          google.colab.kernel.accessAllowed ? 'block' : 'none';\n",
              "\n",
              "        async function convertToInteractive(key) {\n",
              "          const element = document.querySelector('#df-b13c7b0d-f638-4724-b3c3-bf50ed0d9660');\n",
              "          const dataTable =\n",
              "            await google.colab.kernel.invokeFunction('convertToInteractive',\n",
              "                                                     [key], {});\n",
              "          if (!dataTable) return;\n",
              "\n",
              "          const docLinkHtml = 'Like what you see? Visit the ' +\n",
              "            '<a target=\"_blank\" href=https://colab.research.google.com/notebooks/data_table.ipynb>data table notebook</a>'\n",
              "            + ' to learn more about interactive tables.';\n",
              "          element.innerHTML = '';\n",
              "          dataTable['output_type'] = 'display_data';\n",
              "          await google.colab.output.renderOutput(dataTable, element);\n",
              "          const docLink = document.createElement('div');\n",
              "          docLink.innerHTML = docLinkHtml;\n",
              "          element.appendChild(docLink);\n",
              "        }\n",
              "      </script>\n",
              "    </div>\n",
              "  </div>\n",
              "  "
            ]
          },
          "metadata": {},
          "execution_count": 8
        }
      ]
    },
    {
      "cell_type": "markdown",
      "source": [
        "## Finetuning the model\n",
        "\n",
        "As we can see from the pevious output, the dataset is very huge. Too big to fit on our GPU V-RAM. "
      ],
      "metadata": {
        "id": "p8wAZ1838xE2"
      }
    },
    {
      "cell_type": "code",
      "source": [
        "%pip install transformers"
      ],
      "metadata": {
        "colab": {
          "base_uri": "https://localhost:8080/"
        },
        "id": "xeWwKIol34Dw",
        "outputId": "87ad1ef9-f205-436d-d196-95c90be263d7"
      },
      "execution_count": 9,
      "outputs": [
        {
          "output_type": "stream",
          "name": "stdout",
          "text": [
            "Looking in indexes: https://pypi.org/simple, https://us-python.pkg.dev/colab-wheels/public/simple/\n",
            "Collecting transformers\n",
            "  Downloading transformers-4.29.2-py3-none-any.whl (7.1 MB)\n",
            "\u001b[2K     \u001b[90m━━━━━━━━━━━━━━━━━━━━━━━━━━━━━━━━━━━━━━━━\u001b[0m \u001b[32m7.1/7.1 MB\u001b[0m \u001b[31m37.3 MB/s\u001b[0m eta \u001b[36m0:00:00\u001b[0m\n",
            "\u001b[?25hRequirement already satisfied: filelock in /usr/local/lib/python3.10/dist-packages (from transformers) (3.12.0)\n",
            "Collecting huggingface-hub<1.0,>=0.14.1 (from transformers)\n",
            "  Downloading huggingface_hub-0.14.1-py3-none-any.whl (224 kB)\n",
            "\u001b[2K     \u001b[90m━━━━━━━━━━━━━━━━━━━━━━━━━━━━━━━━━━━━━━\u001b[0m \u001b[32m224.5/224.5 kB\u001b[0m \u001b[31m25.0 MB/s\u001b[0m eta \u001b[36m0:00:00\u001b[0m\n",
            "\u001b[?25hRequirement already satisfied: numpy>=1.17 in /usr/local/lib/python3.10/dist-packages (from transformers) (1.22.4)\n",
            "Requirement already satisfied: packaging>=20.0 in /usr/local/lib/python3.10/dist-packages (from transformers) (23.1)\n",
            "Requirement already satisfied: pyyaml>=5.1 in /usr/local/lib/python3.10/dist-packages (from transformers) (6.0)\n",
            "Requirement already satisfied: regex!=2019.12.17 in /usr/local/lib/python3.10/dist-packages (from transformers) (2022.10.31)\n",
            "Requirement already satisfied: requests in /usr/local/lib/python3.10/dist-packages (from transformers) (2.27.1)\n",
            "Collecting tokenizers!=0.11.3,<0.14,>=0.11.1 (from transformers)\n",
            "  Downloading tokenizers-0.13.3-cp310-cp310-manylinux_2_17_x86_64.manylinux2014_x86_64.whl (7.8 MB)\n",
            "\u001b[2K     \u001b[90m━━━━━━━━━━━━━━━━━━━━━━━━━━━━━━━━━━━━━━━━\u001b[0m \u001b[32m7.8/7.8 MB\u001b[0m \u001b[31m55.8 MB/s\u001b[0m eta \u001b[36m0:00:00\u001b[0m\n",
            "\u001b[?25hRequirement already satisfied: tqdm>=4.27 in /usr/local/lib/python3.10/dist-packages (from transformers) (4.65.0)\n",
            "Requirement already satisfied: fsspec in /usr/local/lib/python3.10/dist-packages (from huggingface-hub<1.0,>=0.14.1->transformers) (2023.4.0)\n",
            "Requirement already satisfied: typing-extensions>=3.7.4.3 in /usr/local/lib/python3.10/dist-packages (from huggingface-hub<1.0,>=0.14.1->transformers) (4.5.0)\n",
            "Requirement already satisfied: urllib3<1.27,>=1.21.1 in /usr/local/lib/python3.10/dist-packages (from requests->transformers) (1.26.15)\n",
            "Requirement already satisfied: certifi>=2017.4.17 in /usr/local/lib/python3.10/dist-packages (from requests->transformers) (2022.12.7)\n",
            "Requirement already satisfied: charset-normalizer~=2.0.0 in /usr/local/lib/python3.10/dist-packages (from requests->transformers) (2.0.12)\n",
            "Requirement already satisfied: idna<4,>=2.5 in /usr/local/lib/python3.10/dist-packages (from requests->transformers) (3.4)\n",
            "Installing collected packages: tokenizers, huggingface-hub, transformers\n",
            "Successfully installed huggingface-hub-0.14.1 tokenizers-0.13.3 transformers-4.29.2\n"
          ]
        }
      ]
    },
    {
      "cell_type": "code",
      "source": [
        "from transformers import AutoTokenizer, AutoModel\n",
        "import torch\n",
        "import torch.nn.functional as F\n",
        "\n",
        "# Load model from HuggingFace Hub\n",
        "tokenizer = AutoTokenizer.from_pretrained('sentence-transformers/all-MiniLM-L6-v2')\n",
        "model = AutoModel.from_pretrained('sentence-transformers/all-MiniLM-L6-v2')\n"
      ],
      "metadata": {
        "colab": {
          "base_uri": "https://localhost:8080/",
          "height": 209,
          "referenced_widgets": [
            "db96924aa56e45958f37e4caf5523f2c",
            "3556cea2e1e740de9d63b8e66bf3f922",
            "f4276cc69dcc4a0c9b7c91eb3bd250c3",
            "2070364e2d7d496da48d6458c27ea557",
            "68b67324a7314d67997630018bf84de2",
            "cafa7cd1e9be421ab4f216c68b6131e2",
            "22bad860f93947789a10aa0fb033a069",
            "a75e09e5566c470ba026acb91fb2126e",
            "7553657ae8b044c5a1ae18efb879968d",
            "ca017a3a39d145be9c507c8533cb87db",
            "dbe2a4e461df4f208c6d9f01d76eefae",
            "3c3cabde6c934873a839d63349b77384",
            "bc013bb1f9c04b3ab8b22f21fc946fe1",
            "238cee319f414566ac478f3bca8dfc8e",
            "f4ada538b4b349a1b6b928312e972be9",
            "4a9dc74d24004ed8b2de1df6e01bf50b",
            "eb98f90a388647c5bc7b242fe4371b71",
            "4aa5283cd4d845b798e9ec6be80862a2",
            "39d06cc0316342a0ae8db5111ed61ab7",
            "0d495a12bc394fce9162706c583292b9",
            "1459ff2f9a48499586be0907c1a78aef",
            "6c50f48969c94a98bbf0399bf9aca757",
            "ba9b3a1900ef441aad121504ec1958ab",
            "10a45c33d1854a1a8d183120c87e8659",
            "43c17d90e66b4ad9b041b714a90350b1",
            "ff2e398e47a34202824d29fe3f19c970",
            "72b83c0389d4429c8cfe8fa08609586d",
            "0c3c8478c68949498ceb8e2b09c23611",
            "4a47bf7ff2dd49f4b7f63ba56f7fcde4",
            "090dc26d13374fc095d811a3eba6ed9e",
            "1d25bd7372bb4d8f9ac40fcdfc1fa153",
            "9854dd076a3a4f088d12d3b18bec69ea",
            "d0dd4c1f1f634018b02be76d8114f382",
            "f61a6882c8a642a3abd98583b171620d",
            "f6d3676083cd449395248413c1531bc3",
            "d1aeeae18bef4c31999a483e8fef8cd6",
            "a72f3dced778467ab1d65a2af4fe0279",
            "e738089c43d44f4582a9233cca509d87",
            "362b18be6a6a4c35a228276df4b883a6",
            "404fdbaf1d2a4fa0aa133b39d1649ab6",
            "e9452af5e2904363994e2daccb21642e",
            "ab1f28b1f0c64a0f8dbfe12bb7128bea",
            "1bf5b58df0b74c8685959f044c121969",
            "505397980c8c423eb050a4bef047e737",
            "c183564817d54fb69b5397ee6f8d3d04",
            "09ed75f664b642b49158d0cbf760a008",
            "6ae9a98600da496abebada6021b09477",
            "52ee27515e4b4f3eb44072956b4b1a78",
            "b42307f86fd940f1b53635d7a9260c0a",
            "7bf62f6af365466ca2d7c96da7a98614",
            "718052b7ab13499eab913c81ea581a96",
            "8ccf055a18f64e0d87f4281b1983c433",
            "070dbb81c1e14f8ebba6cc219b4f5ef4",
            "31ed823980e3497bab895e6fd915e5a6",
            "925fb243de964308bb4e50f424313bd6",
            "5ea614d96f0d4109b7ec3ed3b0439e53",
            "132c1a4567c64223af1ba1f356e22e30",
            "a3c414dbaec943d69534ad59d72ff452",
            "289ee96c17154d179c72c83f71aa270e",
            "4463a91a71f143aab72721256b517d6c",
            "46bdad17ff2348cc816e2c9a59e2afab",
            "a7928b8ab144446db438566835ee3bd2",
            "77636ba1e0654553929b543e7c9ee2b6",
            "1d03f55123e44a41994055b9afc51fd4",
            "a66bbd8b097b4308b17de55afcad526f",
            "ff7f179c151346dba2b3bddf96e97e7e"
          ]
        },
        "id": "Gyqb2E2I3x2E",
        "outputId": "180927ba-69c3-453f-d10e-faa0dea4a569"
      },
      "execution_count": 10,
      "outputs": [
        {
          "output_type": "display_data",
          "data": {
            "text/plain": [
              "Downloading (…)okenizer_config.json:   0%|          | 0.00/350 [00:00<?, ?B/s]"
            ],
            "application/vnd.jupyter.widget-view+json": {
              "version_major": 2,
              "version_minor": 0,
              "model_id": "db96924aa56e45958f37e4caf5523f2c"
            }
          },
          "metadata": {}
        },
        {
          "output_type": "display_data",
          "data": {
            "text/plain": [
              "Downloading (…)solve/main/vocab.txt:   0%|          | 0.00/232k [00:00<?, ?B/s]"
            ],
            "application/vnd.jupyter.widget-view+json": {
              "version_major": 2,
              "version_minor": 0,
              "model_id": "3c3cabde6c934873a839d63349b77384"
            }
          },
          "metadata": {}
        },
        {
          "output_type": "display_data",
          "data": {
            "text/plain": [
              "Downloading (…)/main/tokenizer.json:   0%|          | 0.00/466k [00:00<?, ?B/s]"
            ],
            "application/vnd.jupyter.widget-view+json": {
              "version_major": 2,
              "version_minor": 0,
              "model_id": "ba9b3a1900ef441aad121504ec1958ab"
            }
          },
          "metadata": {}
        },
        {
          "output_type": "display_data",
          "data": {
            "text/plain": [
              "Downloading (…)cial_tokens_map.json:   0%|          | 0.00/112 [00:00<?, ?B/s]"
            ],
            "application/vnd.jupyter.widget-view+json": {
              "version_major": 2,
              "version_minor": 0,
              "model_id": "f61a6882c8a642a3abd98583b171620d"
            }
          },
          "metadata": {}
        },
        {
          "output_type": "display_data",
          "data": {
            "text/plain": [
              "Downloading (…)lve/main/config.json:   0%|          | 0.00/612 [00:00<?, ?B/s]"
            ],
            "application/vnd.jupyter.widget-view+json": {
              "version_major": 2,
              "version_minor": 0,
              "model_id": "c183564817d54fb69b5397ee6f8d3d04"
            }
          },
          "metadata": {}
        },
        {
          "output_type": "display_data",
          "data": {
            "text/plain": [
              "Downloading pytorch_model.bin:   0%|          | 0.00/90.9M [00:00<?, ?B/s]"
            ],
            "application/vnd.jupyter.widget-view+json": {
              "version_major": 2,
              "version_minor": 0,
              "model_id": "5ea614d96f0d4109b7ec3ed3b0439e53"
            }
          },
          "metadata": {}
        }
      ]
    },
    {
      "cell_type": "markdown",
      "source": [
        "In order to fine-tune the model we need to construct sentence pairs. These pairs consists of a \"user-input\" and a sentence from the Wiki-passage\n",
        "\n",
        "As stated earlier, the \"user-input\" is a genereated human-like input. The input from is genereated from the same sentence as the Wiki-passage which it is matched with. \n",
        "\n",
        "We note that this isn't the best case senario, as it can be interperted as the dataset is traning it self and creates a circle dependence. But we see it as being a \"optimal\" scenario instead."
      ],
      "metadata": {
        "id": "VmbqJbBBAh0u"
      }
    },
    {
      "cell_type": "code",
      "source": [
        "def data_division(dataframe, sample_size:int):\n",
        "\n",
        "  selected_sentences = []\n",
        "  selected_conversation_topics = []\n",
        "\n",
        "  for c, row in dataframe.sample(sample_size).iterrows():\n",
        "    \n",
        "    selected_conversation_topics.append(row['chosen_topic'])\n",
        "\n",
        "    for resp in row['checked_sentence']:\n",
        "      pair = (row['speaker_passage'], resp)\n",
        "      selected_sentences.append(pair)\n",
        "\n",
        "  return selected_sentences, selected_conversation_topics"
      ],
      "metadata": {
        "id": "VxjuxEyr4OiI"
      },
      "execution_count": 11,
      "outputs": []
    },
    {
      "cell_type": "code",
      "source": [
        "selected_sentences_training, conversation_topics_traning = data_division(extract_train_df, len(extract_train_df.index))"
      ],
      "metadata": {
        "id": "OCgPNx7QF5nD"
      },
      "execution_count": 12,
      "outputs": []
    },
    {
      "cell_type": "code",
      "source": [
        "selected_sentences_training[0]"
      ],
      "metadata": {
        "id": "mMgOKxHj-d5_",
        "outputId": "59df2871-03be-4a33-aed1-782f35fb399b",
        "colab": {
          "base_uri": "https://localhost:8080/"
        }
      },
      "execution_count": 13,
      "outputs": [
        {
          "output_type": "execute_result",
          "data": {
            "text/plain": [
              "('From largest to smallest, the three waterfalls are the Horseshoe Falls, the American Falls and the Bridal Veil Falls.',\n",
              " 'Yes, from largest to smalled, the three are Horseshoe Falls, American Falls and Bridal Veil Falls.')"
            ]
          },
          "metadata": {},
          "execution_count": 13
        }
      ]
    },
    {
      "cell_type": "markdown",
      "source": [
        "Back to training the model..."
      ],
      "metadata": {
        "id": "hRRvOu7PGGEd"
      }
    },
    {
      "cell_type": "code",
      "source": [
        "device = torch.device('cuda' if torch.cuda.is_available() else 'cpu')\n",
        "\n",
        "print(device)\n",
        "\n",
        "# Move model to GPU\n",
        "model.to(device)"
      ],
      "metadata": {
        "colab": {
          "base_uri": "https://localhost:8080/"
        },
        "id": "RSJI1JJP7RoO",
        "outputId": "b5765cdb-f778-47cb-98bf-02bf812a8ec2"
      },
      "execution_count": 14,
      "outputs": [
        {
          "output_type": "stream",
          "name": "stdout",
          "text": [
            "cuda\n"
          ]
        },
        {
          "output_type": "execute_result",
          "data": {
            "text/plain": [
              "BertModel(\n",
              "  (embeddings): BertEmbeddings(\n",
              "    (word_embeddings): Embedding(30522, 384, padding_idx=0)\n",
              "    (position_embeddings): Embedding(512, 384)\n",
              "    (token_type_embeddings): Embedding(2, 384)\n",
              "    (LayerNorm): LayerNorm((384,), eps=1e-12, elementwise_affine=True)\n",
              "    (dropout): Dropout(p=0.1, inplace=False)\n",
              "  )\n",
              "  (encoder): BertEncoder(\n",
              "    (layer): ModuleList(\n",
              "      (0-5): 6 x BertLayer(\n",
              "        (attention): BertAttention(\n",
              "          (self): BertSelfAttention(\n",
              "            (query): Linear(in_features=384, out_features=384, bias=True)\n",
              "            (key): Linear(in_features=384, out_features=384, bias=True)\n",
              "            (value): Linear(in_features=384, out_features=384, bias=True)\n",
              "            (dropout): Dropout(p=0.1, inplace=False)\n",
              "          )\n",
              "          (output): BertSelfOutput(\n",
              "            (dense): Linear(in_features=384, out_features=384, bias=True)\n",
              "            (LayerNorm): LayerNorm((384,), eps=1e-12, elementwise_affine=True)\n",
              "            (dropout): Dropout(p=0.1, inplace=False)\n",
              "          )\n",
              "        )\n",
              "        (intermediate): BertIntermediate(\n",
              "          (dense): Linear(in_features=384, out_features=1536, bias=True)\n",
              "          (intermediate_act_fn): GELUActivation()\n",
              "        )\n",
              "        (output): BertOutput(\n",
              "          (dense): Linear(in_features=1536, out_features=384, bias=True)\n",
              "          (LayerNorm): LayerNorm((384,), eps=1e-12, elementwise_affine=True)\n",
              "          (dropout): Dropout(p=0.1, inplace=False)\n",
              "        )\n",
              "      )\n",
              "    )\n",
              "  )\n",
              "  (pooler): BertPooler(\n",
              "    (dense): Linear(in_features=384, out_features=384, bias=True)\n",
              "    (activation): Tanh()\n",
              "  )\n",
              ")"
            ]
          },
          "metadata": {},
          "execution_count": 14
        }
      ]
    },
    {
      "cell_type": "markdown",
      "source": [],
      "metadata": {
        "id": "Ek7rTSASESaW"
      }
    },
    {
      "cell_type": "markdown",
      "source": [
        "## Using mean-pooling\n",
        "\n",
        "Becasue of the variable-length of the input we need to transform the input into a fixed-length representation so we can pass it to our model for traning.\n",
        "\n",
        "The process involves taking the average of all the token embeddings in the sequence. More or less, this is achieved by summing up the embeddings and dividing the sum by the total number of tokens in the sequence.\n",
        "\n",
        "Note that mean-pooling does not consider the positional information or the relative importance of individual tokens within the sequence. In order to combat this we make use of a attetion mask inorder to highlight some importance in the embedding."
      ],
      "metadata": {
        "id": "URC3cNWGedJG"
      }
    },
    {
      "cell_type": "markdown",
      "source": [
        "The **mean_pooling** function performs mean pooling on token embeddings while considering an attention mask for correct averaging. It takes *model_output* and *attention_mask* as inputs.\n",
        "\n",
        "The function first extracts the token embeddings from *model_output*. It then expands the attention mask to match the dimensions of the token embeddings. The expanded mask is used to mask out the embeddings that should be ignored.\n",
        "\n",
        "Next, the masked token embeddings are summed along the second dimension (axis 1) to obtain the sum of the embeddings for each token. The attention mask is also summed along the second dimension and clamped to avoid division by zero.\n",
        "\n",
        "Finally, the masked token embeddings are divided by the clamped attention mask sum to compute the mean pooling. The resulting mean-pooled embeddings are returned."
      ],
      "metadata": {
        "id": "8nZSRNWfEGP-"
      }
    },
    {
      "cell_type": "code",
      "source": [
        "#Mean Pooling - Take attention mask into account for correct averaging\n",
        "def mean_pooling(model_output, attention_mask):\n",
        "    token_embeddings = model_output[0] #First element of model_output contains all token embeddings\n",
        "    input_mask_expanded = attention_mask.unsqueeze(-1).expand(token_embeddings.size()).float()\n",
        "    return torch.sum(token_embeddings * input_mask_expanded, 1) / torch.clamp(input_mask_expanded.sum(1), min=1e-9)"
      ],
      "metadata": {
        "id": "x9azfyoj84PR"
      },
      "execution_count": 17,
      "outputs": []
    },
    {
      "cell_type": "markdown",
      "source": [
        "The embedding is performed in the same way as desrcibes in the documentation for the all-MiniLM-L6-v2 model. One step that has been left out is the normalizaiton of the embedding. \n",
        "\n",
        "The normalization whould provide a list of benefits, such as: improved training and stability, reducing dimensionality, alignment of embedding spaces.\n",
        "\n",
        "The reason that we whould like to perform normalization is to have similarity of meaurements when evaluating the performance of the model."
      ],
      "metadata": {
        "id": "tYuqlzS0GsIl"
      }
    },
    {
      "cell_type": "code",
      "source": [
        "def perform_embedding(documents:list, device, model):\n",
        "\n",
        "  encoded_documents = tokenizer(documents, padding=True, truncation=True, return_tensors='pt')\n",
        "\n",
        "  encoded_documents.to(device)\n",
        "  with torch.no_grad():\n",
        "      model_output_documents = model(**encoded_documents)\n",
        "\n",
        "  # Perform pooling\n",
        "  embedding = mean_pooling(model_output_documents, encoded_documents['attention_mask'])\n",
        "\n",
        "  # Normalize embedding\n",
        "  embedding = F.normalize(embedding, p=2, dim=1)\n",
        "\n",
        "  return embedding"
      ],
      "metadata": {
        "id": "WGcVqRxHRLj8"
      },
      "execution_count": 15,
      "outputs": []
    },
    {
      "cell_type": "code",
      "source": [
        "sentence_embeddings = perform_embedding(documents = selected_sentences_training, device = device, model = model)"
      ],
      "metadata": {
        "id": "txEaeBia89kL"
      },
      "execution_count": 18,
      "outputs": []
    },
    {
      "cell_type": "markdown",
      "source": [
        "## Visualizing Cluster with Hypertools\n",
        "\n",
        "In order to get a better understanding of the dataset we will use Hypertools to transform the very high dimensional space into a something we can understand. \n",
        "\n",
        "We will generate a 3-dimensional wiev of the embeddings and color in correspondence to k-mean clusters. The amount of clusters corresponds to the amount of topics that is included in the dataset."
      ],
      "metadata": {
        "id": "Yjm5y_7mfl9j"
      }
    },
    {
      "cell_type": "code",
      "source": [
        "%pip install hypertools"
      ],
      "metadata": {
        "id": "_lJznxcvpGWe",
        "outputId": "d3045936-8c44-471f-ff8f-d2fecac35d0b",
        "colab": {
          "base_uri": "https://localhost:8080/"
        }
      },
      "execution_count": 19,
      "outputs": [
        {
          "output_type": "stream",
          "name": "stdout",
          "text": [
            "Looking in indexes: https://pypi.org/simple, https://us-python.pkg.dev/colab-wheels/public/simple/\n",
            "Collecting hypertools\n",
            "  Downloading hypertools-0.8.0-py3-none-any.whl (59 kB)\n",
            "\u001b[2K     \u001b[90m━━━━━━━━━━━━━━━━━━━━━━━━━━━━━━━━━━━━━━━━\u001b[0m \u001b[32m59.7/59.7 kB\u001b[0m \u001b[31m3.1 MB/s\u001b[0m eta \u001b[36m0:00:00\u001b[0m\n",
            "\u001b[?25hCollecting PPCA>=0.0.2 (from hypertools)\n",
            "  Downloading ppca-0.0.4-py3-none-any.whl (6.7 kB)\n",
            "Requirement already satisfied: scikit-learn>=0.24 in /usr/local/lib/python3.10/dist-packages (from hypertools) (1.2.2)\n",
            "Requirement already satisfied: pandas>=0.18.0 in /usr/local/lib/python3.10/dist-packages (from hypertools) (1.5.3)\n",
            "Requirement already satisfied: seaborn>=0.8.1 in /usr/local/lib/python3.10/dist-packages (from hypertools) (0.12.2)\n",
            "Requirement already satisfied: matplotlib>=1.5.1 in /usr/local/lib/python3.10/dist-packages (from hypertools) (3.7.1)\n",
            "Requirement already satisfied: scipy>=1.0.0 in /usr/local/lib/python3.10/dist-packages (from hypertools) (1.10.1)\n",
            "Requirement already satisfied: numpy>=1.10.4 in /usr/local/lib/python3.10/dist-packages (from hypertools) (1.22.4)\n",
            "Collecting umap-learn>=0.4.6 (from hypertools)\n",
            "  Downloading umap-learn-0.5.3.tar.gz (88 kB)\n",
            "\u001b[2K     \u001b[90m━━━━━━━━━━━━━━━━━━━━━━━━━━━━━━━━━━━━━━━━\u001b[0m \u001b[32m88.2/88.2 kB\u001b[0m \u001b[31m5.9 MB/s\u001b[0m eta \u001b[36m0:00:00\u001b[0m\n",
            "\u001b[?25h  Preparing metadata (setup.py) ... \u001b[?25l\u001b[?25hdone\n",
            "Requirement already satisfied: requests in /usr/local/lib/python3.10/dist-packages (from hypertools) (2.27.1)\n",
            "Requirement already satisfied: contourpy>=1.0.1 in /usr/local/lib/python3.10/dist-packages (from matplotlib>=1.5.1->hypertools) (1.0.7)\n",
            "Requirement already satisfied: cycler>=0.10 in /usr/local/lib/python3.10/dist-packages (from matplotlib>=1.5.1->hypertools) (0.11.0)\n",
            "Requirement already satisfied: fonttools>=4.22.0 in /usr/local/lib/python3.10/dist-packages (from matplotlib>=1.5.1->hypertools) (4.39.3)\n",
            "Requirement already satisfied: kiwisolver>=1.0.1 in /usr/local/lib/python3.10/dist-packages (from matplotlib>=1.5.1->hypertools) (1.4.4)\n",
            "Requirement already satisfied: packaging>=20.0 in /usr/local/lib/python3.10/dist-packages (from matplotlib>=1.5.1->hypertools) (23.1)\n",
            "Requirement already satisfied: pillow>=6.2.0 in /usr/local/lib/python3.10/dist-packages (from matplotlib>=1.5.1->hypertools) (8.4.0)\n",
            "Requirement already satisfied: pyparsing>=2.3.1 in /usr/local/lib/python3.10/dist-packages (from matplotlib>=1.5.1->hypertools) (3.0.9)\n",
            "Requirement already satisfied: python-dateutil>=2.7 in /usr/local/lib/python3.10/dist-packages (from matplotlib>=1.5.1->hypertools) (2.8.2)\n",
            "Requirement already satisfied: pytz>=2020.1 in /usr/local/lib/python3.10/dist-packages (from pandas>=0.18.0->hypertools) (2022.7.1)\n",
            "Requirement already satisfied: joblib>=1.1.1 in /usr/local/lib/python3.10/dist-packages (from scikit-learn>=0.24->hypertools) (1.2.0)\n",
            "Requirement already satisfied: threadpoolctl>=2.0.0 in /usr/local/lib/python3.10/dist-packages (from scikit-learn>=0.24->hypertools) (3.1.0)\n",
            "Requirement already satisfied: numba>=0.49 in /usr/local/lib/python3.10/dist-packages (from umap-learn>=0.4.6->hypertools) (0.56.4)\n",
            "Collecting pynndescent>=0.5 (from umap-learn>=0.4.6->hypertools)\n",
            "  Downloading pynndescent-0.5.10.tar.gz (1.1 MB)\n",
            "\u001b[2K     \u001b[90m━━━━━━━━━━━━━━━━━━━━━━━━━━━━━━━━━━━━━━━━\u001b[0m \u001b[32m1.1/1.1 MB\u001b[0m \u001b[31m31.9 MB/s\u001b[0m eta \u001b[36m0:00:00\u001b[0m\n",
            "\u001b[?25h  Preparing metadata (setup.py) ... \u001b[?25l\u001b[?25hdone\n",
            "Requirement already satisfied: tqdm in /usr/local/lib/python3.10/dist-packages (from umap-learn>=0.4.6->hypertools) (4.65.0)\n",
            "Requirement already satisfied: urllib3<1.27,>=1.21.1 in /usr/local/lib/python3.10/dist-packages (from requests->hypertools) (1.26.15)\n",
            "Requirement already satisfied: certifi>=2017.4.17 in /usr/local/lib/python3.10/dist-packages (from requests->hypertools) (2022.12.7)\n",
            "Requirement already satisfied: charset-normalizer~=2.0.0 in /usr/local/lib/python3.10/dist-packages (from requests->hypertools) (2.0.12)\n",
            "Requirement already satisfied: idna<4,>=2.5 in /usr/local/lib/python3.10/dist-packages (from requests->hypertools) (3.4)\n",
            "Requirement already satisfied: llvmlite<0.40,>=0.39.0dev0 in /usr/local/lib/python3.10/dist-packages (from numba>=0.49->umap-learn>=0.4.6->hypertools) (0.39.1)\n",
            "Requirement already satisfied: setuptools in /usr/local/lib/python3.10/dist-packages (from numba>=0.49->umap-learn>=0.4.6->hypertools) (67.7.2)\n",
            "Requirement already satisfied: six>=1.5 in /usr/local/lib/python3.10/dist-packages (from python-dateutil>=2.7->matplotlib>=1.5.1->hypertools) (1.16.0)\n",
            "Building wheels for collected packages: umap-learn, pynndescent\n",
            "  Building wheel for umap-learn (setup.py) ... \u001b[?25l\u001b[?25hdone\n",
            "  Created wheel for umap-learn: filename=umap_learn-0.5.3-py3-none-any.whl size=82816 sha256=3acf7a4b921a4a353dff0f5d497a7ba3c0dced0985a2a47c336bfb0fedf87c95\n",
            "  Stored in directory: /root/.cache/pip/wheels/a0/e8/c6/a37ea663620bd5200ea1ba0907ab3c217042c1d035ef606acc\n",
            "  Building wheel for pynndescent (setup.py) ... \u001b[?25l\u001b[?25hdone\n",
            "  Created wheel for pynndescent: filename=pynndescent-0.5.10-py3-none-any.whl size=55622 sha256=1875074c4844c2cc3fdaa835f4adef13f58331cbd64dc677e2ec3f8b05c555cf\n",
            "  Stored in directory: /root/.cache/pip/wheels/4a/38/5d/f60a40a66a9512b7e5e83517ebc2d1b42d857be97d135f1096\n",
            "Successfully built umap-learn pynndescent\n",
            "Installing collected packages: PPCA, pynndescent, umap-learn, hypertools\n",
            "Successfully installed PPCA-0.0.4 hypertools-0.8.0 pynndescent-0.5.10 umap-learn-0.5.3\n"
          ]
        }
      ]
    },
    {
      "cell_type": "code",
      "source": [
        "import hypertools as hyp\n",
        "\n",
        "n_clusters = len(set(conversation_topics_traning))\n",
        "\n",
        "print(\"Number of clusters:\", n_clusters)\n",
        "\n",
        "hyp.plot(sentence_embeddings.cpu().detach().numpy(), '.', n_clusters = n_clusters)"
      ],
      "metadata": {
        "id": "aKyokASdfr1W",
        "outputId": "dcdd11f2-c71c-4c98-e61c-6090c6ffffb1",
        "colab": {
          "base_uri": "https://localhost:8080/",
          "height": 635
        }
      },
      "execution_count": 20,
      "outputs": [
        {
          "output_type": "stream",
          "name": "stdout",
          "text": [
            "Number of clusters: 900\n"
          ]
        },
        {
          "output_type": "stream",
          "name": "stderr",
          "text": [
            "/usr/local/lib/python3.10/dist-packages/sklearn/cluster/_kmeans.py:870: FutureWarning: The default value of `n_init` will change from 10 to 'auto' in 1.4. Set the value of `n_init` explicitly to suppress the warning\n",
            "  warnings.warn(\n",
            "/usr/local/lib/python3.10/dist-packages/hypertools/plot/plot.py:508: VisibleDeprecationWarning: Creating an ndarray from ragged nested sequences (which is a list-or-tuple of lists-or-tuples-or ndarrays with different lengths or shapes) is deprecated. If you meant to do this, you must specify 'dtype=object' when creating the ndarray.\n",
            "  kwargs[kwarg]=np.array(kwargs[kwarg])\n"
          ]
        },
        {
          "output_type": "execute_result",
          "data": {
            "text/plain": [
              "<hypertools.datageometry.DataGeometry at 0x7fe0b7d35bd0>"
            ]
          },
          "metadata": {},
          "execution_count": 20
        },
        {
          "output_type": "display_data",
          "data": {
            "text/plain": [
              "<Figure size 640x480 with 1 Axes>"
            ],
            "image/png": "[encoded data removed]"
          },
          "metadata": {}
        }
      ]
    },
    {
      "cell_type": "markdown",
      "source": [
        "## Model usage"
      ],
      "metadata": {
        "id": "OakTGe1WSTWE"
      }
    },
    {
      "cell_type": "code",
      "source": [
        "%pip install hnswlib"
      ],
      "metadata": {
        "id": "8u1tCMbf5UBd",
        "outputId": "cb8a2f51-36be-46f8-c159-e721b44ba062",
        "colab": {
          "base_uri": "https://localhost:8080/"
        }
      },
      "execution_count": 21,
      "outputs": [
        {
          "output_type": "stream",
          "name": "stdout",
          "text": [
            "Looking in indexes: https://pypi.org/simple, https://us-python.pkg.dev/colab-wheels/public/simple/\n",
            "Collecting hnswlib\n",
            "  Downloading hnswlib-0.7.0.tar.gz (33 kB)\n",
            "  Installing build dependencies ... \u001b[?25l\u001b[?25hdone\n",
            "  Getting requirements to build wheel ... \u001b[?25l\u001b[?25hdone\n",
            "  Preparing metadata (pyproject.toml) ... \u001b[?25l\u001b[?25hdone\n",
            "Requirement already satisfied: numpy in /usr/local/lib/python3.10/dist-packages (from hnswlib) (1.22.4)\n",
            "Building wheels for collected packages: hnswlib\n",
            "  Building wheel for hnswlib (pyproject.toml) ... \u001b[?25l\u001b[?25hdone\n",
            "  Created wheel for hnswlib: filename=hnswlib-0.7.0-cp310-cp310-linux_x86_64.whl size=2119773 sha256=be55a682cc81d364a2e03cb8ad54aaec0ed2e232d6804c711d599ee38c048dcd\n",
            "  Stored in directory: /root/.cache/pip/wheels/8a/ae/ec/235a682e0041fbaeee389843670581ec6c66872db856dfa9a4\n",
            "Successfully built hnswlib\n",
            "Installing collected packages: hnswlib\n",
            "Successfully installed hnswlib-0.7.0\n"
          ]
        }
      ]
    },
    {
      "cell_type": "markdown",
      "source": [
        "In order to search the embedding vector space we perform **k-nearest neighbors** (KNN) query. This works by creating a index using hnswlib, this is to improve the efficiency of the search.\n",
        "\n",
        "We then perform the embedding process on the query, which in our case is the *speaker_passage*, and calculates the absolute distance to the *k* closest elements in the index."
      ],
      "metadata": {
        "id": "kycQg6kZnAl1"
      }
    },
    {
      "cell_type": "code",
      "source": [
        "import hnswlib\n",
        "\n",
        "# Create the HNSW index\n",
        "index = hnswlib.Index(space='l2', dim=sentence_embeddings.shape[1])\n",
        "index.init_index(max_elements=len(sentence_embeddings), ef_construction=200, M=16)\n",
        "\n",
        "# Add sentence embeddings to the index\n",
        "index.add_items(sentence_embeddings.cpu().numpy())"
      ],
      "metadata": {
        "id": "yRxSbw3A8LbN"
      },
      "execution_count": 22,
      "outputs": []
    },
    {
      "cell_type": "code",
      "source": [
        "# Perform a similarity search\n",
        "def search_embeddings(query:str, k, device, model):\n",
        "\n",
        "  query_embedding = perform_embedding(documents=query, device=device, model=model)\n",
        "\n",
        "  indexes, distances = index.knn_query(query_embedding.cpu(), k=k)\n",
        "\n",
        "  return indexes[0], distances, query_embedding"
      ],
      "metadata": {
        "id": "ytFXNh27Hf60"
      },
      "execution_count": 23,
      "outputs": []
    },
    {
      "cell_type": "markdown",
      "source": [
        "Get a random speaker passage from the training dataset just to verify that we can use the model"
      ],
      "metadata": {
        "id": "9wyUh1uPk6zS"
      }
    },
    {
      "cell_type": "code",
      "source": [
        "random_message = list(extract_train_df.sample(1).to_dict()['speaker_passage'].values())[0]\n",
        "message = [random_message]\n",
        "\n",
        "message"
      ],
      "metadata": {
        "id": "fu_ACA-qO8PO",
        "outputId": "c44a7602-bd83-4447-fb33-d651a17f3e0b",
        "colab": {
          "base_uri": "https://localhost:8080/"
        }
      },
      "execution_count": 24,
      "outputs": [
        {
          "output_type": "execute_result",
          "data": {
            "text/plain": [
              "['Not only are there hybrid electric cars, they actually have trucks and buses too!']"
            ]
          },
          "metadata": {},
          "execution_count": 24
        }
      ]
    },
    {
      "cell_type": "code",
      "source": [
        "indexes, distances, query_embedding = search_embeddings(query=message, k=10, device=device, model=model)\n",
        "\n",
        "print(indexes)"
      ],
      "metadata": {
        "id": "4R3ikzESBP2y",
        "outputId": "e5012d54-6f1b-47ed-a40e-b72206aa8b7d",
        "colab": {
          "base_uri": "https://localhost:8080/"
        }
      },
      "execution_count": 25,
      "outputs": [
        {
          "output_type": "stream",
          "name": "stdout",
          "text": [
            "[ 734  367  841 1719  248    3  738  576 1414 2109]\n"
          ]
        }
      ]
    },
    {
      "cell_type": "code",
      "source": [
        "query_subset = []\n",
        "\n",
        "for i, ind in enumerate(indexes):\n",
        "  print(\"Distance:\", distances[0][i], \"\\t\", selected_sentences_training[ind][1])\n",
        "  query_subset.append(selected_sentences_training[ind])"
      ],
      "metadata": {
        "id": "j1IkFb_GDc4s",
        "outputId": "17835137-78fc-4788-a0d3-b70a767ff03f",
        "colab": {
          "base_uri": "https://localhost:8080/"
        }
      },
      "execution_count": 26,
      "outputs": [
        {
          "output_type": "stream",
          "name": "stdout",
          "text": [
            "Distance: 0.6035444 \t Not only are there hybrid electric cars, they actually have trucks and buses too!\n",
            "Distance: 0.67148685 \t Yeah. I really want to get one of their hybrids which is the most common hybrid electric vehicle.\n",
            "Distance: 0.73404145 \t I agree, I recommend you check out their line of hybrid electric vehicles as well.\n",
            "Distance: 0.7583889 \t Well Hybrids can have many configurations but the most popular ones are powered by li-po batteries like the Tesla. \n",
            "Distance: 0.7679487 \t Yeah, they have been making those cars since 1997. Have they saved the world yet? lol\n",
            "Distance: 0.8537218 \t A hybrid vehicle uses two or more distinct types of power\n",
            "Distance: 0.9117221 \t It's really cool how hybrid energy vehicles can even use efficiency-improving technologies like regenerative brakes, so innovative!\n",
            "Distance: 1.0663815 \t Really? I would so get a prius! It's the world's top selling hybrid with over 6 million units sold worldwide\n",
            "Distance: 1.1215851 \t I do, as it is one of the world's top selling hybrids, others must as well. \n",
            "Distance: 1.1621681 \t More cars and more improvements for the world I hope! They passed the 250 k units in September\n"
          ]
        }
      ]
    },
    {
      "cell_type": "markdown",
      "source": [
        "## Looking at the result\n",
        "\n",
        "Hypertools has it's limitations, so in order to check the how the results look in comparison to the query embedding we will use *matplotlib.pyplot*.\n",
        "\n",
        "Note: Having a 2-dimensional representation of such a high dimensional vectorspace that the embeddings are isn't optimal. But it is better than nothing 😉.\n",
        "\n",
        "\n",
        "\n"
      ],
      "metadata": {
        "id": "MR-006OwSXh0"
      }
    },
    {
      "cell_type": "code",
      "source": [
        "selected_sentences_embedding = perform_embedding(documents=query_subset, device=device, model=model)"
      ],
      "metadata": {
        "id": "B78nIgSxNzvQ"
      },
      "execution_count": 27,
      "outputs": []
    },
    {
      "cell_type": "code",
      "source": [
        "import matplotlib.pyplot as plt\n",
        "\n",
        "plt.scatter(sentence_embeddings.cpu()[:,0] , sentence_embeddings.cpu()[:,1], c = '#a9a9a9')\n",
        "plt.scatter(selected_sentences_embedding.cpu()[:,0] , selected_sentences_embedding.cpu()[:,1], c = '#4363d8')\n",
        "plt.scatter(query_embedding.cpu()[:,0] , query_embedding.cpu()[:,1], color = '#ffe119')\n",
        "plt.show()"
      ],
      "metadata": {
        "id": "DDL1lUf2hLoo",
        "outputId": "847758ea-e607-4943-e4c4-a45af9e5c001",
        "colab": {
          "base_uri": "https://localhost:8080/",
          "height": 430
        }
      },
      "execution_count": 28,
      "outputs": [
        {
          "output_type": "display_data",
          "data": {
            "text/plain": [
              "<Figure size 640x480 with 1 Axes>"
            ],
            "image/png": "[encoded data removed]"
          },
          "metadata": {}
        }
      ]
    },
    {
      "cell_type": "markdown",
      "source": [
        "## Testing the model\n",
        "\n",
        "Now we have extracted the data, finetuned the model, and proved that it works once. Now we will have to prove that it works for more cases. \n",
        "\n",
        "Earlier we set aside 20% of the original data for testing. Becasue we are aming to create something that is working as a vector database, we want to have absolute accuracy and we are not interested in similarity. This is by we have a one-to-one comparison and not a BLEU-evaluation or similar."
      ],
      "metadata": {
        "id": "wev6lKTpGSFl"
      }
    },
    {
      "cell_type": "code",
      "source": [
        "# Get traning data\n",
        "selected_sentences_testing, _ = data_division(extract_test_df, len(extract_test_df.index))"
      ],
      "metadata": {
        "id": "Pq8ISzeOzK2J"
      },
      "execution_count": 29,
      "outputs": []
    },
    {
      "cell_type": "code",
      "source": [
        "score = 0\n",
        "\n",
        "for _, sentence_pair in enumerate(selected_sentences_testing):\n",
        "\n",
        "  indexes, distances, query_embedding = search_embeddings(query=sentence_pair[0], k=1, device=device, model=model)\n",
        "\n",
        "  results = []\n",
        "  for _, i in enumerate(indexes):\n",
        "\n",
        "    if i >= len(selected_sentences_testing):\n",
        "      break\n",
        "\n",
        "    results.append(selected_sentences_testing[i])\n",
        "  \n",
        "\n",
        "  if sentence_pair in results:\n",
        "    score += 1\n",
        "  \n",
        "print(\"Accuracy:\", score/len(selected_sentences_testing)*100, \"%\")"
      ],
      "metadata": {
        "id": "wYUv-bizGh1X",
        "outputId": "9347471b-776c-40fb-e3d3-5bc6b5764362",
        "colab": {
          "base_uri": "https://localhost:8080/"
        }
      },
      "execution_count": 30,
      "outputs": [
        {
          "output_type": "stream",
          "name": "stdout",
          "text": [
            "Accuracy: 0.1937984496124031 %\n"
          ]
        }
      ]
    },
    {
      "cell_type": "markdown",
      "source": [
        "Thats is quite bad, how does it look if we use the traning data?"
      ],
      "metadata": {
        "id": "lflaIU6nAnbC"
      }
    },
    {
      "cell_type": "code",
      "source": [
        "score = 0\n",
        "\n",
        "for _, sentence_pair in enumerate(selected_sentences_training):\n",
        "\n",
        "  indexes, distances, query_embedding = search_embeddings(query=sentence_pair[0], k=1, device=device, model=model)\n",
        "\n",
        "  results = []\n",
        "  for _, i in enumerate(indexes):\n",
        "\n",
        "    if i >= len(selected_sentences_training):\n",
        "      break\n",
        "\n",
        "    results.append(selected_sentences_training[i])\n",
        "  \n",
        "\n",
        "  if sentence_pair in results:\n",
        "    score += 1\n",
        "  \n",
        "print(\"Accuracy:\", score/len(selected_sentences_training)*100, \"%\")"
      ],
      "metadata": {
        "id": "1SaFnP_rAsZN",
        "outputId": "bf7a7899-c0f3-4b98-9e84-143591ccf261",
        "colab": {
          "base_uri": "https://localhost:8080/"
        }
      },
      "execution_count": 31,
      "outputs": [
        {
          "output_type": "stream",
          "name": "stdout",
          "text": [
            "Accuracy: 82.64220183486238 %\n"
          ]
        }
      ]
    },
    {
      "cell_type": "markdown",
      "source": [
        "## Finding the correct Wikipedia passage\n",
        "\n",
        "To wrap it up, we want to find the correct Wiki-passage. This will be perfomed by just finding the passage in the bigger Wiki-passage and presenting it to the user."
      ],
      "metadata": {
        "id": "-RhmBfQ2_Ibd"
      }
    },
    {
      "cell_type": "code",
      "source": [
        "def find_article(checked_sentence:str, data_extract):\n",
        "\n",
        "  for passage in data_extract['chosen_topic_passage']:\n",
        "\n",
        "    extracted_passage = \"\"\n",
        "\n",
        "    for line in passage:\n",
        "      extracted_passage = extracted_passage + \" \" + line\n",
        "\n",
        "    if extracted_passage.find(checked_sentence) == 1:\n",
        "      \n",
        "      return extracted_passage"
      ],
      "metadata": {
        "id": "W0qQQR1BA1Dy"
      },
      "execution_count": 32,
      "outputs": []
    },
    {
      "cell_type": "code",
      "source": [
        "print(\"Sentence found:\", query_subset[0][1])\n",
        "\n",
        "# Here the whole data_extract_train is passed in, so it is a lot of uncessesary searing. \n",
        "complete_wiki_passge = find_article(checked_sentence=query_subset[0][1], data_extract=data_extract_train)\n",
        "\n",
        "print(\"Wiki-passage:\", complete_wiki_passge)"
      ],
      "metadata": {
        "colab": {
          "base_uri": "https://localhost:8080/"
        },
        "id": "MoWYcTzyCgYd",
        "outputId": "b8e4ce6d-c8b5-48b3-b97a-34f301263bff"
      },
      "execution_count": 34,
      "outputs": [
        {
          "output_type": "stream",
          "name": "stdout",
          "text": [
            "Sentence found: The most common form of HEV is the hybrid electric car, although hybrid electric trucks (pickups and tractors) and buses also exist.\n",
            "Wiki-passage: None\n"
          ]
        }
      ]
    }
  ]
}